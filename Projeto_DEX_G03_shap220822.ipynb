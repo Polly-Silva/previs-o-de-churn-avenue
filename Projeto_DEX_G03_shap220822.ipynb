{
  "nbformat": 4,
  "nbformat_minor": 0,
  "metadata": {
    "colab": {
      "provenance": []
    },
    "kernelspec": {
      "name": "python3",
      "display_name": "Python 3"
    },
    "language_info": {
      "name": "python"
    }
  },
  "cells": [
    {
      "cell_type": "markdown",
      "source": [
        "\n",
        "# Projeto DEX"
      ],
      "metadata": {
        "id": "sPOI4ToSSnSZ"
      }
    },
    {
      "cell_type": "markdown",
      "source": [
        "#1. Business Understanding"
      ],
      "metadata": {
        "id": "iP-9dZRPaLIx"
      }
    },
    {
      "cell_type": "markdown",
      "source": [
        "#2. Data Understanding"
      ],
      "metadata": {
        "id": "f2XzjZetaVhN"
      }
    },
    {
      "cell_type": "markdown",
      "source": [
        "##Importando bibliotecas"
      ],
      "metadata": {
        "id": "RXf6vPIESwH5"
      }
    },
    {
      "cell_type": "code",
      "execution_count": null,
      "metadata": {
        "id": "KbXw3rhtSd-0"
      },
      "outputs": [],
      "source": [
        "import numpy as np\n",
        "import pandas as pd\n",
        "import matplotlib.pyplot as plt\n",
        "import seaborn as sns\n",
        "\n",
        "import warnings\n",
        "warnings.filterwarnings(\"ignore\")"
      ]
    },
    {
      "cell_type": "markdown",
      "source": [
        "##Funções"
      ],
      "metadata": {
        "id": "hHF1D6P29wfP"
      }
    },
    {
      "cell_type": "code",
      "source": [
        "def concat_info(df1, df2, axis=0):\n",
        "  \"\"\"Concatena dois dataframes e imprime uma descrição\n",
        "  do dataframe final.\"\"\"\n",
        "\n",
        "  # Concatenando os dataframes\n",
        "  df_concatenado = pd.concat((df1, df2), axis=axis)\n",
        "\n",
        "  # Filtrando clientes que realizaram mais de 3 evasões\n",
        "  # idx_drop = df_concatenado[df_concatenado['AccountID'].isin(drop_evasions['index'])].index\n",
        "  # df_concatenado = df_concatenado.drop(index=idx_drop)\n",
        "\n",
        "  # Calculando a porcentagem de Ids únicos\n",
        "  pct_df1 = round((df1[\"AccountID\"].nunique()/df1.shape[0])*100, 2)\n",
        "  pct_df2 = round((df2[\"AccountID\"].nunique()/df2.shape[0])*100, 2)\n",
        "  pct_concatenado = round((df_concatenado[\"AccountID\"].nunique()/df_concatenado.shape[0])*100, 2)\n",
        "\n",
        "  # Imprimindo o shape e pct das partes e do todo\n",
        "  print('_'*50 + '\\n')\n",
        "\n",
        "  print(f'Dimensões do dataframe 1: {df1.shape} \\nPct de IDs únicos: {pct_df1}%\\n')\n",
        "  print(f'Dimensões do dataframe 2: {df2.shape} \\nPct de IDs únicos: {pct_df2}%\\n')\n",
        "  print(f'Dimensões do dataframe completo: {df_concatenado.shape} \\nPct de IDs únicos: {pct_concatenado}%')\n",
        "\n",
        "  # Imprimindo as informações gerais do df final\n",
        "  print('_'*50 + '\\n')\n",
        "\n",
        "  df_concatenado.info()\n",
        "  print('_'*50 + '\\n')\n",
        "\n",
        "  return df_concatenado     # Retornando o df concatenado"
      ],
      "metadata": {
        "id": "0xbVesmN9vah"
      },
      "execution_count": null,
      "outputs": []
    },
    {
      "cell_type": "markdown",
      "source": [
        "## Importando o dataset"
      ],
      "metadata": {
        "id": "PQIVPu3oS7DT"
      }
    },
    {
      "cell_type": "markdown",
      "source": [
        "Alterar para o drive do grupo ou de quem estiver rodando."
      ],
      "metadata": {
        "id": "rPfNaK4sabRB"
      }
    },
    {
      "cell_type": "code",
      "source": [
        "from google.colab import drive\n",
        "drive.mount('/content/drive')"
      ],
      "metadata": {
        "id": "nQXmj5faddOV"
      },
      "execution_count": null,
      "outputs": []
    },
    {
      "cell_type": "code",
      "source": [
        "# Dados de contas de evasão\n",
        "dfe_accounts = pd.read_csv('/content/drive/MyDrive/Projeto Dex - Avenue/Dados Avenue Atualizados/evaded_accounts/accounts.csv')\n",
        "dfe_monthly = pd.read_csv('/content/drive/MyDrive/Projeto Dex - Avenue/Dados Avenue Atualizados/evaded_accounts/monthly_custody.csv')\n",
        "dfe_movement = pd.read_csv('/content/drive/MyDrive/Projeto Dex - Avenue/Dados Avenue Atualizados/evaded_accounts/movement.csv')\n",
        "dfe_orders = pd.read_csv('/content/drive/MyDrive/Projeto Dex - Avenue/Dados Avenue Atualizados/evaded_accounts/orders.csv')\n",
        "dfe_evasion = pd.read_csv('/content/drive/MyDrive/Projeto Dex - Avenue/Dados Avenue Atualizados/evaded_accounts/evasion.csv')"
      ],
      "metadata": {
        "id": "c9-2y47hhlG2"
      },
      "execution_count": 4,
      "outputs": []
    },
    {
      "cell_type": "code",
      "source": [
        "# Dados de contas ativas\n",
        "dfa_accounts = pd.read_csv('/content/drive/MyDrive/Projeto Dex - Avenue/Dados Avenue Atualizados/active_accounts/active_accounts.csv')\n",
        "dfa_monthly = pd.read_csv('/content/drive/MyDrive/Projeto Dex - Avenue/Dados Avenue Atualizados/active_accounts/monthly_custody_active_accounts.csv')\n",
        "dfa_movement = pd.read_csv('/content/drive/MyDrive/Projeto Dex - Avenue/Dados Avenue Atualizados/active_accounts/movement_active_accounts.csv')\n",
        "dfa_orders = pd.read_csv('/content/drive/MyDrive/Projeto Dex - Avenue/Dados Avenue Atualizados/active_accounts/orders_active_accounts.csv')"
      ],
      "metadata": {
        "id": "Q7sWZXPthmuj"
      },
      "execution_count": 5,
      "outputs": []
    },
    {
      "cell_type": "markdown",
      "source": [
        "##Concatenando as tabelas (evasão + ativos) & Descrição inicial"
      ],
      "metadata": {
        "id": "V_5CLq7553TA"
      }
    },
    {
      "cell_type": "markdown",
      "source": [
        "### Tabela Evasion"
      ],
      "metadata": {
        "id": "9YWqf3ZtmB0N"
      }
    },
    {
      "cell_type": "markdown",
      "source": [
        "Para essa tabela não foi feita a concatenação, pois só temos os valores para o grupo Churn.\n"
      ],
      "metadata": {
        "id": "_BfYb0wWmGkr"
      }
    },
    {
      "cell_type": "code",
      "source": [
        "dfe_evasion.head(3)"
      ],
      "metadata": {
        "colab": {
          "base_uri": "https://localhost:8080/",
          "height": 144
        },
        "id": "69LY3Pctl6Ji",
        "outputId": "42190b89-a034-494c-dd6a-b18bea20e40b"
      },
      "execution_count": 6,
      "outputs": [
        {
          "output_type": "execute_result",
          "data": {
            "text/plain": [
              "                  AccountID        Date  PreviousTotalNetDol  TotalNetDol  \\\n",
              "0  OxnNSnrMzZJp3+6SFsfI0Q==  2021-05-06               127.30            0   \n",
              "1  qnWUizPYZBwlowp/hj9R+A==  2021-05-05                77.60            0   \n",
              "2  WNFEaYBn6tZU4q8rsUTSUA==  2021-12-22               191.77            0   \n",
              "\n",
              "   Evaded  \n",
              "0       1  \n",
              "1       1  \n",
              "2       1  "
            ],
            "text/html": [
              "\n",
              "  <div id=\"df-6bee6276-5fa1-46ef-a928-97c908e0cde1\" class=\"colab-df-container\">\n",
              "    <div>\n",
              "<style scoped>\n",
              "    .dataframe tbody tr th:only-of-type {\n",
              "        vertical-align: middle;\n",
              "    }\n",
              "\n",
              "    .dataframe tbody tr th {\n",
              "        vertical-align: top;\n",
              "    }\n",
              "\n",
              "    .dataframe thead th {\n",
              "        text-align: right;\n",
              "    }\n",
              "</style>\n",
              "<table border=\"1\" class=\"dataframe\">\n",
              "  <thead>\n",
              "    <tr style=\"text-align: right;\">\n",
              "      <th></th>\n",
              "      <th>AccountID</th>\n",
              "      <th>Date</th>\n",
              "      <th>PreviousTotalNetDol</th>\n",
              "      <th>TotalNetDol</th>\n",
              "      <th>Evaded</th>\n",
              "    </tr>\n",
              "  </thead>\n",
              "  <tbody>\n",
              "    <tr>\n",
              "      <th>0</th>\n",
              "      <td>OxnNSnrMzZJp3+6SFsfI0Q==</td>\n",
              "      <td>2021-05-06</td>\n",
              "      <td>127.30</td>\n",
              "      <td>0</td>\n",
              "      <td>1</td>\n",
              "    </tr>\n",
              "    <tr>\n",
              "      <th>1</th>\n",
              "      <td>qnWUizPYZBwlowp/hj9R+A==</td>\n",
              "      <td>2021-05-05</td>\n",
              "      <td>77.60</td>\n",
              "      <td>0</td>\n",
              "      <td>1</td>\n",
              "    </tr>\n",
              "    <tr>\n",
              "      <th>2</th>\n",
              "      <td>WNFEaYBn6tZU4q8rsUTSUA==</td>\n",
              "      <td>2021-12-22</td>\n",
              "      <td>191.77</td>\n",
              "      <td>0</td>\n",
              "      <td>1</td>\n",
              "    </tr>\n",
              "  </tbody>\n",
              "</table>\n",
              "</div>\n",
              "    <div class=\"colab-df-buttons\">\n",
              "\n",
              "  <div class=\"colab-df-container\">\n",
              "    <button class=\"colab-df-convert\" onclick=\"convertToInteractive('df-6bee6276-5fa1-46ef-a928-97c908e0cde1')\"\n",
              "            title=\"Convert this dataframe to an interactive table.\"\n",
              "            style=\"display:none;\">\n",
              "\n",
              "  <svg xmlns=\"http://www.w3.org/2000/svg\" height=\"24px\" viewBox=\"0 -960 960 960\">\n",
              "    <path d=\"M120-120v-720h720v720H120Zm60-500h600v-160H180v160Zm220 220h160v-160H400v160Zm0 220h160v-160H400v160ZM180-400h160v-160H180v160Zm440 0h160v-160H620v160ZM180-180h160v-160H180v160Zm440 0h160v-160H620v160Z\"/>\n",
              "  </svg>\n",
              "    </button>\n",
              "\n",
              "  <style>\n",
              "    .colab-df-container {\n",
              "      display:flex;\n",
              "      gap: 12px;\n",
              "    }\n",
              "\n",
              "    .colab-df-convert {\n",
              "      background-color: #E8F0FE;\n",
              "      border: none;\n",
              "      border-radius: 50%;\n",
              "      cursor: pointer;\n",
              "      display: none;\n",
              "      fill: #1967D2;\n",
              "      height: 32px;\n",
              "      padding: 0 0 0 0;\n",
              "      width: 32px;\n",
              "    }\n",
              "\n",
              "    .colab-df-convert:hover {\n",
              "      background-color: #E2EBFA;\n",
              "      box-shadow: 0px 1px 2px rgba(60, 64, 67, 0.3), 0px 1px 3px 1px rgba(60, 64, 67, 0.15);\n",
              "      fill: #174EA6;\n",
              "    }\n",
              "\n",
              "    .colab-df-buttons div {\n",
              "      margin-bottom: 4px;\n",
              "    }\n",
              "\n",
              "    [theme=dark] .colab-df-convert {\n",
              "      background-color: #3B4455;\n",
              "      fill: #D2E3FC;\n",
              "    }\n",
              "\n",
              "    [theme=dark] .colab-df-convert:hover {\n",
              "      background-color: #434B5C;\n",
              "      box-shadow: 0px 1px 3px 1px rgba(0, 0, 0, 0.15);\n",
              "      filter: drop-shadow(0px 1px 2px rgba(0, 0, 0, 0.3));\n",
              "      fill: #FFFFFF;\n",
              "    }\n",
              "  </style>\n",
              "\n",
              "    <script>\n",
              "      const buttonEl =\n",
              "        document.querySelector('#df-6bee6276-5fa1-46ef-a928-97c908e0cde1 button.colab-df-convert');\n",
              "      buttonEl.style.display =\n",
              "        google.colab.kernel.accessAllowed ? 'block' : 'none';\n",
              "\n",
              "      async function convertToInteractive(key) {\n",
              "        const element = document.querySelector('#df-6bee6276-5fa1-46ef-a928-97c908e0cde1');\n",
              "        const dataTable =\n",
              "          await google.colab.kernel.invokeFunction('convertToInteractive',\n",
              "                                                    [key], {});\n",
              "        if (!dataTable) return;\n",
              "\n",
              "        const docLinkHtml = 'Like what you see? Visit the ' +\n",
              "          '<a target=\"_blank\" href=https://colab.research.google.com/notebooks/data_table.ipynb>data table notebook</a>'\n",
              "          + ' to learn more about interactive tables.';\n",
              "        element.innerHTML = '';\n",
              "        dataTable['output_type'] = 'display_data';\n",
              "        await google.colab.output.renderOutput(dataTable, element);\n",
              "        const docLink = document.createElement('div');\n",
              "        docLink.innerHTML = docLinkHtml;\n",
              "        element.appendChild(docLink);\n",
              "      }\n",
              "    </script>\n",
              "  </div>\n",
              "\n",
              "\n",
              "<div id=\"df-16c040b4-be35-4ea5-bebf-f7bd0b6ad852\">\n",
              "  <button class=\"colab-df-quickchart\" onclick=\"quickchart('df-16c040b4-be35-4ea5-bebf-f7bd0b6ad852')\"\n",
              "            title=\"Suggest charts\"\n",
              "            style=\"display:none;\">\n",
              "\n",
              "<svg xmlns=\"http://www.w3.org/2000/svg\" height=\"24px\"viewBox=\"0 0 24 24\"\n",
              "     width=\"24px\">\n",
              "    <g>\n",
              "        <path d=\"M19 3H5c-1.1 0-2 .9-2 2v14c0 1.1.9 2 2 2h14c1.1 0 2-.9 2-2V5c0-1.1-.9-2-2-2zM9 17H7v-7h2v7zm4 0h-2V7h2v10zm4 0h-2v-4h2v4z\"/>\n",
              "    </g>\n",
              "</svg>\n",
              "  </button>\n",
              "\n",
              "<style>\n",
              "  .colab-df-quickchart {\n",
              "      --bg-color: #E8F0FE;\n",
              "      --fill-color: #1967D2;\n",
              "      --hover-bg-color: #E2EBFA;\n",
              "      --hover-fill-color: #174EA6;\n",
              "      --disabled-fill-color: #AAA;\n",
              "      --disabled-bg-color: #DDD;\n",
              "  }\n",
              "\n",
              "  [theme=dark] .colab-df-quickchart {\n",
              "      --bg-color: #3B4455;\n",
              "      --fill-color: #D2E3FC;\n",
              "      --hover-bg-color: #434B5C;\n",
              "      --hover-fill-color: #FFFFFF;\n",
              "      --disabled-bg-color: #3B4455;\n",
              "      --disabled-fill-color: #666;\n",
              "  }\n",
              "\n",
              "  .colab-df-quickchart {\n",
              "    background-color: var(--bg-color);\n",
              "    border: none;\n",
              "    border-radius: 50%;\n",
              "    cursor: pointer;\n",
              "    display: none;\n",
              "    fill: var(--fill-color);\n",
              "    height: 32px;\n",
              "    padding: 0;\n",
              "    width: 32px;\n",
              "  }\n",
              "\n",
              "  .colab-df-quickchart:hover {\n",
              "    background-color: var(--hover-bg-color);\n",
              "    box-shadow: 0 1px 2px rgba(60, 64, 67, 0.3), 0 1px 3px 1px rgba(60, 64, 67, 0.15);\n",
              "    fill: var(--button-hover-fill-color);\n",
              "  }\n",
              "\n",
              "  .colab-df-quickchart-complete:disabled,\n",
              "  .colab-df-quickchart-complete:disabled:hover {\n",
              "    background-color: var(--disabled-bg-color);\n",
              "    fill: var(--disabled-fill-color);\n",
              "    box-shadow: none;\n",
              "  }\n",
              "\n",
              "  .colab-df-spinner {\n",
              "    border: 2px solid var(--fill-color);\n",
              "    border-color: transparent;\n",
              "    border-bottom-color: var(--fill-color);\n",
              "    animation:\n",
              "      spin 1s steps(1) infinite;\n",
              "  }\n",
              "\n",
              "  @keyframes spin {\n",
              "    0% {\n",
              "      border-color: transparent;\n",
              "      border-bottom-color: var(--fill-color);\n",
              "      border-left-color: var(--fill-color);\n",
              "    }\n",
              "    20% {\n",
              "      border-color: transparent;\n",
              "      border-left-color: var(--fill-color);\n",
              "      border-top-color: var(--fill-color);\n",
              "    }\n",
              "    30% {\n",
              "      border-color: transparent;\n",
              "      border-left-color: var(--fill-color);\n",
              "      border-top-color: var(--fill-color);\n",
              "      border-right-color: var(--fill-color);\n",
              "    }\n",
              "    40% {\n",
              "      border-color: transparent;\n",
              "      border-right-color: var(--fill-color);\n",
              "      border-top-color: var(--fill-color);\n",
              "    }\n",
              "    60% {\n",
              "      border-color: transparent;\n",
              "      border-right-color: var(--fill-color);\n",
              "    }\n",
              "    80% {\n",
              "      border-color: transparent;\n",
              "      border-right-color: var(--fill-color);\n",
              "      border-bottom-color: var(--fill-color);\n",
              "    }\n",
              "    90% {\n",
              "      border-color: transparent;\n",
              "      border-bottom-color: var(--fill-color);\n",
              "    }\n",
              "  }\n",
              "</style>\n",
              "\n",
              "  <script>\n",
              "    async function quickchart(key) {\n",
              "      const quickchartButtonEl =\n",
              "        document.querySelector('#' + key + ' button');\n",
              "      quickchartButtonEl.disabled = true;  // To prevent multiple clicks.\n",
              "      quickchartButtonEl.classList.add('colab-df-spinner');\n",
              "      try {\n",
              "        const charts = await google.colab.kernel.invokeFunction(\n",
              "            'suggestCharts', [key], {});\n",
              "      } catch (error) {\n",
              "        console.error('Error during call to suggestCharts:', error);\n",
              "      }\n",
              "      quickchartButtonEl.classList.remove('colab-df-spinner');\n",
              "      quickchartButtonEl.classList.add('colab-df-quickchart-complete');\n",
              "    }\n",
              "    (() => {\n",
              "      let quickchartButtonEl =\n",
              "        document.querySelector('#df-16c040b4-be35-4ea5-bebf-f7bd0b6ad852 button');\n",
              "      quickchartButtonEl.style.display =\n",
              "        google.colab.kernel.accessAllowed ? 'block' : 'none';\n",
              "    })();\n",
              "  </script>\n",
              "</div>\n",
              "\n",
              "    </div>\n",
              "  </div>\n"
            ],
            "application/vnd.google.colaboratory.intrinsic+json": {
              "type": "dataframe",
              "variable_name": "dfe_evasion",
              "summary": "{\n  \"name\": \"dfe_evasion\",\n  \"rows\": 19575,\n  \"fields\": [\n    {\n      \"column\": \"AccountID\",\n      \"properties\": {\n        \"dtype\": \"string\",\n        \"num_unique_values\": 18054,\n        \"samples\": [\n          \"yedMxcZdn7byNpSbGFiKjw==\",\n          \"BT4pIMa0+a4Y8PgBHMnSOw==\",\n          \"u2rZ4tiESvpRlYOPvDQc1Q==\"\n        ],\n        \"semantic_type\": \"\",\n        \"description\": \"\"\n      }\n    },\n    {\n      \"column\": \"Date\",\n      \"properties\": {\n        \"dtype\": \"object\",\n        \"num_unique_values\": 362,\n        \"samples\": [\n          \"2021-12-13\",\n          \"2021-03-12\",\n          \"2021-03-10\"\n        ],\n        \"semantic_type\": \"\",\n        \"description\": \"\"\n      }\n    },\n    {\n      \"column\": \"PreviousTotalNetDol\",\n      \"properties\": {\n        \"dtype\": \"number\",\n        \"std\": 6631.000753002395,\n        \"min\": -312.82,\n        \"max\": 631186.85,\n        \"num_unique_values\": 11781,\n        \"samples\": [\n          98.4,\n          269.14,\n          85.45\n        ],\n        \"semantic_type\": \"\",\n        \"description\": \"\"\n      }\n    },\n    {\n      \"column\": \"TotalNetDol\",\n      \"properties\": {\n        \"dtype\": \"number\",\n        \"std\": 0,\n        \"min\": 0,\n        \"max\": 0,\n        \"num_unique_values\": 1,\n        \"samples\": [\n          0\n        ],\n        \"semantic_type\": \"\",\n        \"description\": \"\"\n      }\n    },\n    {\n      \"column\": \"Evaded\",\n      \"properties\": {\n        \"dtype\": \"number\",\n        \"std\": 0,\n        \"min\": 1,\n        \"max\": 1,\n        \"num_unique_values\": 1,\n        \"samples\": [\n          1\n        ],\n        \"semantic_type\": \"\",\n        \"description\": \"\"\n      }\n    }\n  ]\n}"
            }
          },
          "metadata": {},
          "execution_count": 6
        }
      ]
    },
    {
      "cell_type": "code",
      "source": [
        "dfe_evasion.info()"
      ],
      "metadata": {
        "id": "C6I0vUyTvpc-",
        "outputId": "fbdddb35-82a1-4ead-d7e1-262b7f8a04d8",
        "colab": {
          "base_uri": "https://localhost:8080/"
        }
      },
      "execution_count": 7,
      "outputs": [
        {
          "output_type": "stream",
          "name": "stdout",
          "text": [
            "<class 'pandas.core.frame.DataFrame'>\n",
            "RangeIndex: 19575 entries, 0 to 19574\n",
            "Data columns (total 5 columns):\n",
            " #   Column               Non-Null Count  Dtype  \n",
            "---  ------               --------------  -----  \n",
            " 0   AccountID            19575 non-null  object \n",
            " 1   Date                 19575 non-null  object \n",
            " 2   PreviousTotalNetDol  19575 non-null  float64\n",
            " 3   TotalNetDol          19575 non-null  int64  \n",
            " 4   Evaded               19575 non-null  int64  \n",
            "dtypes: float64(1), int64(2), object(2)\n",
            "memory usage: 764.8+ KB\n"
          ]
        }
      ]
    },
    {
      "cell_type": "markdown",
      "source": [
        "Convertendo o formato da coluna 'Date'"
      ],
      "metadata": {
        "id": "Y9_zk7kkJo6s"
      }
    },
    {
      "cell_type": "code",
      "source": [
        "dfe_evasion['Date'] = pd.to_datetime(dfe_evasion['Date'], infer_datetime_format=True)"
      ],
      "metadata": {
        "id": "pDltjg5MJU5H"
      },
      "execution_count": 8,
      "outputs": []
    },
    {
      "cell_type": "markdown",
      "source": [
        "Número de clientes que realizaram mais de 1 evasão."
      ],
      "metadata": {
        "id": "O23mcNZblTcJ"
      }
    },
    {
      "cell_type": "code",
      "source": [
        "dfe_evasion['AccountID'].duplicated().sum()"
      ],
      "metadata": {
        "colab": {
          "base_uri": "https://localhost:8080/"
        },
        "id": "IKQrAT4xlKtu",
        "outputId": "6b0a2e77-9e59-4dc7-cb1c-f3352e8d9250"
      },
      "execution_count": 9,
      "outputs": [
        {
          "output_type": "execute_result",
          "data": {
            "text/plain": [
              "1521"
            ]
          },
          "metadata": {},
          "execution_count": 9
        }
      ]
    },
    {
      "cell_type": "markdown",
      "source": [
        "Clientes que realizaram mais de 3 evasões"
      ],
      "metadata": {
        "id": "1UBYuPysUJ0R"
      }
    },
    {
      "cell_type": "code",
      "source": [
        "drop_evasions = dfe_evasion['AccountID'].value_counts().reset_index()\n",
        "drop_evasions = drop_evasions[drop_evasions['AccountID'] > 3]\n",
        "drop_evasions"
      ],
      "metadata": {
        "colab": {
          "base_uri": "https://localhost:8080/",
          "height": 356
        },
        "id": "EW_FYyKikYFF",
        "outputId": "9f5f3273-49d2-4f5e-f149-0712b6f59246"
      },
      "execution_count": 10,
      "outputs": [
        {
          "output_type": "error",
          "ename": "TypeError",
          "evalue": "'>' not supported between instances of 'str' and 'int'",
          "traceback": [
            "\u001b[0;31m---------------------------------------------------------------------------\u001b[0m",
            "\u001b[0;31mTypeError\u001b[0m                                 Traceback (most recent call last)",
            "\u001b[0;32m<ipython-input-10-39d2697d9718>\u001b[0m in \u001b[0;36m<cell line: 2>\u001b[0;34m()\u001b[0m\n\u001b[1;32m      1\u001b[0m \u001b[0mdrop_evasions\u001b[0m \u001b[0;34m=\u001b[0m \u001b[0mdfe_evasion\u001b[0m\u001b[0;34m[\u001b[0m\u001b[0;34m'AccountID'\u001b[0m\u001b[0;34m]\u001b[0m\u001b[0;34m.\u001b[0m\u001b[0mvalue_counts\u001b[0m\u001b[0;34m(\u001b[0m\u001b[0;34m)\u001b[0m\u001b[0;34m.\u001b[0m\u001b[0mreset_index\u001b[0m\u001b[0;34m(\u001b[0m\u001b[0;34m)\u001b[0m\u001b[0;34m\u001b[0m\u001b[0;34m\u001b[0m\u001b[0m\n\u001b[0;32m----> 2\u001b[0;31m \u001b[0mdrop_evasions\u001b[0m \u001b[0;34m=\u001b[0m \u001b[0mdrop_evasions\u001b[0m\u001b[0;34m[\u001b[0m\u001b[0mdrop_evasions\u001b[0m\u001b[0;34m[\u001b[0m\u001b[0;34m'AccountID'\u001b[0m\u001b[0;34m]\u001b[0m \u001b[0;34m>\u001b[0m \u001b[0;36m3\u001b[0m\u001b[0;34m]\u001b[0m\u001b[0;34m\u001b[0m\u001b[0;34m\u001b[0m\u001b[0m\n\u001b[0m\u001b[1;32m      3\u001b[0m \u001b[0mdrop_evasions\u001b[0m\u001b[0;34m\u001b[0m\u001b[0;34m\u001b[0m\u001b[0m\n",
            "\u001b[0;32m/usr/local/lib/python3.10/dist-packages/pandas/core/ops/common.py\u001b[0m in \u001b[0;36mnew_method\u001b[0;34m(self, other)\u001b[0m\n\u001b[1;32m     74\u001b[0m         \u001b[0mother\u001b[0m \u001b[0;34m=\u001b[0m \u001b[0mitem_from_zerodim\u001b[0m\u001b[0;34m(\u001b[0m\u001b[0mother\u001b[0m\u001b[0;34m)\u001b[0m\u001b[0;34m\u001b[0m\u001b[0;34m\u001b[0m\u001b[0m\n\u001b[1;32m     75\u001b[0m \u001b[0;34m\u001b[0m\u001b[0m\n\u001b[0;32m---> 76\u001b[0;31m         \u001b[0;32mreturn\u001b[0m \u001b[0mmethod\u001b[0m\u001b[0;34m(\u001b[0m\u001b[0mself\u001b[0m\u001b[0;34m,\u001b[0m \u001b[0mother\u001b[0m\u001b[0;34m)\u001b[0m\u001b[0;34m\u001b[0m\u001b[0;34m\u001b[0m\u001b[0m\n\u001b[0m\u001b[1;32m     77\u001b[0m \u001b[0;34m\u001b[0m\u001b[0m\n\u001b[1;32m     78\u001b[0m     \u001b[0;32mreturn\u001b[0m \u001b[0mnew_method\u001b[0m\u001b[0;34m\u001b[0m\u001b[0;34m\u001b[0m\u001b[0m\n",
            "\u001b[0;32m/usr/local/lib/python3.10/dist-packages/pandas/core/arraylike.py\u001b[0m in \u001b[0;36m__gt__\u001b[0;34m(self, other)\u001b[0m\n\u001b[1;32m     54\u001b[0m     \u001b[0;34m@\u001b[0m\u001b[0munpack_zerodim_and_defer\u001b[0m\u001b[0;34m(\u001b[0m\u001b[0;34m\"__gt__\"\u001b[0m\u001b[0;34m)\u001b[0m\u001b[0;34m\u001b[0m\u001b[0;34m\u001b[0m\u001b[0m\n\u001b[1;32m     55\u001b[0m     \u001b[0;32mdef\u001b[0m \u001b[0m__gt__\u001b[0m\u001b[0;34m(\u001b[0m\u001b[0mself\u001b[0m\u001b[0;34m,\u001b[0m \u001b[0mother\u001b[0m\u001b[0;34m)\u001b[0m\u001b[0;34m:\u001b[0m\u001b[0;34m\u001b[0m\u001b[0;34m\u001b[0m\u001b[0m\n\u001b[0;32m---> 56\u001b[0;31m         \u001b[0;32mreturn\u001b[0m \u001b[0mself\u001b[0m\u001b[0;34m.\u001b[0m\u001b[0m_cmp_method\u001b[0m\u001b[0;34m(\u001b[0m\u001b[0mother\u001b[0m\u001b[0;34m,\u001b[0m \u001b[0moperator\u001b[0m\u001b[0;34m.\u001b[0m\u001b[0mgt\u001b[0m\u001b[0;34m)\u001b[0m\u001b[0;34m\u001b[0m\u001b[0;34m\u001b[0m\u001b[0m\n\u001b[0m\u001b[1;32m     57\u001b[0m \u001b[0;34m\u001b[0m\u001b[0m\n\u001b[1;32m     58\u001b[0m     \u001b[0;34m@\u001b[0m\u001b[0munpack_zerodim_and_defer\u001b[0m\u001b[0;34m(\u001b[0m\u001b[0;34m\"__ge__\"\u001b[0m\u001b[0;34m)\u001b[0m\u001b[0;34m\u001b[0m\u001b[0;34m\u001b[0m\u001b[0m\n",
            "\u001b[0;32m/usr/local/lib/python3.10/dist-packages/pandas/core/series.py\u001b[0m in \u001b[0;36m_cmp_method\u001b[0;34m(self, other, op)\u001b[0m\n\u001b[1;32m   6117\u001b[0m         \u001b[0mrvalues\u001b[0m \u001b[0;34m=\u001b[0m \u001b[0mextract_array\u001b[0m\u001b[0;34m(\u001b[0m\u001b[0mother\u001b[0m\u001b[0;34m,\u001b[0m \u001b[0mextract_numpy\u001b[0m\u001b[0;34m=\u001b[0m\u001b[0;32mTrue\u001b[0m\u001b[0;34m,\u001b[0m \u001b[0mextract_range\u001b[0m\u001b[0;34m=\u001b[0m\u001b[0;32mTrue\u001b[0m\u001b[0;34m)\u001b[0m\u001b[0;34m\u001b[0m\u001b[0;34m\u001b[0m\u001b[0m\n\u001b[1;32m   6118\u001b[0m \u001b[0;34m\u001b[0m\u001b[0m\n\u001b[0;32m-> 6119\u001b[0;31m         \u001b[0mres_values\u001b[0m \u001b[0;34m=\u001b[0m \u001b[0mops\u001b[0m\u001b[0;34m.\u001b[0m\u001b[0mcomparison_op\u001b[0m\u001b[0;34m(\u001b[0m\u001b[0mlvalues\u001b[0m\u001b[0;34m,\u001b[0m \u001b[0mrvalues\u001b[0m\u001b[0;34m,\u001b[0m \u001b[0mop\u001b[0m\u001b[0;34m)\u001b[0m\u001b[0;34m\u001b[0m\u001b[0;34m\u001b[0m\u001b[0m\n\u001b[0m\u001b[1;32m   6120\u001b[0m \u001b[0;34m\u001b[0m\u001b[0m\n\u001b[1;32m   6121\u001b[0m         \u001b[0;32mreturn\u001b[0m \u001b[0mself\u001b[0m\u001b[0;34m.\u001b[0m\u001b[0m_construct_result\u001b[0m\u001b[0;34m(\u001b[0m\u001b[0mres_values\u001b[0m\u001b[0;34m,\u001b[0m \u001b[0mname\u001b[0m\u001b[0;34m=\u001b[0m\u001b[0mres_name\u001b[0m\u001b[0;34m)\u001b[0m\u001b[0;34m\u001b[0m\u001b[0;34m\u001b[0m\u001b[0m\n",
            "\u001b[0;32m/usr/local/lib/python3.10/dist-packages/pandas/core/ops/array_ops.py\u001b[0m in \u001b[0;36mcomparison_op\u001b[0;34m(left, right, op)\u001b[0m\n\u001b[1;32m    342\u001b[0m \u001b[0;34m\u001b[0m\u001b[0m\n\u001b[1;32m    343\u001b[0m     \u001b[0;32melif\u001b[0m \u001b[0mlvalues\u001b[0m\u001b[0;34m.\u001b[0m\u001b[0mdtype\u001b[0m \u001b[0;34m==\u001b[0m \u001b[0mobject\u001b[0m \u001b[0;32mor\u001b[0m \u001b[0misinstance\u001b[0m\u001b[0;34m(\u001b[0m\u001b[0mrvalues\u001b[0m\u001b[0;34m,\u001b[0m \u001b[0mstr\u001b[0m\u001b[0;34m)\u001b[0m\u001b[0;34m:\u001b[0m\u001b[0;34m\u001b[0m\u001b[0;34m\u001b[0m\u001b[0m\n\u001b[0;32m--> 344\u001b[0;31m         \u001b[0mres_values\u001b[0m \u001b[0;34m=\u001b[0m \u001b[0mcomp_method_OBJECT_ARRAY\u001b[0m\u001b[0;34m(\u001b[0m\u001b[0mop\u001b[0m\u001b[0;34m,\u001b[0m \u001b[0mlvalues\u001b[0m\u001b[0;34m,\u001b[0m \u001b[0mrvalues\u001b[0m\u001b[0;34m)\u001b[0m\u001b[0;34m\u001b[0m\u001b[0;34m\u001b[0m\u001b[0m\n\u001b[0m\u001b[1;32m    345\u001b[0m \u001b[0;34m\u001b[0m\u001b[0m\n\u001b[1;32m    346\u001b[0m     \u001b[0;32melse\u001b[0m\u001b[0;34m:\u001b[0m\u001b[0;34m\u001b[0m\u001b[0;34m\u001b[0m\u001b[0m\n",
            "\u001b[0;32m/usr/local/lib/python3.10/dist-packages/pandas/core/ops/array_ops.py\u001b[0m in \u001b[0;36mcomp_method_OBJECT_ARRAY\u001b[0;34m(op, x, y)\u001b[0m\n\u001b[1;32m    127\u001b[0m         \u001b[0mresult\u001b[0m \u001b[0;34m=\u001b[0m \u001b[0mlibops\u001b[0m\u001b[0;34m.\u001b[0m\u001b[0mvec_compare\u001b[0m\u001b[0;34m(\u001b[0m\u001b[0mx\u001b[0m\u001b[0;34m.\u001b[0m\u001b[0mravel\u001b[0m\u001b[0;34m(\u001b[0m\u001b[0;34m)\u001b[0m\u001b[0;34m,\u001b[0m \u001b[0my\u001b[0m\u001b[0;34m.\u001b[0m\u001b[0mravel\u001b[0m\u001b[0;34m(\u001b[0m\u001b[0;34m)\u001b[0m\u001b[0;34m,\u001b[0m \u001b[0mop\u001b[0m\u001b[0;34m)\u001b[0m\u001b[0;34m\u001b[0m\u001b[0;34m\u001b[0m\u001b[0m\n\u001b[1;32m    128\u001b[0m     \u001b[0;32melse\u001b[0m\u001b[0;34m:\u001b[0m\u001b[0;34m\u001b[0m\u001b[0;34m\u001b[0m\u001b[0m\n\u001b[0;32m--> 129\u001b[0;31m         \u001b[0mresult\u001b[0m \u001b[0;34m=\u001b[0m \u001b[0mlibops\u001b[0m\u001b[0;34m.\u001b[0m\u001b[0mscalar_compare\u001b[0m\u001b[0;34m(\u001b[0m\u001b[0mx\u001b[0m\u001b[0;34m.\u001b[0m\u001b[0mravel\u001b[0m\u001b[0;34m(\u001b[0m\u001b[0;34m)\u001b[0m\u001b[0;34m,\u001b[0m \u001b[0my\u001b[0m\u001b[0;34m,\u001b[0m \u001b[0mop\u001b[0m\u001b[0;34m)\u001b[0m\u001b[0;34m\u001b[0m\u001b[0;34m\u001b[0m\u001b[0m\n\u001b[0m\u001b[1;32m    130\u001b[0m     \u001b[0;32mreturn\u001b[0m \u001b[0mresult\u001b[0m\u001b[0;34m.\u001b[0m\u001b[0mreshape\u001b[0m\u001b[0;34m(\u001b[0m\u001b[0mx\u001b[0m\u001b[0;34m.\u001b[0m\u001b[0mshape\u001b[0m\u001b[0;34m)\u001b[0m\u001b[0;34m\u001b[0m\u001b[0;34m\u001b[0m\u001b[0m\n\u001b[1;32m    131\u001b[0m \u001b[0;34m\u001b[0m\u001b[0m\n",
            "\u001b[0;32mops.pyx\u001b[0m in \u001b[0;36mpandas._libs.ops.scalar_compare\u001b[0;34m()\u001b[0m\n",
            "\u001b[0;31mTypeError\u001b[0m: '>' not supported between instances of 'str' and 'int'"
          ]
        }
      ]
    },
    {
      "cell_type": "markdown",
      "source": [
        "65 clientes realizaram mais de 3 evasões. Estes registros serão excluídos da análise (Especulação de mercado)"
      ],
      "metadata": {
        "id": "4ZIrANvsPpQh"
      }
    },
    {
      "cell_type": "markdown",
      "source": [
        "Removendo clientes com mais de 3 evasões da tabela dfe_evasions"
      ],
      "metadata": {
        "id": "8sb4CiccPnB-"
      }
    },
    {
      "cell_type": "code",
      "source": [
        "idx_drop = dfe_evasion[dfe_evasion['AccountID'].isin(drop_evasions['index'])].index\n",
        "dfe_evasion = dfe_evasion.drop(index=idx_drop)\n",
        "dfe_evasion"
      ],
      "metadata": {
        "id": "WhdM7sDdQB07"
      },
      "execution_count": null,
      "outputs": []
    },
    {
      "cell_type": "markdown",
      "source": [
        "Removendo clientes com mais de 3 evasões das outras tabelas"
      ],
      "metadata": {
        "id": "V5bcey1mPwrd"
      }
    },
    {
      "cell_type": "code",
      "source": [
        "idx_eacc = dfe_accounts[dfe_accounts['AccountID'].isin(drop_evasions['index'])].index\n",
        "idx_emes = dfe_monthly[dfe_monthly['AccountID'].isin(drop_evasions['index'])].index\n",
        "idx_emov = dfe_movement[dfe_movement['AccountID'].isin(drop_evasions['index'])].index\n",
        "idx_eord = dfe_orders[dfe_orders['AccountID'].isin(drop_evasions['index'])].index\n",
        "idx_aacc = dfa_accounts[dfa_accounts['AccountID'].isin(drop_evasions['index'])].index\n",
        "idx_ames = dfa_monthly[dfa_monthly['AccountID'].isin(drop_evasions['index'])].index\n",
        "idx_amov = dfa_movement[dfa_movement['AccountID'].isin(drop_evasions['index'])].index\n",
        "idx_aord = dfa_orders[dfa_orders['AccountID'].isin(drop_evasions['index'])].index"
      ],
      "metadata": {
        "id": "RTTdslEVQv33"
      },
      "execution_count": null,
      "outputs": []
    },
    {
      "cell_type": "code",
      "source": [
        "dfe_accounts = dfe_accounts.drop(index=idx_eacc)\n",
        "dfe_monthly = dfe_monthly.drop(index=idx_emes)\n",
        "dfe_movement = dfe_movement.drop(index=idx_emov)\n",
        "dfe_orders = dfe_orders.drop(index=idx_eord)\n",
        "dfa_accounts = dfa_accounts.drop(index=idx_aacc)\n",
        "dfa_monthly = dfa_monthly.drop(index=idx_ames)\n",
        "dfa_movement = dfa_movement.drop(index=idx_amov)\n",
        "dfa_orders = dfa_orders.drop(index=idx_aord)"
      ],
      "metadata": {
        "id": "Uge_8TQFPvlH"
      },
      "execution_count": null,
      "outputs": []
    },
    {
      "cell_type": "markdown",
      "source": [
        "Resolvemos criar uma coluna com informações que auxiliem o modelo a prever casos de clientes que realizam mais de uma evasão.\n",
        "\n",
        "A coluna criada corresponde ao número de Evasões anteriores a data em questão.\n",
        "\n"
      ],
      "metadata": {
        "id": "fZ8t3YcXQZTO"
      }
    },
    {
      "cell_type": "code",
      "source": [
        "def get_previous_evasion(df):\n",
        "  df_ordenado = df.sort_values(by=['AccountID', 'Date'])\n",
        "  df_ordenado['PreviousEvasions'] = 0\n",
        "  id_atual = 'string'\n",
        "  evasoes_previas = 0\n",
        "\n",
        "  for idx in df_ordenado.index:\n",
        "    id_loop = df_ordenado.loc[idx]['AccountID']\n",
        "    if id_atual != id_loop:\n",
        "      evasoes_previas = 1\n",
        "      id_atual = id_loop\n",
        "    else:\n",
        "      df_ordenado.loc[idx, 'PreviousEvasions'] = evasoes_previas\n",
        "      evasoes_previas += 1\n",
        "    #print(idx)\n",
        "  return df_ordenado"
      ],
      "metadata": {
        "id": "etIogE5Ih2h0"
      },
      "execution_count": null,
      "outputs": []
    },
    {
      "cell_type": "code",
      "source": [
        "dfe_evasion = get_previous_evasion(dfe_evasion)\n",
        "dfe_evasion"
      ],
      "metadata": {
        "id": "Po9yT36teyFm"
      },
      "execution_count": null,
      "outputs": []
    },
    {
      "cell_type": "markdown",
      "source": [
        "Validando o resultado"
      ],
      "metadata": {
        "id": "31_CGyaNlZB7"
      }
    },
    {
      "cell_type": "code",
      "source": [
        "dfe_evasion.query(\"AccountID == '+7SYGFKJkHNigbsnw582VQ=='\")"
      ],
      "metadata": {
        "id": "BIMd9Q50lboQ"
      },
      "execution_count": null,
      "outputs": []
    },
    {
      "cell_type": "markdown",
      "source": [
        "teste - drop clientes que evadiram e voltaram"
      ],
      "metadata": {
        "id": "DbQOjJROktVE"
      }
    },
    {
      "cell_type": "code",
      "source": [
        "# idx_eacc = dfe_accounts[dfe_accounts['AccountID'].isin(returned['AccountID'])].index\n",
        "# idx_emes = dfe_monthly[dfe_monthly['AccountID'].isin(returned['AccountID'])].index\n",
        "# idx_emov = dfe_movement[dfe_movement['AccountID'].isin(returned['AccountID'])].index\n",
        "# idx_eord = dfe_orders[dfe_orders['AccountID'].isin(returned['AccountID'])].index\n",
        "# idx_aacc = dfa_accounts[dfa_accounts['AccountID'].isin(returned['AccountID'])].index\n",
        "# idx_ames = dfa_monthly[dfa_monthly['AccountID'].isin(returned['AccountID'])].index\n",
        "# idx_amov = dfa_movement[dfa_movement['AccountID'].isin(returned['AccountID'])].index\n",
        "# idx_aord = dfa_orders[dfa_orders['AccountID'].isin(returned['AccountID'])].index"
      ],
      "metadata": {
        "id": "g4s8M4M-ks2t"
      },
      "execution_count": null,
      "outputs": []
    },
    {
      "cell_type": "code",
      "source": [
        "# dfe_accounts = dfe_accounts.drop(index=idx_eacc)\n",
        "# dfe_monthly = dfe_monthly.drop(index=idx_emes)\n",
        "# dfe_movement = dfe_movement.drop(index=idx_emov)\n",
        "# dfe_orders = dfe_orders.drop(index=idx_eord)\n",
        "# dfa_accounts = dfa_accounts.drop(index=idx_aacc)\n",
        "# dfa_monthly = dfa_monthly.drop(index=idx_ames)\n",
        "# dfa_movement = dfa_movement.drop(index=idx_amov)\n",
        "# dfa_orders = dfa_orders.drop(index=idx_aord)"
      ],
      "metadata": {
        "id": "N4BQ-03rkySR"
      },
      "execution_count": null,
      "outputs": []
    },
    {
      "cell_type": "markdown",
      "source": [
        "###Tabelas Accounts"
      ],
      "metadata": {
        "id": "eKItS-A96yvf"
      }
    },
    {
      "cell_type": "markdown",
      "source": [
        "Visão geral"
      ],
      "metadata": {
        "id": "Ewh6RJP-w4aF"
      }
    },
    {
      "cell_type": "code",
      "source": [
        "dfe_accounts.head(3)"
      ],
      "metadata": {
        "id": "N76uup7cn-Dp"
      },
      "execution_count": null,
      "outputs": []
    },
    {
      "cell_type": "markdown",
      "source": [
        "O país de todos os clientes (PersonMailingCountry) é Brasil, logo não faz sentido manter esta coluna.\n",
        "\n",
        "Será removida nas etapas seguintes."
      ],
      "metadata": {
        "id": "XDzKo7d3xDEJ"
      }
    },
    {
      "cell_type": "code",
      "source": [
        "dfe_accounts['PersonMailingCountry'].value_counts()"
      ],
      "metadata": {
        "id": "tG4Dx-KctG4f"
      },
      "execution_count": null,
      "outputs": []
    },
    {
      "cell_type": "markdown",
      "source": [
        "Acrescentando a coluna Evaded aos dataframes Accounts.\n",
        "\n",
        "\n",
        "*   Cliente ativo = 0\n",
        "*   Cliente que evadiu = 1\n",
        "\n"
      ],
      "metadata": {
        "id": "nCdPpj2Nm22K"
      }
    },
    {
      "cell_type": "code",
      "source": [
        "dfe_accounts['Evaded'] = 1    # Atribuindo 1 aos clientes que evadiram\n",
        "dfa_accounts['Evaded'] = 0    # Atribuindo 0 aos clientes ativos"
      ],
      "metadata": {
        "id": "jFXz5rQ3m08Y"
      },
      "execution_count": null,
      "outputs": []
    },
    {
      "cell_type": "markdown",
      "source": [
        "Concatenando os dois dataframes"
      ],
      "metadata": {
        "id": "IhS9LGopst34"
      }
    },
    {
      "cell_type": "code",
      "source": [
        "acc = concat_info(dfe_accounts, dfa_accounts)"
      ],
      "metadata": {
        "id": "1wS27cGzCqqq"
      },
      "execution_count": null,
      "outputs": []
    },
    {
      "cell_type": "code",
      "source": [
        "acc.head(3)"
      ],
      "metadata": {
        "id": "UoMyg6U1mmKr"
      },
      "execution_count": null,
      "outputs": []
    },
    {
      "cell_type": "code",
      "source": [
        "acc.describe()"
      ],
      "metadata": {
        "id": "NvQeOZK5xtqe"
      },
      "execution_count": null,
      "outputs": []
    },
    {
      "cell_type": "code",
      "source": [
        "acc.describe(include='object')"
      ],
      "metadata": {
        "id": "uLUkCB1Cx0dD"
      },
      "execution_count": null,
      "outputs": []
    },
    {
      "cell_type": "markdown",
      "source": [
        "### Tabela Movement"
      ],
      "metadata": {
        "id": "VKNQ6eNdCjpP"
      }
    },
    {
      "cell_type": "markdown",
      "source": [
        "Visão geral"
      ],
      "metadata": {
        "id": "vjw6aK3Q16xt"
      }
    },
    {
      "cell_type": "code",
      "source": [
        "dfe_movement.head(3)"
      ],
      "metadata": {
        "id": "kJCxvl7C18my"
      },
      "execution_count": null,
      "outputs": []
    },
    {
      "cell_type": "markdown",
      "source": [
        "O significado da coluna HistoricId não ficou claro, talvez seja melhor removê-la."
      ],
      "metadata": {
        "id": "s4NnlyP63a3v"
      }
    },
    {
      "cell_type": "code",
      "source": [
        "dfe_movement['HistoricId'].unique()"
      ],
      "metadata": {
        "id": "Gq18mf2h2co6"
      },
      "execution_count": null,
      "outputs": []
    },
    {
      "cell_type": "code",
      "source": [
        "dfe_movement['Evaded'] = 1    # Atribuindo 1 aos clientes que evadiram\n",
        "dfa_movement['Evaded'] = 0    # Atribuindo 0 aos clientes ativos"
      ],
      "metadata": {
        "id": "wzFrs8YT5veU"
      },
      "execution_count": null,
      "outputs": []
    },
    {
      "cell_type": "markdown",
      "source": [
        "Concatenando os dois dataframes."
      ],
      "metadata": {
        "id": "hl2pjbU13vIJ"
      }
    },
    {
      "cell_type": "code",
      "source": [
        "mov = concat_info(dfe_movement, dfa_movement)"
      ],
      "metadata": {
        "id": "I4LjOG84CyVr"
      },
      "execution_count": null,
      "outputs": []
    },
    {
      "cell_type": "markdown",
      "source": [
        "Outras tabelas também tem a informação de datas.\n",
        "\n",
        "Em cada tabela a data tem um contexto, por isso adicionei o sufixo ao nome da coluna. Ex: Date -> DateMovement"
      ],
      "metadata": {
        "id": "S2EAzE7s30BK"
      }
    },
    {
      "cell_type": "code",
      "source": [
        "mov['Date'] = pd.to_datetime(mov['Date'], infer_datetime_format=True)\n",
        "mov = mov.rename(columns={'Date': 'DateMovement'})"
      ],
      "metadata": {
        "id": "uv7kJi4U3zPx"
      },
      "execution_count": null,
      "outputs": []
    },
    {
      "cell_type": "code",
      "source": [
        "mov.head(3)"
      ],
      "metadata": {
        "id": "XXIMTI1i5aij"
      },
      "execution_count": null,
      "outputs": []
    },
    {
      "cell_type": "code",
      "source": [
        "mov.describe()"
      ],
      "metadata": {
        "id": "iFRPOkaO4sbs"
      },
      "execution_count": null,
      "outputs": []
    },
    {
      "cell_type": "code",
      "source": [
        "mov.describe(include='object')"
      ],
      "metadata": {
        "id": "bGhZUFtu4vZM"
      },
      "execution_count": null,
      "outputs": []
    },
    {
      "cell_type": "markdown",
      "source": [
        "###Adicionando colunas com evasões prévias"
      ],
      "metadata": {
        "id": "00fNgJuUMc5b"
      }
    },
    {
      "cell_type": "code",
      "source": [
        "# Criando tabela com datas de evasões de cada cliente\n",
        "datas_evasoes = dfe_evasion.groupby(by='AccountID')['Date'].unique().reset_index()\n",
        "datas_evasoes"
      ],
      "metadata": {
        "id": "v4rnU7MX7cDg"
      },
      "execution_count": null,
      "outputs": []
    },
    {
      "cell_type": "code",
      "source": [
        "datas_evasoes.loc[17985, ['Date']][0][1]"
      ],
      "metadata": {
        "id": "W_y8UFmQOt6k"
      },
      "execution_count": null,
      "outputs": []
    },
    {
      "cell_type": "code",
      "source": [
        "# Adicionando as datas de evasões à tabela de movimentações\n",
        "mov_test = mov.merge(datas_evasoes, how='left', on='AccountID', suffixes=('', '_evasoes'))\n",
        "#mov['DateMovement_delta'] = (mov['DateMovement_last'] - mov['DateMovement']).dt.days\n",
        "mov_test"
      ],
      "metadata": {
        "id": "8CM0oBZq7sJU"
      },
      "execution_count": null,
      "outputs": []
    },
    {
      "cell_type": "code",
      "source": [
        "# Função que retorna o número de evasões prévias para cada linha\n",
        "def previous_evasion(row):\n",
        "  if row['Evaded'] == 1 and len(row['Date']) == 1:\n",
        "    if row['DateMovement'] <= row['Date'][0]:\n",
        "      return 0\n",
        "  if row['Evaded'] == 1 and len(row['Date']) == 2:\n",
        "    if row['DateMovement'] <= row['Date'][0]:\n",
        "      return 0\n",
        "    if row['DateMovement'] <= row['Date'][1]:\n",
        "      return 1\n",
        "  if row['Evaded'] == 1 and len(row['Date']) == 3:\n",
        "    if row['DateMovement'] <= row['Date'][0]:\n",
        "      return 0\n",
        "    if row['DateMovement'] <= row['Date'][1]:\n",
        "      return 1\n",
        "    if row['DateMovement'] <= row['Date'][2]:\n",
        "      return 2\n",
        ""
      ],
      "metadata": {
        "id": "9PSqbSjy7Yw2"
      },
      "execution_count": null,
      "outputs": []
    },
    {
      "cell_type": "code",
      "source": [
        "# Rodando a função - Criando uma nova coluna com o número de evasões prévias\n",
        "mov_test['previous_results'] = mov_test.apply(previous_evasion, axis=1)\n",
        "mov_test"
      ],
      "metadata": {
        "id": "kSlwjvRh-ytB"
      },
      "execution_count": null,
      "outputs": []
    },
    {
      "cell_type": "code",
      "source": [
        "#Dropando registros com data de movimentação posterior a evasão\n",
        "idx = mov_test[mov_test['previous_results'].isnull() & mov_test['Evaded'] == 1].index\n",
        "mov = mov_test.drop(index=idx)"
      ],
      "metadata": {
        "id": "DYiCQR8cH3cy"
      },
      "execution_count": null,
      "outputs": []
    },
    {
      "cell_type": "markdown",
      "source": [
        "As movimentações após evasões foram removidas, pois teoricamente são de clientes que evadiram e retornaram (estão ativos novamente) ou podem ser reflexos da evasão. Por isso, não faz sentido manter esses dados no modelo."
      ],
      "metadata": {
        "id": "V3T7L8nO70da"
      }
    },
    {
      "cell_type": "code",
      "source": [
        "#Preenchendo clientes sem evasões com 0\n",
        "mov['previous_results'].fillna(0, inplace=True)"
      ],
      "metadata": {
        "id": "YP4CsSgoKbAD"
      },
      "execution_count": null,
      "outputs": []
    },
    {
      "cell_type": "code",
      "source": [
        "mov.isnull().sum()"
      ],
      "metadata": {
        "id": "XTcDetzyKUIe"
      },
      "execution_count": null,
      "outputs": []
    },
    {
      "cell_type": "code",
      "source": [
        "mov.head()"
      ],
      "metadata": {
        "id": "ALT4JgS5K0FQ"
      },
      "execution_count": null,
      "outputs": []
    },
    {
      "cell_type": "code",
      "source": [
        "mov['previous_results'].value_counts()"
      ],
      "metadata": {
        "id": "Mg9cldeXGim0"
      },
      "execution_count": null,
      "outputs": []
    },
    {
      "cell_type": "code",
      "source": [
        "mov.shape"
      ],
      "metadata": {
        "id": "IbykAKTF9OdH"
      },
      "execution_count": null,
      "outputs": []
    },
    {
      "cell_type": "markdown",
      "source": [
        "###Filtro dos 15 dias"
      ],
      "metadata": {
        "id": "4XIxldpHMCvO"
      }
    },
    {
      "cell_type": "code",
      "source": [
        "def last_day(dataframe, id, n_evasoes, data):\n",
        "  results = dataframe.groupby([id, n_evasoes])[data].max().reset_index()\n",
        "  return results"
      ],
      "metadata": {
        "id": "Hcssya07Mv3D"
      },
      "execution_count": null,
      "outputs": []
    },
    {
      "cell_type": "markdown",
      "source": [
        "O objetivo dessa função é fornecer a data mais recente de cada cliente a depender do número de evasões prévias."
      ],
      "metadata": {
        "id": "CWDrA_em-ol8"
      }
    },
    {
      "cell_type": "code",
      "source": [
        "last_mov = last_day(mov, 'AccountID', 'previous_results', 'DateMovement')\n",
        "last_mov.head(3)"
      ],
      "metadata": {
        "id": "qllBcVy3NCFX"
      },
      "execution_count": null,
      "outputs": []
    },
    {
      "cell_type": "code",
      "source": [
        "mov"
      ],
      "metadata": {
        "id": "YMCXA1TtNVFo"
      },
      "execution_count": null,
      "outputs": []
    },
    {
      "cell_type": "code",
      "source": [
        "mov.info()"
      ],
      "metadata": {
        "id": "SiZSEVge_vqk"
      },
      "execution_count": null,
      "outputs": []
    },
    {
      "cell_type": "code",
      "source": [
        "mov = mov.merge(last_mov, how='left', on=['AccountID', 'previous_results'], suffixes=('', '_last'))\n",
        "mov['DateMovement_delta'] = (mov['DateMovement_last'] - mov['DateMovement']).dt.days\n",
        "mov.head(3)"
      ],
      "metadata": {
        "id": "daU8BvmsNPZz"
      },
      "execution_count": null,
      "outputs": []
    },
    {
      "cell_type": "markdown",
      "source": [
        "Foram geradas duas novas colunas:\n",
        "* data da última movimentação para o cliente\n",
        "* intervalo entre movimentação daquela linha e a última movimentação do cliente."
      ],
      "metadata": {
        "id": "dOx9ou4ABox5"
      }
    },
    {
      "cell_type": "code",
      "source": [
        "mov = mov[mov['DateMovement_delta'] >= 15]\n",
        "mov"
      ],
      "metadata": {
        "id": "ibF_VVCJNB6b"
      },
      "execution_count": null,
      "outputs": []
    },
    {
      "cell_type": "markdown",
      "source": [
        "### Tabela Month"
      ],
      "metadata": {
        "id": "9H2KLDz38anx"
      }
    },
    {
      "cell_type": "markdown",
      "source": [
        "Visão geral"
      ],
      "metadata": {
        "id": "avn4KiRy5M4V"
      }
    },
    {
      "cell_type": "code",
      "source": [
        "dfe_monthly.head(3)"
      ],
      "metadata": {
        "id": "uaHExUH05OGX"
      },
      "execution_count": null,
      "outputs": []
    },
    {
      "cell_type": "markdown",
      "source": [
        "Tipos únicos de ativos/contas presentes na tabela."
      ],
      "metadata": {
        "id": "LEK44k5FkDMF"
      }
    },
    {
      "cell_type": "code",
      "source": [
        "# Symbol\n",
        "dfe_monthly['Symbol'].nunique()"
      ],
      "metadata": {
        "id": "dIcEUVMA6mu9"
      },
      "execution_count": null,
      "outputs": []
    },
    {
      "cell_type": "markdown",
      "source": [
        "Aparentemente nenhuma coluna precisa ser removida."
      ],
      "metadata": {
        "id": "Qzjv41N15gjv"
      }
    },
    {
      "cell_type": "code",
      "source": [
        "dfe_monthly['Evaded'] = 1\n",
        "dfa_monthly['Evaded'] = 0"
      ],
      "metadata": {
        "id": "gYQHcKEcPk4U"
      },
      "execution_count": null,
      "outputs": []
    },
    {
      "cell_type": "markdown",
      "source": [
        "Concatenando os dois dataframes."
      ],
      "metadata": {
        "id": "Jtjdx5iB9px-"
      }
    },
    {
      "cell_type": "code",
      "source": [
        "mes = concat_info(dfe_monthly, dfa_monthly)"
      ],
      "metadata": {
        "id": "YNkiXXf6Cx7J"
      },
      "execution_count": null,
      "outputs": []
    },
    {
      "cell_type": "code",
      "source": [
        "mes['Date'] = pd.to_datetime(mes['Date'], infer_datetime_format=True)\n",
        "mes = mes.rename(columns={'Date': 'DateMes'})"
      ],
      "metadata": {
        "id": "yo08Menj5mm9"
      },
      "execution_count": null,
      "outputs": []
    },
    {
      "cell_type": "code",
      "source": [
        "mes.head(3)"
      ],
      "metadata": {
        "id": "hIbcUU9s5yRx"
      },
      "execution_count": null,
      "outputs": []
    },
    {
      "cell_type": "code",
      "source": [
        "mes.describe()"
      ],
      "metadata": {
        "id": "RiT369vF50ak"
      },
      "execution_count": null,
      "outputs": []
    },
    {
      "cell_type": "code",
      "source": [
        "mes.describe(include='object')"
      ],
      "metadata": {
        "id": "JDRud-dD53Ut"
      },
      "execution_count": null,
      "outputs": []
    },
    {
      "cell_type": "markdown",
      "source": [
        "Função 1 - Contagem de evasoes previas"
      ],
      "metadata": {
        "id": "S-_kfeA0P1LU"
      }
    },
    {
      "cell_type": "code",
      "source": [
        "mes = mes.merge(datas_evasoes, how='left', on='AccountID', suffixes=('', '_evasoes'))\n",
        "#mov['DateMovement_delta'] = (mov['DateMovement_last'] - mov['DateMovement']).dt.days\n",
        "mes"
      ],
      "metadata": {
        "id": "DsTVFPBgQy0X"
      },
      "execution_count": null,
      "outputs": []
    },
    {
      "cell_type": "code",
      "source": [
        "def previous_evasion(row):\n",
        "  if row['Evaded'] == 1 and len(row['Date']) == 1:\n",
        "    if row['DateMes'] <= row['Date'][0]:\n",
        "      return 0\n",
        "  if row['Evaded'] == 1 and len(row['Date']) == 2:\n",
        "    if row['DateMes'] <= row['Date'][0]:\n",
        "      return 0\n",
        "    if row['DateMes'] <= row['Date'][1]:\n",
        "      return 1\n",
        "  if row['Evaded'] == 1 and len(row['Date']) == 3:\n",
        "    if row['DateMes'] <= row['Date'][0]:\n",
        "      return 0\n",
        "    if row['DateMes'] <= row['Date'][1]:\n",
        "      return 1\n",
        "    if row['DateMes'] <= row['Date'][2]:\n",
        "      return 2\n",
        ""
      ],
      "metadata": {
        "id": "5-RRkX9GQJ1L"
      },
      "execution_count": null,
      "outputs": []
    },
    {
      "cell_type": "code",
      "source": [
        "mes['previous_results'] = mes.apply(previous_evasion, axis=1)\n",
        "mes"
      ],
      "metadata": {
        "id": "3vsU8u7gRC_u"
      },
      "execution_count": null,
      "outputs": []
    },
    {
      "cell_type": "code",
      "source": [
        "mes['previous_results'].isnull().sum()"
      ],
      "metadata": {
        "id": "32N0S9DqRltd"
      },
      "execution_count": null,
      "outputs": []
    },
    {
      "cell_type": "code",
      "source": [
        "#Dropando registros com data de movimentação posterior a evasão\n",
        "idx = mes[mes['previous_results'].isnull() & mes['Evaded'] == 1].index\n",
        "mes = mes.drop(index=idx)"
      ],
      "metadata": {
        "id": "x51mQM6xSBUN"
      },
      "execution_count": null,
      "outputs": []
    },
    {
      "cell_type": "markdown",
      "source": [
        "Os registros após evasões foram removidos, pois os clientes que evadiram e retornaram (estão ativos novamente) ou podem ser reflexos da evasão. Por isso, não faz sentido manter esses dados no modelo."
      ],
      "metadata": {
        "id": "P4T5nWHBlIlV"
      }
    },
    {
      "cell_type": "code",
      "source": [
        "#Preenchendo clientes sem evasões com 0\n",
        "mes['previous_results'].fillna(0, inplace=True)\n"
      ],
      "metadata": {
        "id": "O8KdIbENSp1t"
      },
      "execution_count": null,
      "outputs": []
    },
    {
      "cell_type": "markdown",
      "source": [
        "Função 2 - 15 dias"
      ],
      "metadata": {
        "id": "1BZFCnMaSWLT"
      }
    },
    {
      "cell_type": "code",
      "source": [
        "last_mes = last_day(mes, 'AccountID', 'previous_results', 'DateMes')\n",
        "last_mes.head(3)"
      ],
      "metadata": {
        "id": "oZxgVHA4S6os"
      },
      "execution_count": null,
      "outputs": []
    },
    {
      "cell_type": "code",
      "source": [
        "mes = mes.merge(last_mes, how='right', on=['AccountID', 'previous_results'], suffixes=('', '_last'))\n",
        "mes['DateMes_delta'] = (mes['DateMes_last'] - mes['DateMes']).dt.days\n",
        "mes.head(3)"
      ],
      "metadata": {
        "id": "Q_y6xHe9Yn85"
      },
      "execution_count": null,
      "outputs": []
    },
    {
      "cell_type": "code",
      "source": [
        "mes = mes[mes['DateMes_delta'] >= 15]\n",
        "mes"
      ],
      "metadata": {
        "id": "fAQTVUX2Y_dy"
      },
      "execution_count": null,
      "outputs": []
    },
    {
      "cell_type": "markdown",
      "source": [
        "### Tabela Orders"
      ],
      "metadata": {
        "id": "gY24rL0rCoLx"
      }
    },
    {
      "cell_type": "markdown",
      "source": [
        "Visão geral"
      ],
      "metadata": {
        "id": "WM-FF-qX7NbL"
      }
    },
    {
      "cell_type": "code",
      "source": [
        "dfe_orders.head(3)"
      ],
      "metadata": {
        "id": "xXtNkJSB7PxJ"
      },
      "execution_count": null,
      "outputs": []
    },
    {
      "cell_type": "markdown",
      "source": [
        "O grupo de clientes que evadem tem o volume de ordens bem menor, se comparado a clientes ativos.\n",
        "\n",
        "Além disso, a proporção de compra e venda é bem diferente. Clientes que evadem 'vendem' proporcionalmente bem mais do que clientes que não evadem.\n",
        "\n",
        "É necessário investigar se esse comportamento ocorre precocemente ou se é apenas um reflexo da decisão de evadir. Ou seja, a maior porporção de vendas(BuySell=S) seria uma causa ou efeito?"
      ],
      "metadata": {
        "id": "sHUCe4O487Kv"
      }
    },
    {
      "cell_type": "code",
      "source": [
        "dfe_orders['Evaded'] = 1\n",
        "dfa_orders['Evaded'] = 0"
      ],
      "metadata": {
        "id": "eNz0cALzTpnu"
      },
      "execution_count": null,
      "outputs": []
    },
    {
      "cell_type": "markdown",
      "source": [
        "Concatenando os dois dataframes"
      ],
      "metadata": {
        "id": "of7DZkCD9w7v"
      }
    },
    {
      "cell_type": "code",
      "source": [
        "ord = concat_info(dfe_orders, dfa_orders)"
      ],
      "metadata": {
        "id": "-kCweOPkCzN-"
      },
      "execution_count": null,
      "outputs": []
    },
    {
      "cell_type": "code",
      "source": [
        "ord['Date'] = pd.to_datetime(ord['Date'], infer_datetime_format=True)\n",
        "ord = ord.rename(columns={'Date': 'DateOrders'})"
      ],
      "metadata": {
        "id": "ab7ZysWC9zS5"
      },
      "execution_count": null,
      "outputs": []
    },
    {
      "cell_type": "code",
      "source": [
        "ord.describe()"
      ],
      "metadata": {
        "id": "3YKd3cLO-Hb3"
      },
      "execution_count": null,
      "outputs": []
    },
    {
      "cell_type": "code",
      "source": [
        "ord.describe(include='object')"
      ],
      "metadata": {
        "id": "ybXU2ZrY-Jdl"
      },
      "execution_count": null,
      "outputs": []
    },
    {
      "cell_type": "markdown",
      "source": [
        "Função 1"
      ],
      "metadata": {
        "id": "SSbTK5pzUdqx"
      }
    },
    {
      "cell_type": "code",
      "source": [
        "ord = ord.merge(datas_evasoes, how='left', on='AccountID', suffixes=('', '_evasoes'))\n",
        "#mov['DateMovement_delta'] = (mov['DateMovement_last'] - mov['DateMovement']).dt.days\n",
        "ord"
      ],
      "metadata": {
        "id": "XE0ThWzfUequ"
      },
      "execution_count": null,
      "outputs": []
    },
    {
      "cell_type": "code",
      "source": [
        "def previous_evasion(row):\n",
        "  if row['Evaded'] == 1 and len(row['Date']) == 1:\n",
        "    if row['DateOrders'] <= row['Date'][0]:\n",
        "      return 0\n",
        "  if row['Evaded'] == 1 and len(row['Date']) == 2:\n",
        "    if row['DateOrders'] <= row['Date'][0]:\n",
        "      return 0\n",
        "    if row['DateOrders'] <= row['Date'][1]:\n",
        "      return 1\n",
        "  if row['Evaded'] == 1 and len(row['Date']) == 3:\n",
        "    if row['DateOrders'] <= row['Date'][0]:\n",
        "      return 0\n",
        "    if row['DateOrders'] <= row['Date'][1]:\n",
        "      return 1\n",
        "    if row['DateOrders'] <= row['Date'][2]:\n",
        "      return 2"
      ],
      "metadata": {
        "id": "5QQIhYmfUrSc"
      },
      "execution_count": null,
      "outputs": []
    },
    {
      "cell_type": "code",
      "source": [
        "#Rodando a função\n",
        "ord['previous_results'] = ord.apply(previous_evasion, axis=1)\n",
        "ord\n"
      ],
      "metadata": {
        "id": "N5gpyhvgU6fo"
      },
      "execution_count": null,
      "outputs": []
    },
    {
      "cell_type": "code",
      "source": [
        "#Dropando registros com data de movimentação posterior a evasão\n",
        "idx = ord[ord['previous_results'].isnull() & ord['Evaded'] == 1].index\n",
        "ord = ord.drop(index=idx)"
      ],
      "metadata": {
        "id": "IbaJLLR9VMss"
      },
      "execution_count": null,
      "outputs": []
    },
    {
      "cell_type": "code",
      "source": [
        "#Preenchendo clientes sem evasões com 0\n",
        "ord['previous_results'].fillna(0, inplace=True)\n"
      ],
      "metadata": {
        "id": "gwvfVRYEVS2w"
      },
      "execution_count": null,
      "outputs": []
    },
    {
      "cell_type": "markdown",
      "source": [
        "Funçao 2"
      ],
      "metadata": {
        "id": "J7fuwKdTU5cr"
      }
    },
    {
      "cell_type": "code",
      "source": [
        "last_ord = last_day(ord, 'AccountID', 'previous_results','DateOrders')\n",
        "last_ord.head()"
      ],
      "metadata": {
        "id": "2wsvW96gNoYm"
      },
      "execution_count": null,
      "outputs": []
    },
    {
      "cell_type": "code",
      "source": [
        "ord = ord.merge(last_ord, how='right', on=['AccountID', 'previous_results'], suffixes=('', '_last'))\n",
        "ord['DateOrders_delta'] = (ord['DateOrders_last'] - ord['DateOrders']).dt.days\n",
        "ord.head()"
      ],
      "metadata": {
        "id": "xc2ab0poOIsP"
      },
      "execution_count": null,
      "outputs": []
    },
    {
      "cell_type": "code",
      "source": [
        "ord = ord[ord['DateOrders_delta'] >= 15]\n",
        "ord"
      ],
      "metadata": {
        "id": "XTHJDWtvZwSA"
      },
      "execution_count": null,
      "outputs": []
    },
    {
      "cell_type": "markdown",
      "source": [
        "### Resumo - dimensões"
      ],
      "metadata": {
        "id": "SsnnGNQ8WJ4E"
      }
    },
    {
      "cell_type": "markdown",
      "source": [
        "Embora o número de registros nas tabelas 'accounts' seja similar (~18.000) entre os conjuntos de clientes ativos e de evasão, nota-se que para as outras tabelas existem discrepâncias.\n",
        "\n",
        "Clientes ativos tem\n",
        "\n",
        "\n",
        "*   ~5 vezes mais registros na tabela month\n",
        "*   ~2,3 vezes mais registros na tabela movements\n",
        "*   ~2,2 vezes mais registros na tabela Orders\n",
        "\n",
        "\n"
      ],
      "metadata": {
        "id": "aJM83ucZbMnz"
      }
    },
    {
      "cell_type": "markdown",
      "source": [
        "### Resumo - contagem de IDs únicos"
      ],
      "metadata": {
        "id": "gZ9_EqLQXTSj"
      }
    },
    {
      "cell_type": "markdown",
      "source": [
        "O número de clientes ativos únicos é similar nas diferentes tabelas(~19.000).\n",
        "Porém, os clientes que realizaram evasão tem uma menor 'participação' na tabela Month e Orders, são aproximadamente 18.000 contas, mas apenas 14.000 possuem dados de posição mensal e apenas 9637 possuem dados de ordens.\n",
        "\n",
        "\n",
        "Isso pode indicar que parte dos clientes que realizaram evasão nem chegaram a utilizar a conta americana e comprar ativos."
      ],
      "metadata": {
        "id": "j2JnaTCyc21D"
      }
    },
    {
      "cell_type": "markdown",
      "source": [
        "### Resumo - contagem de nulos e tratamentos definidos"
      ],
      "metadata": {
        "id": "nel_osocd8-0"
      }
    },
    {
      "cell_type": "markdown",
      "source": [
        "Tratamento definido para a tabela Accounts (acc):\n",
        "\n",
        "*   Function = Tratamento escolhido: preencher com 'OTHER'\n",
        "*   ('MonthlyIncome', 'NetWorth', 'TotalInvested') =  Tratamento: preencher com Mediana\n",
        "*    PersonMailingCountry = Exclusão da coluna inteira, todos valores são 'BRA'\n",
        "*   Evaded = Essa coluna foi adicionada para diferenciação dos grupos.\n",
        "\n"
      ],
      "metadata": {
        "id": "Sc9uwRMyQfGd"
      }
    },
    {
      "cell_type": "markdown",
      "source": [
        "A tabela Movements também possui nulos, mas em menor proporção(<10):\n",
        "\n",
        "\n",
        "*   AmountTtotalDol = Tratamento: Drop(linha)\n",
        "\n"
      ],
      "metadata": {
        "id": "8NDMvQVkRDEI"
      }
    },
    {
      "cell_type": "markdown",
      "source": [
        "Questões em aberto:\n",
        "\n",
        "\n",
        "*   Remover coluna com 'HistoricId' ?\n",
        "*   Remover registros que possuem valores monetário muito baixos (ex: salário= 0.1)?\n",
        "\n"
      ],
      "metadata": {
        "id": "8KGvYkqN_qsD"
      }
    },
    {
      "cell_type": "markdown",
      "source": [
        "#3. Data preparation"
      ],
      "metadata": {
        "id": "0r2FKsAbdWWG"
      }
    },
    {
      "cell_type": "markdown",
      "source": [
        "##Tratamento de nulos"
      ],
      "metadata": {
        "id": "9gpSBVOWYra9"
      }
    },
    {
      "cell_type": "code",
      "source": [
        "accounts = acc\n",
        "movements = mov\n",
        "monthly = mes\n",
        "orders = ord"
      ],
      "metadata": {
        "id": "QhsLKAxFzcGA"
      },
      "execution_count": null,
      "outputs": []
    },
    {
      "cell_type": "code",
      "source": [
        "accounts.isnull().sum()"
      ],
      "metadata": {
        "id": "RNp6IHl2vKcl"
      },
      "execution_count": null,
      "outputs": []
    },
    {
      "cell_type": "code",
      "source": [
        "movements.isnull().sum()"
      ],
      "metadata": {
        "id": "P671kxUivc8D"
      },
      "execution_count": null,
      "outputs": []
    },
    {
      "cell_type": "code",
      "source": [
        "monthly.isnull().sum()"
      ],
      "metadata": {
        "id": "seumuObqvNrM"
      },
      "execution_count": null,
      "outputs": []
    },
    {
      "cell_type": "code",
      "source": [
        "orders.isnull().sum()"
      ],
      "metadata": {
        "id": "Ms0QEm9fvTlA"
      },
      "execution_count": null,
      "outputs": []
    },
    {
      "cell_type": "markdown",
      "source": [
        "###Tabela: Account"
      ],
      "metadata": {
        "id": "dNj6k5y3f3kn"
      }
    },
    {
      "cell_type": "markdown",
      "source": [
        "Coluna: Function"
      ],
      "metadata": {
        "id": "fpQMav85BZlf"
      }
    },
    {
      "cell_type": "code",
      "source": [
        "acc['Function'].fillna('OTHER', inplace=True)"
      ],
      "metadata": {
        "id": "iRS0Q1LVeTGQ"
      },
      "execution_count": null,
      "outputs": []
    },
    {
      "cell_type": "markdown",
      "source": [
        "Coluna: PersonMailingCountry"
      ],
      "metadata": {
        "id": "JWu5DaNbCDAt"
      }
    },
    {
      "cell_type": "code",
      "source": [
        "acc.drop('PersonMailingCountry', axis=1, inplace=True)"
      ],
      "metadata": {
        "id": "JMR1bFfmBmm9"
      },
      "execution_count": null,
      "outputs": []
    },
    {
      "cell_type": "markdown",
      "source": [
        "Colunas 'MonthlyIncome', 'NetWorth', 'TotalInvested':"
      ],
      "metadata": {
        "id": "w_Gr8iRhhAaS"
      }
    },
    {
      "cell_type": "code",
      "source": [
        "acc[['MonthlyIncome', 'NetWorth', 'TotalInvested']] = acc[['MonthlyIncome', 'NetWorth', 'TotalInvested']].fillna(acc[['MonthlyIncome', 'NetWorth', 'TotalInvested']].median())"
      ],
      "metadata": {
        "id": "FIgRLEv1qUvP"
      },
      "execution_count": null,
      "outputs": []
    },
    {
      "cell_type": "markdown",
      "source": [
        "Resultado - Contagem de Nulos"
      ],
      "metadata": {
        "id": "SxjkmA7rCIby"
      }
    },
    {
      "cell_type": "code",
      "source": [
        "acc.isnull().sum()"
      ],
      "metadata": {
        "id": "jwkQSGLMqcNK"
      },
      "execution_count": null,
      "outputs": []
    },
    {
      "cell_type": "markdown",
      "source": [
        "###Tabela Movement"
      ],
      "metadata": {
        "id": "zZyEQUoMBewm"
      }
    },
    {
      "cell_type": "markdown",
      "source": [
        "Coluna: HistoricId"
      ],
      "metadata": {
        "id": "KLrdezVhGZ_h"
      }
    },
    {
      "cell_type": "code",
      "source": [
        "mov.drop('HistoricId', axis=1, inplace=True)"
      ],
      "metadata": {
        "id": "cyANNWiDGdte"
      },
      "execution_count": null,
      "outputs": []
    },
    {
      "cell_type": "markdown",
      "source": [
        "Coluna: AmountTotalDol\n",
        "\n",
        "Removi as linhas com valores nulos pois eram apenas menos de 10."
      ],
      "metadata": {
        "id": "DlBCE-Wvqsjp"
      }
    },
    {
      "cell_type": "code",
      "source": [
        "mov.dropna(axis=0, how='any', inplace=True)"
      ],
      "metadata": {
        "id": "VwwhZ6c2tVrh"
      },
      "execution_count": null,
      "outputs": []
    },
    {
      "cell_type": "markdown",
      "source": [
        "Resultado - Contagem de Nulos"
      ],
      "metadata": {
        "id": "NpT1LGsGCRyE"
      }
    },
    {
      "cell_type": "code",
      "source": [
        "mov.isnull().sum()"
      ],
      "metadata": {
        "id": "rx7rqzwTr0Zq"
      },
      "execution_count": null,
      "outputs": []
    },
    {
      "cell_type": "markdown",
      "source": [
        "##Busca por dados inconsistentes (valores negativos)"
      ],
      "metadata": {
        "id": "Vsl1DJ2-fWcy"
      }
    },
    {
      "cell_type": "code",
      "source": [
        "acc.select_dtypes('number').min()"
      ],
      "metadata": {
        "id": "od4t2l0Lfcet"
      },
      "execution_count": null,
      "outputs": []
    },
    {
      "cell_type": "code",
      "source": [
        "mes.select_dtypes('number').min()"
      ],
      "metadata": {
        "id": "PNhAThWJf3Th"
      },
      "execution_count": null,
      "outputs": []
    },
    {
      "cell_type": "code",
      "source": [
        "mov.select_dtypes('number').min()"
      ],
      "metadata": {
        "id": "qEEc8PVogHMM"
      },
      "execution_count": null,
      "outputs": []
    },
    {
      "cell_type": "code",
      "source": [
        "ord.select_dtypes('number').min()"
      ],
      "metadata": {
        "id": "A-FUYpTRgL5y"
      },
      "execution_count": null,
      "outputs": []
    },
    {
      "cell_type": "code",
      "source": [
        "dfe_accounts.select_dtypes('number').min()"
      ],
      "metadata": {
        "id": "mxnSQ4qjgX5s"
      },
      "execution_count": null,
      "outputs": []
    },
    {
      "cell_type": "code",
      "source": [
        "dfe_monthly.select_dtypes('number').min()"
      ],
      "metadata": {
        "id": "JjRw9Rv7gdiZ"
      },
      "execution_count": null,
      "outputs": []
    },
    {
      "cell_type": "code",
      "source": [
        "dfe_movement.select_dtypes('number').min()"
      ],
      "metadata": {
        "id": "JwMvnVOlghzP"
      },
      "execution_count": null,
      "outputs": []
    },
    {
      "cell_type": "code",
      "source": [
        "dfe_movement.select_dtypes('number').min()"
      ],
      "metadata": {
        "id": "PPgVgHpugj4b"
      },
      "execution_count": null,
      "outputs": []
    },
    {
      "cell_type": "markdown",
      "source": [
        "Obs: Nem todos valores negativos são inconsistentes, depende da natureza/significado da variável.\n",
        "\n",
        "Avaliar em maiores detalhes e verificar a necessidade de tratar registros com valores muitos baixos. Ex: salário(MonthlyIncome)= $0.01."
      ],
      "metadata": {
        "id": "EJpGnua3gqns"
      }
    },
    {
      "cell_type": "markdown",
      "source": [
        "##Construct Data"
      ],
      "metadata": {
        "id": "cxS0EiwcClvl"
      }
    },
    {
      "cell_type": "markdown",
      "source": [
        "###Tabela Movement (mov)"
      ],
      "metadata": {
        "id": "zDPWb36_SVLX"
      }
    },
    {
      "cell_type": "code",
      "source": [
        "mov.head(3)"
      ],
      "metadata": {
        "id": "VDKMPj-rDWPl"
      },
      "execution_count": null,
      "outputs": []
    },
    {
      "cell_type": "markdown",
      "source": [
        "Agrupando os dados"
      ],
      "metadata": {
        "id": "zdtYUXGvSJWZ"
      }
    },
    {
      "cell_type": "code",
      "source": [
        "mov_group = mov.groupby(by='AccountID').agg({'AccountID': 'count',\n",
        "                                 'DateMovement': [min, max],\n",
        "                                 'AccountType': 'nunique',\n",
        "                                 'Description': 'nunique',\n",
        "                                 'AmountTotalDol': ['mean','sum']\n",
        "}).reset_index()\n"
      ],
      "metadata": {
        "id": "gsgGs2p4Iq2y"
      },
      "execution_count": null,
      "outputs": []
    },
    {
      "cell_type": "markdown",
      "source": [
        "Renomeando as colunas do df agrupado"
      ],
      "metadata": {
        "id": "3a_TSmn1SNoZ"
      }
    },
    {
      "cell_type": "code",
      "source": [
        "mov_group.columns = ['_'.join(col).strip() if col[1] != \"\" else col[0] for col in mov_group.columns.values]"
      ],
      "metadata": {
        "id": "iSJCOmXmQgUh"
      },
      "execution_count": null,
      "outputs": []
    },
    {
      "cell_type": "markdown",
      "source": [
        "Resultado parcial"
      ],
      "metadata": {
        "id": "QtwjO0RvSbN1"
      }
    },
    {
      "cell_type": "code",
      "source": [
        "mov_group.head(3)"
      ],
      "metadata": {
        "id": "_o-gXEqxRTAV"
      },
      "execution_count": null,
      "outputs": []
    },
    {
      "cell_type": "markdown",
      "source": [
        "Criando uma coluna com o intervalo de datas em dias\n",
        "\n",
        "*   DateMovement_delta = data máxima - data mínima\n",
        "\n"
      ],
      "metadata": {
        "id": "t8AxqpwkSeeK"
      }
    },
    {
      "cell_type": "code",
      "source": [
        "mov_group['DateMovement_delta'] = (mov_group['DateMovement_max'] - mov_group['DateMovement_min']).dt.days\n",
        "mov_group"
      ],
      "metadata": {
        "id": "diEHvKBDRgUH"
      },
      "execution_count": null,
      "outputs": []
    },
    {
      "cell_type": "markdown",
      "source": [
        "###Tabela Accounts(acc)"
      ],
      "metadata": {
        "id": "ewgfcDloTLzV"
      }
    },
    {
      "cell_type": "code",
      "source": [
        "acc.columns"
      ],
      "metadata": {
        "id": "Qs2-nv1U4uRL"
      },
      "execution_count": null,
      "outputs": []
    },
    {
      "cell_type": "code",
      "source": [
        "acc.head(3)"
      ],
      "metadata": {
        "id": "Rw1APFk2TTBU"
      },
      "execution_count": null,
      "outputs": []
    },
    {
      "cell_type": "markdown",
      "source": [
        "Criando duas novas colunas com a proporção da renda mensal e do patrimônio investidos no total."
      ],
      "metadata": {
        "id": "MYJkGv5KVJpk"
      }
    },
    {
      "cell_type": "code",
      "source": [
        "#acc['PctMonthlyInvested'] = acc['TotalInvested'] / acc['MonthlyIncome'] *100 #Proporção do salário investido em %\n",
        "#acc['PctNetInvested'] = acc['TotalInvested'] / acc['NetWorth'] *100  #Proporção do patrimônio investido em %"
      ],
      "metadata": {
        "id": "xuoBtAx9TbEW"
      },
      "execution_count": null,
      "outputs": []
    },
    {
      "cell_type": "markdown",
      "source": [
        "Investigando a coluna de estado civil"
      ],
      "metadata": {
        "id": "3XKpPKCgZvfu"
      }
    },
    {
      "cell_type": "code",
      "source": [
        "acc.head(3)"
      ],
      "metadata": {
        "id": "FC-qNMfLVSZN"
      },
      "execution_count": null,
      "outputs": []
    },
    {
      "cell_type": "markdown",
      "source": [
        "###Tabela Monthly (mes)"
      ],
      "metadata": {
        "id": "gATSkEV1kqHI"
      }
    },
    {
      "cell_type": "code",
      "source": [
        "mes.head(3)"
      ],
      "metadata": {
        "id": "wDVs3Hppko_D"
      },
      "execution_count": null,
      "outputs": []
    },
    {
      "cell_type": "code",
      "source": [
        "mes_group = mes.groupby(by='AccountID').agg({'AccountID': 'count',\n",
        "                                 'DateMes': [min, max],\n",
        "                                 'ProductCategory': 'nunique',\n",
        "                                 'Symbol': 'nunique',\n",
        "                                 'TotalNetDol': ['mean', 'sum']\n",
        "}).reset_index()"
      ],
      "metadata": {
        "id": "ePcUDp1jnaVg"
      },
      "execution_count": null,
      "outputs": []
    },
    {
      "cell_type": "code",
      "source": [
        "mes_group.columns = ['_'.join(col).strip() if col[1] != \"\" else col[0] for col in mes_group.columns.values]"
      ],
      "metadata": {
        "id": "BR1fe6ZFnMcj"
      },
      "execution_count": null,
      "outputs": []
    },
    {
      "cell_type": "code",
      "source": [
        "mes_group.head()"
      ],
      "metadata": {
        "id": "4hBl2wyLqDU4"
      },
      "execution_count": null,
      "outputs": []
    },
    {
      "cell_type": "markdown",
      "source": [
        "###Tabela Orders (ord)"
      ],
      "metadata": {
        "id": "jcckb4h8nciH"
      }
    },
    {
      "cell_type": "code",
      "source": [
        "ord.head(3)"
      ],
      "metadata": {
        "id": "CoLGdnZ0ty6D"
      },
      "execution_count": null,
      "outputs": []
    },
    {
      "cell_type": "code",
      "source": [
        "ord_group = ord.groupby(by='AccountID').agg({'AccountID': 'count',\n",
        "                                 'DateOrders': [min, max],\n",
        "                                 'ProductCategory': 'nunique',\n",
        "                                 'Symbol': 'nunique',\n",
        "                                 'TotalExecutedVolume': ['mean','sum']\n",
        "}).reset_index()"
      ],
      "metadata": {
        "id": "Y-hFqdOat3GK"
      },
      "execution_count": null,
      "outputs": []
    },
    {
      "cell_type": "code",
      "source": [
        "ord_group.columns = ['_'.join(col).strip() if col[1] != \"\" else col[0] for col in ord_group.columns.values]"
      ],
      "metadata": {
        "id": "OZ6APWRPv4Lv"
      },
      "execution_count": null,
      "outputs": []
    },
    {
      "cell_type": "markdown",
      "source": [
        "##Integrando as tabelas"
      ],
      "metadata": {
        "id": "sPhxt_ajbuoT"
      }
    },
    {
      "cell_type": "markdown",
      "source": [
        "Primeiro fiz o merge par a par (tabela accounts e outras), para verificar a correlação de cada tabela com a variável 'Evaded' que estava apenas na tabela accounts."
      ],
      "metadata": {
        "id": "Qzg1U6R-byHl"
      }
    },
    {
      "cell_type": "markdown",
      "source": [
        "Depois fiz o Merge de todas 4, são muitas colunas. Recomendo fazermos uma seleção antes da modelagem."
      ],
      "metadata": {
        "id": "S5LnnMbxwtfo"
      }
    },
    {
      "cell_type": "markdown",
      "source": [
        "###MERGE ACC & MOV"
      ],
      "metadata": {
        "id": "SzfYA_i5w2Vz"
      }
    },
    {
      "cell_type": "code",
      "source": [
        "acc_mov_merge = pd.merge(acc, mov_group, how='inner', on='AccountID')"
      ],
      "metadata": {
        "id": "emUhDAcdb4cY"
      },
      "execution_count": null,
      "outputs": []
    },
    {
      "cell_type": "markdown",
      "source": [
        "Obs: 2 registros da tabela Accounts não constam na tabela Movement. Como são poucos, usei o 'inner' para retornar apenas os registros que constam em ambas e evitar a criação de nulos"
      ],
      "metadata": {
        "id": "HQlUG-d3dRZp"
      }
    },
    {
      "cell_type": "code",
      "source": [
        "acc_mov_merge.head()"
      ],
      "metadata": {
        "id": "PLRMCg25cOJe"
      },
      "execution_count": null,
      "outputs": []
    },
    {
      "cell_type": "code",
      "source": [
        "corr = acc_mov_merge.corr()\n",
        "\n",
        "cmap = sns.diverging_palette(250, 10, as_cmap=True)\n",
        "\n",
        "fig = plt.figure(figsize=(20,15))\n",
        "sns.heatmap(corr, cmap=cmap, annot=True);"
      ],
      "metadata": {
        "id": "0PpZY4B_eeTh"
      },
      "execution_count": null,
      "outputs": []
    },
    {
      "cell_type": "markdown",
      "source": [
        "### MERGE ACC & MOV"
      ],
      "metadata": {
        "id": "4OLlEEteuswy"
      }
    },
    {
      "cell_type": "code",
      "source": [
        "acc_mes_merge = pd.merge(acc, mes_group, how='left', on='AccountID')"
      ],
      "metadata": {
        "id": "Bimu_1fDuxfW"
      },
      "execution_count": null,
      "outputs": []
    },
    {
      "cell_type": "code",
      "source": [
        "corr = acc_mes_merge.corr()\n",
        "\n",
        "cmap = sns.diverging_palette(250, 10, as_cmap=True)\n",
        "\n",
        "fig = plt.figure(figsize=(20,15))\n",
        "sns.heatmap(corr, cmap=cmap, annot=True);"
      ],
      "metadata": {
        "id": "mv2JS-KRusbl"
      },
      "execution_count": null,
      "outputs": []
    },
    {
      "cell_type": "markdown",
      "source": [
        "###MERGE ACC & ORD"
      ],
      "metadata": {
        "id": "hHsFt6ObvlfN"
      }
    },
    {
      "cell_type": "code",
      "source": [
        "acc_ord_merge = pd.merge(acc, ord_group, how='left', on='AccountID')"
      ],
      "metadata": {
        "id": "hAELPD7xvpA2"
      },
      "execution_count": null,
      "outputs": []
    },
    {
      "cell_type": "code",
      "source": [
        "corr = acc_ord_merge.corr()\n",
        "\n",
        "cmap = sns.diverging_palette(250, 10, as_cmap=True)\n",
        "\n",
        "fig = plt.figure(figsize=(20,15))\n",
        "sns.heatmap(corr, cmap=cmap, annot=True);"
      ],
      "metadata": {
        "id": "iBynV40ixCNK"
      },
      "execution_count": null,
      "outputs": []
    },
    {
      "cell_type": "markdown",
      "source": [
        "##MERGE GERAL"
      ],
      "metadata": {
        "id": "tWXpnzyqxKf4"
      }
    },
    {
      "cell_type": "code",
      "source": [
        "# df merge com 3 tabelas (accounts, movements, monthly)\n",
        "\n",
        "acc_mov_mes_merge = pd.merge(acc_mov_merge, mes_group, how='left', on='AccountID')"
      ],
      "metadata": {
        "id": "X4y81fvsxMhF"
      },
      "execution_count": null,
      "outputs": []
    },
    {
      "cell_type": "code",
      "source": [
        "# df merge com todas tabelas (account, movements, monthly, orders)\n",
        "\n",
        "df_final_merge = pd.merge(acc_mov_mes_merge, ord_group, how='left', on='AccountID')"
      ],
      "metadata": {
        "id": "w5xQsLBoxr6w"
      },
      "execution_count": null,
      "outputs": []
    },
    {
      "cell_type": "code",
      "source": [
        "corr = df_final_merge.corr()\n",
        "\n",
        "cmap = sns.diverging_palette(250, 10, as_cmap=True)\n",
        "\n",
        "fig = plt.figure(figsize=(23,15))\n",
        "sns.heatmap(corr, cmap=cmap, annot=True);"
      ],
      "metadata": {
        "id": "MCFA_2rKx5L0"
      },
      "execution_count": null,
      "outputs": []
    },
    {
      "cell_type": "markdown",
      "source": [
        "São muitas colunas. No momento rodamos o modelo com todas, mas é interessante selecionar as colunas, criar novos modelos e compará-los."
      ],
      "metadata": {
        "id": "8bDA6HIbdEGo"
      }
    },
    {
      "cell_type": "markdown",
      "source": [
        "Depois iremos renomear as colunas, mas é possível entender o significado de cada observando o 'Groupby' de cada tabela.\n",
        "\n",
        "Basicamente selecionamos algumas colunas de cada tabela e utilizamos as operações: nunique, count e mean."
      ],
      "metadata": {
        "id": "onPIizbekgNj"
      }
    },
    {
      "cell_type": "code",
      "source": [
        "df_final_merge.info()"
      ],
      "metadata": {
        "id": "iWvlIGGheK7h"
      },
      "execution_count": null,
      "outputs": []
    },
    {
      "cell_type": "markdown",
      "source": [
        "Após o Merge(Left), alguns registros ficaram com valores nulos pois eles estão presentes na tabela accounts mas não estavam nas tabelas monthly e orders.\n",
        "\n",
        "Preenchi nulos com 0, depois podemos testar outras abordagens."
      ],
      "metadata": {
        "id": "q4hsBOszebZF"
      }
    },
    {
      "cell_type": "code",
      "source": [
        "df_final_merge = df_final_merge.fillna(0)"
      ],
      "metadata": {
        "id": "bQYqqvvcewpg"
      },
      "execution_count": null,
      "outputs": []
    },
    {
      "cell_type": "code",
      "source": [
        "corr = df_final_merge.corr()\n",
        "\n",
        "cmap = sns.diverging_palette(250, 10, as_cmap=True)\n",
        "\n",
        "fig = plt.figure(figsize=(30,20))\n",
        "sns.heatmap(corr, cmap=cmap, annot=True);"
      ],
      "metadata": {
        "id": "17t8wJFjfTbF"
      },
      "execution_count": null,
      "outputs": []
    },
    {
      "cell_type": "markdown",
      "source": [
        "#4.Modelling"
      ],
      "metadata": {
        "id": "6IrP90HIpuPB"
      }
    },
    {
      "cell_type": "markdown",
      "source": [
        "Removendo colunas com datas e dados textuais."
      ],
      "metadata": {
        "id": "5jkK9NuqgJqK"
      }
    },
    {
      "cell_type": "code",
      "source": [
        "x = df_final_merge.drop(columns=['Evaded', 'AccountID', 'Function', 'PersonMailingState', 'DateMovement_min',\n",
        "                                 'DateMovement_max', 'DateMes_min', 'DateMes_max', 'DateOrders_min', 'DateOrders_max'])\n",
        "\n",
        "y = df_final_merge['Evaded']"
      ],
      "metadata": {
        "id": "xo_X4fsLeQ_b"
      },
      "execution_count": null,
      "outputs": []
    },
    {
      "cell_type": "markdown",
      "source": [
        "Importando as bibliotecas de modelagem + divisão treino/teste"
      ],
      "metadata": {
        "id": "elZ7HNulhmKJ"
      }
    },
    {
      "cell_type": "code",
      "source": [
        "from sklearn.metrics import accuracy_score, f1_score, roc_auc_score, plot_confusion_matrix\n",
        "from sklearn.tree import DecisionTreeClassifier\n",
        "from sklearn.model_selection import train_test_split\n",
        "\n",
        "x_train, x_test, y_train, y_test = train_test_split(x, y, test_size=0.3, random_state=123)"
      ],
      "metadata": {
        "id": "ubmBoyeed7GN"
      },
      "execution_count": null,
      "outputs": []
    },
    {
      "cell_type": "markdown",
      "source": [
        "Árvore de decisão"
      ],
      "metadata": {
        "id": "TxX4AUZmhrm8"
      }
    },
    {
      "cell_type": "code",
      "source": [
        "treed = DecisionTreeClassifier(random_state=123).fit(x_train, y_train)\n",
        "y_tree = treed.predict(x_test)\n",
        "print(f\"Acurácia: {accuracy_score(y_test, y_tree)}\")\n",
        "print(f\"F1 Score: {f1_score(y_test,y_tree)}\")\n",
        "print(f\"ROC AUC: {roc_auc_score(y_test,y_tree)}\")"
      ],
      "metadata": {
        "id": "6NuY3nVmfMjC"
      },
      "execution_count": null,
      "outputs": []
    },
    {
      "cell_type": "markdown",
      "source": [
        "Floresta aleatória"
      ],
      "metadata": {
        "id": "5BO8sHlLv5MY"
      }
    },
    {
      "cell_type": "code",
      "source": [
        "from sklearn.ensemble import RandomForestClassifier\n",
        "\n",
        "rand = RandomForestClassifier().fit(x_train, y_train)\n",
        "\n",
        "y_rand = rand.predict(x_test)\n",
        "\n",
        "print(f\"Acurácia: {accuracy_score(y_test, y_rand)}\")\n",
        "print(f\"F1 Score: {f1_score(y_test,y_rand)}\")\n",
        "print(f\"ROC AUC: {roc_auc_score(y_test,y_rand)}\")"
      ],
      "metadata": {
        "id": "PxAdyPddwL1o"
      },
      "execution_count": null,
      "outputs": []
    },
    {
      "cell_type": "code",
      "source": [
        "plot_confusion_matrix(rand, x_test, y_test);"
      ],
      "metadata": {
        "id": "OYcjc4z-qGbL"
      },
      "execution_count": null,
      "outputs": []
    },
    {
      "cell_type": "markdown",
      "source": [
        "Testando um modelo reduzido (Floresta aleatória)\n",
        "\n",
        "Apenas as variáveis com maior correlação com o Target."
      ],
      "metadata": {
        "id": "cP4hxj4lhftk"
      }
    },
    {
      "cell_type": "code",
      "source": [
        "x_reduzido = x[['SubscriptionPlan_Default', 'MaritalStatus_Single', 'DateMovement_delta', 'Description_nunique','AccountID_count_x','AccountType_nunique',\n",
        "       'AccountID_count_y', 'ProductCategory_nunique_x', 'Symbol_nunique_x', 'Age', 'MonthlyIncome']]\n",
        "\n",
        "x_train, x_test, y_train, y_test = train_test_split(x_reduzido, y, test_size=0.3, random_state=123)"
      ],
      "metadata": {
        "id": "nEBxMUIMhe6Y"
      },
      "execution_count": null,
      "outputs": []
    },
    {
      "cell_type": "code",
      "source": [
        "from sklearn.ensemble import RandomForestClassifier\n",
        "\n",
        "rand = RandomForestClassifier().fit(x_train, y_train)\n",
        "\n",
        "y_rand = rand.predict(x_test)\n",
        "\n",
        "print(f\"Acurácia: {accuracy_score(y_test, y_rand)}\")\n",
        "print(f\"F1 Score: {f1_score(y_test,y_rand)}\")\n",
        "print(f\"ROC AUC: {roc_auc_score(y_test,y_rand)}\")"
      ],
      "metadata": {
        "id": "s4eD5fSYh9iE"
      },
      "execution_count": null,
      "outputs": []
    },
    {
      "cell_type": "code",
      "source": [
        "plot_confusion_matrix(rand, x_test, y_test);"
      ],
      "metadata": {
        "id": "vWoHc9KIjUVJ"
      },
      "execution_count": null,
      "outputs": []
    },
    {
      "cell_type": "markdown",
      "source": [
        "Tunando o modelo"
      ],
      "metadata": {
        "id": "HmkJhDe4irQH"
      }
    },
    {
      "cell_type": "code",
      "source": [
        "# # example of grid searching key hyperparameters for RandomForestClassifier\n",
        "# from sklearn.datasets import make_blobs\n",
        "# from sklearn.model_selection import RepeatedStratifiedKFold\n",
        "# from sklearn.model_selection import GridSearchCV\n",
        "# from sklearn.ensemble import RandomForestClassifier\n",
        "# # define dataset\n",
        "# #X, y = make_blobs(n_samples=1000, centers=2, n_features=100, cluster_std=20)\n",
        "# # define models and parameters\n",
        "# model = RandomForestClassifier()\n",
        "# n_estimators = [10, 100, 300]\n",
        "# max_features = ['sqrt', 'log2']\n",
        "# # define grid search\n",
        "# grid = dict(n_estimators=n_estimators,max_features=max_features)\n",
        "# cv = RepeatedStratifiedKFold(n_splits=10, n_repeats=3, random_state=1)\n",
        "# grid_search = GridSearchCV(estimator=model, param_grid=grid, n_jobs=-1, cv=cv, scoring='roc_auc',error_score=0)\n",
        "# grid_result = grid_search.fit(x_train, y_train)\n",
        "# # summarize results\n",
        "# print(\"Best: %f using %s\" % (grid_result.best_score_, grid_result.best_params_))\n",
        "# means = grid_result.cv_results_['mean_test_score']\n",
        "# stds = grid_result.cv_results_['std_test_score']\n",
        "# params = grid_result.cv_results_['params']\n",
        "# for mean, stdev, param in zip(means, stds, params):\n",
        "#     print(\"%f (%f) with: %r\" % (mean, stdev, param))"
      ],
      "metadata": {
        "id": "f_1ezujFxSf2"
      },
      "execution_count": null,
      "outputs": []
    },
    {
      "cell_type": "code",
      "source": [
        "# rand = RandomForestClassifier(max_features='sqrt', n_estimators=300).fit(x_train, y_train)\n",
        "\n",
        "# y_rand = rand.predict(x_test)\n",
        "\n",
        "# print(f\"Acurácia: {accuracy_score(y_test, y_rand)}\")\n",
        "# print(f\"F1 Score: {f1_score(y_test,y_rand)}\")\n",
        "# print(f\"ROC AUC: {roc_auc_score(y_test,y_rand)}\")"
      ],
      "metadata": {
        "id": "jCz6OYwfy_Ll"
      },
      "execution_count": null,
      "outputs": []
    },
    {
      "cell_type": "code",
      "source": [
        "# plot_confusion_matrix(rand, x_test, y_test);"
      ],
      "metadata": {
        "id": "8EZkf7Yu0UHb"
      },
      "execution_count": null,
      "outputs": []
    },
    {
      "cell_type": "markdown",
      "source": [
        "##7. Exportando as tabelas"
      ],
      "metadata": {
        "id": "MXinG-A4kat6"
      }
    },
    {
      "cell_type": "code",
      "source": [
        "#merge: accounts + mov_group\n",
        "df_final_merge.to_csv('df_final_merge.csv')"
      ],
      "metadata": {
        "id": "vTIcjX0KkwpZ"
      },
      "execution_count": null,
      "outputs": []
    }
  ]
}
