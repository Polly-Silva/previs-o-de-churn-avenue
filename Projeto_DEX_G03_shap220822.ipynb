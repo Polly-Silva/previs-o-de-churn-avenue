{
  "cells": [
    {
      "cell_type": "markdown",
      "metadata": {
        "id": "sPOI4ToSSnSZ"
      },
      "source": [
        "\n",
        "# Projeto DEX"
      ]
    },
    {
      "cell_type": "markdown",
      "metadata": {
        "id": "iP-9dZRPaLIx"
      },
      "source": [
        "#1. Business Understanding"
      ]
    },
    {
      "cell_type": "markdown",
      "metadata": {
        "id": "f2XzjZetaVhN"
      },
      "source": [
        "#2. Data Understanding"
      ]
    },
    {
      "cell_type": "markdown",
      "metadata": {
        "id": "RXf6vPIESwH5"
      },
      "source": [
        "##Importando bibliotecas"
      ]
    },
    {
      "cell_type": "code",
      "execution_count": null,
      "metadata": {
        "id": "KbXw3rhtSd-0"
      },
      "outputs": [],
      "source": [
        "import numpy as np\n",
        "import pandas as pd\n",
        "import matplotlib.pyplot as plt\n",
        "import seaborn as sns\n",
        "import sklearn\n",
        "from sklearn.ensemble import RandomForestClassifier\n",
        "\n",
        "\n",
        "import warnings\n",
        "warnings.filterwarnings(\"ignore\")"
      ]
    },
    {
      "cell_type": "code",
      "execution_count": null,
      "metadata": {
        "colab": {
          "base_uri": "https://localhost:8080/"
        },
        "id": "8d5He1CV8F71",
        "outputId": "c38f910a-c630-4f4e-8ce1-ed925a19b18d"
      },
      "outputs": [
        {
          "output_type": "stream",
          "name": "stdout",
          "text": [
            "Requirement already satisfied: shap in /usr/local/lib/python3.10/dist-packages (0.46.0)\n",
            "Requirement already satisfied: numpy in /usr/local/lib/python3.10/dist-packages (from shap) (1.26.4)\n",
            "Requirement already satisfied: scipy in /usr/local/lib/python3.10/dist-packages (from shap) (1.13.1)\n",
            "Requirement already satisfied: scikit-learn in /usr/local/lib/python3.10/dist-packages (from shap) (1.5.2)\n",
            "Requirement already satisfied: pandas in /usr/local/lib/python3.10/dist-packages (from shap) (2.2.2)\n",
            "Requirement already satisfied: tqdm>=4.27.0 in /usr/local/lib/python3.10/dist-packages (from shap) (4.66.6)\n",
            "Requirement already satisfied: packaging>20.9 in /usr/local/lib/python3.10/dist-packages (from shap) (24.2)\n",
            "Requirement already satisfied: slicer==0.0.8 in /usr/local/lib/python3.10/dist-packages (from shap) (0.0.8)\n",
            "Requirement already satisfied: numba in /usr/local/lib/python3.10/dist-packages (from shap) (0.60.0)\n",
            "Requirement already satisfied: cloudpickle in /usr/local/lib/python3.10/dist-packages (from shap) (3.1.0)\n",
            "Requirement already satisfied: llvmlite<0.44,>=0.43.0dev0 in /usr/local/lib/python3.10/dist-packages (from numba->shap) (0.43.0)\n",
            "Requirement already satisfied: python-dateutil>=2.8.2 in /usr/local/lib/python3.10/dist-packages (from pandas->shap) (2.8.2)\n",
            "Requirement already satisfied: pytz>=2020.1 in /usr/local/lib/python3.10/dist-packages (from pandas->shap) (2024.2)\n",
            "Requirement already satisfied: tzdata>=2022.7 in /usr/local/lib/python3.10/dist-packages (from pandas->shap) (2024.2)\n",
            "Requirement already satisfied: joblib>=1.2.0 in /usr/local/lib/python3.10/dist-packages (from scikit-learn->shap) (1.4.2)\n",
            "Requirement already satisfied: threadpoolctl>=3.1.0 in /usr/local/lib/python3.10/dist-packages (from scikit-learn->shap) (3.5.0)\n",
            "Requirement already satisfied: six>=1.5 in /usr/local/lib/python3.10/dist-packages (from python-dateutil>=2.8.2->pandas->shap) (1.16.0)\n",
            "\u001b[31mERROR: Operation cancelled by user\u001b[0m\u001b[31m\n",
            "\u001b[0m"
          ]
        }
      ],
      "source": [
        "pip install shap"
      ]
    },
    {
      "cell_type": "code",
      "execution_count": null,
      "metadata": {
        "id": "Vkfnkcdmw0aq"
      },
      "outputs": [],
      "source": [
        "#pip install -q pyngrok\n",
        "#!pip install -q pyspark"
      ]
    },
    {
      "cell_type": "markdown",
      "metadata": {
        "id": "hHF1D6P29wfP"
      },
      "source": [
        "##Funções"
      ]
    },
    {
      "cell_type": "code",
      "execution_count": null,
      "metadata": {
        "id": "0xbVesmN9vah"
      },
      "outputs": [],
      "source": [
        "def concat_info(df1, df2, axis=0):\n",
        "  \"\"\"Concatena dois dataframes e imprime uma descrição\n",
        "  do dataframe final.\"\"\"\n",
        "\n",
        "  # Concatenando os dataframes\n",
        "  df_concatenado = pd.concat((df1, df2), axis=axis)\n",
        "\n",
        "  # Filtrando clientes que realizaram mais de 3 evasões\n",
        "  # idx_drop = df_concatenado[df_concatenado['AccountID'].isin(drop_evasions['index'])].index\n",
        "  # df_concatenado = df_concatenado.drop(index=idx_drop)\n",
        "\n",
        "  # Calculando a porcentagem de Ids únicos\n",
        "  pct_df1 = round((df1[\"AccountID\"].nunique()/df1.shape[0])*100, 2)\n",
        "  pct_df2 = round((df2[\"AccountID\"].nunique()/df2.shape[0])*100, 2)\n",
        "  pct_concatenado = round((df_concatenado[\"AccountID\"].nunique()/df_concatenado.shape[0])*100, 2)\n",
        "\n",
        "  # Imprimindo o shape e pct das partes e do todo\n",
        "  print('_'*50 + '\\n')\n",
        "\n",
        "  print(f'Dimensões do dataframe 1: {df1.shape} \\nPct de IDs únicos: {pct_df1}%\\n')\n",
        "  print(f'Dimensões do dataframe 2: {df2.shape} \\nPct de IDs únicos: {pct_df2}%\\n')\n",
        "  print(f'Dimensões do dataframe completo: {df_concatenado.shape} \\nPct de IDs únicos: {pct_concatenado}%')\n",
        "\n",
        "  # Imprimindo as informações gerais do df final\n",
        "  print('_'*50 + '\\n')\n",
        "\n",
        "  df_concatenado.info()\n",
        "  print('_'*50 + '\\n')\n",
        "\n",
        "  return df_concatenado     # Retornando o df concatenado"
      ]
    },
    {
      "cell_type": "markdown",
      "metadata": {
        "id": "PQIVPu3oS7DT"
      },
      "source": [
        "## Importando o dataset"
      ]
    },
    {
      "cell_type": "markdown",
      "metadata": {
        "id": "rPfNaK4sabRB"
      },
      "source": [
        "Alterar para o drive do grupo ou de quem estiver rodando."
      ]
    },
    {
      "cell_type": "code",
      "execution_count": null,
      "metadata": {
        "colab": {
          "base_uri": "https://localhost:8080/"
        },
        "id": "nQXmj5faddOV",
        "outputId": "5aeabbba-9880-43da-f505-54d04bcee660"
      },
      "outputs": [
        {
          "output_type": "stream",
          "name": "stdout",
          "text": [
            "Mounted at /content/drive\n"
          ]
        }
      ],
      "source": [
        "from google.colab import drive\n",
        "drive.mount('/content/drive')"
      ]
    },
    {
      "cell_type": "code",
      "execution_count": null,
      "metadata": {
        "id": "c9-2y47hhlG2"
      },
      "outputs": [],
      "source": [
        "# Dados de contas de evasão\n",
        "dfe_accounts = pd.read_csv('/content/drive/MyDrive/Projeto Dex - Avenue/Dados Avenue Atualizados/evaded_accounts/accounts.csv')\n",
        "dfe_monthly = pd.read_csv('/content/drive/MyDrive/Projeto Dex - Avenue/Dados Avenue Atualizados/evaded_accounts/monthly_custody.csv')\n",
        "dfe_movement = pd.read_csv('/content/drive/MyDrive/Projeto Dex - Avenue/Dados Avenue Atualizados/evaded_accounts/movement.csv')\n",
        "dfe_orders = pd.read_csv('/content/drive/MyDrive/Projeto Dex - Avenue/Dados Avenue Atualizados/evaded_accounts/orders.csv')\n",
        "dfe_evasion = pd.read_csv('/content/drive/MyDrive/Projeto Dex - Avenue/Dados Avenue Atualizados/evaded_accounts/evasion.csv')"
      ]
    },
    {
      "cell_type": "code",
      "execution_count": null,
      "metadata": {
        "id": "Q7sWZXPthmuj"
      },
      "outputs": [],
      "source": [
        "# Dados de contas ativas\n",
        "dfa_accounts = pd.read_csv('/content/drive/MyDrive/Projeto Dex - Avenue/Dados Avenue Atualizados/active_accounts/active_accounts.csv')\n",
        "dfa_monthly = pd.read_csv('/content/drive/MyDrive/Projeto Dex - Avenue/Dados Avenue Atualizados/active_accounts/monthly_custody_active_accounts.csv')\n",
        "dfa_movement = pd.read_csv('/content/drive/MyDrive/Projeto Dex - Avenue/Dados Avenue Atualizados/active_accounts/movement_active_accounts.csv')\n",
        "dfa_orders = pd.read_csv('/content/drive/MyDrive/Projeto Dex - Avenue/Dados Avenue Atualizados/active_accounts/orders_active_accounts.csv')"
      ]
    },
    {
      "cell_type": "markdown",
      "metadata": {
        "id": "V_5CLq7553TA"
      },
      "source": [
        "##Concatenando as tabelas (evasão + ativos) & Descrição inicial"
      ]
    },
    {
      "cell_type": "markdown",
      "metadata": {
        "id": "9YWqf3ZtmB0N"
      },
      "source": [
        "### Tabela Evasion"
      ]
    },
    {
      "cell_type": "markdown",
      "metadata": {
        "id": "_BfYb0wWmGkr"
      },
      "source": [
        "Para essa tabela não foi feita a concatenação, pois só temos os valores para o grupo Churn.\n"
      ]
    },
    {
      "cell_type": "code",
      "execution_count": null,
      "metadata": {
        "colab": {
          "base_uri": "https://localhost:8080/",
          "height": 144
        },
        "id": "69LY3Pctl6Ji",
        "outputId": "22bb7c78-8938-4613-ee17-6c0fe578cc7c"
      },
      "outputs": [
        {
          "output_type": "execute_result",
          "data": {
            "text/plain": [
              "                  AccountID        Date  PreviousTotalNetDol  TotalNetDol  \\\n",
              "0  OxnNSnrMzZJp3+6SFsfI0Q==  2021-05-06               127.30            0   \n",
              "1  qnWUizPYZBwlowp/hj9R+A==  2021-05-05                77.60            0   \n",
              "2  WNFEaYBn6tZU4q8rsUTSUA==  2021-12-22               191.77            0   \n",
              "\n",
              "   Evaded  \n",
              "0       1  \n",
              "1       1  \n",
              "2       1  "
            ],
            "text/html": [
              "\n",
              "  <div id=\"df-46a4fdf7-0d3c-4838-a3ab-3e5014b521da\" class=\"colab-df-container\">\n",
              "    <div>\n",
              "<style scoped>\n",
              "    .dataframe tbody tr th:only-of-type {\n",
              "        vertical-align: middle;\n",
              "    }\n",
              "\n",
              "    .dataframe tbody tr th {\n",
              "        vertical-align: top;\n",
              "    }\n",
              "\n",
              "    .dataframe thead th {\n",
              "        text-align: right;\n",
              "    }\n",
              "</style>\n",
              "<table border=\"1\" class=\"dataframe\">\n",
              "  <thead>\n",
              "    <tr style=\"text-align: right;\">\n",
              "      <th></th>\n",
              "      <th>AccountID</th>\n",
              "      <th>Date</th>\n",
              "      <th>PreviousTotalNetDol</th>\n",
              "      <th>TotalNetDol</th>\n",
              "      <th>Evaded</th>\n",
              "    </tr>\n",
              "  </thead>\n",
              "  <tbody>\n",
              "    <tr>\n",
              "      <th>0</th>\n",
              "      <td>OxnNSnrMzZJp3+6SFsfI0Q==</td>\n",
              "      <td>2021-05-06</td>\n",
              "      <td>127.30</td>\n",
              "      <td>0</td>\n",
              "      <td>1</td>\n",
              "    </tr>\n",
              "    <tr>\n",
              "      <th>1</th>\n",
              "      <td>qnWUizPYZBwlowp/hj9R+A==</td>\n",
              "      <td>2021-05-05</td>\n",
              "      <td>77.60</td>\n",
              "      <td>0</td>\n",
              "      <td>1</td>\n",
              "    </tr>\n",
              "    <tr>\n",
              "      <th>2</th>\n",
              "      <td>WNFEaYBn6tZU4q8rsUTSUA==</td>\n",
              "      <td>2021-12-22</td>\n",
              "      <td>191.77</td>\n",
              "      <td>0</td>\n",
              "      <td>1</td>\n",
              "    </tr>\n",
              "  </tbody>\n",
              "</table>\n",
              "</div>\n",
              "    <div class=\"colab-df-buttons\">\n",
              "\n",
              "  <div class=\"colab-df-container\">\n",
              "    <button class=\"colab-df-convert\" onclick=\"convertToInteractive('df-46a4fdf7-0d3c-4838-a3ab-3e5014b521da')\"\n",
              "            title=\"Convert this dataframe to an interactive table.\"\n",
              "            style=\"display:none;\">\n",
              "\n",
              "  <svg xmlns=\"http://www.w3.org/2000/svg\" height=\"24px\" viewBox=\"0 -960 960 960\">\n",
              "    <path d=\"M120-120v-720h720v720H120Zm60-500h600v-160H180v160Zm220 220h160v-160H400v160Zm0 220h160v-160H400v160ZM180-400h160v-160H180v160Zm440 0h160v-160H620v160ZM180-180h160v-160H180v160Zm440 0h160v-160H620v160Z\"/>\n",
              "  </svg>\n",
              "    </button>\n",
              "\n",
              "  <style>\n",
              "    .colab-df-container {\n",
              "      display:flex;\n",
              "      gap: 12px;\n",
              "    }\n",
              "\n",
              "    .colab-df-convert {\n",
              "      background-color: #E8F0FE;\n",
              "      border: none;\n",
              "      border-radius: 50%;\n",
              "      cursor: pointer;\n",
              "      display: none;\n",
              "      fill: #1967D2;\n",
              "      height: 32px;\n",
              "      padding: 0 0 0 0;\n",
              "      width: 32px;\n",
              "    }\n",
              "\n",
              "    .colab-df-convert:hover {\n",
              "      background-color: #E2EBFA;\n",
              "      box-shadow: 0px 1px 2px rgba(60, 64, 67, 0.3), 0px 1px 3px 1px rgba(60, 64, 67, 0.15);\n",
              "      fill: #174EA6;\n",
              "    }\n",
              "\n",
              "    .colab-df-buttons div {\n",
              "      margin-bottom: 4px;\n",
              "    }\n",
              "\n",
              "    [theme=dark] .colab-df-convert {\n",
              "      background-color: #3B4455;\n",
              "      fill: #D2E3FC;\n",
              "    }\n",
              "\n",
              "    [theme=dark] .colab-df-convert:hover {\n",
              "      background-color: #434B5C;\n",
              "      box-shadow: 0px 1px 3px 1px rgba(0, 0, 0, 0.15);\n",
              "      filter: drop-shadow(0px 1px 2px rgba(0, 0, 0, 0.3));\n",
              "      fill: #FFFFFF;\n",
              "    }\n",
              "  </style>\n",
              "\n",
              "    <script>\n",
              "      const buttonEl =\n",
              "        document.querySelector('#df-46a4fdf7-0d3c-4838-a3ab-3e5014b521da button.colab-df-convert');\n",
              "      buttonEl.style.display =\n",
              "        google.colab.kernel.accessAllowed ? 'block' : 'none';\n",
              "\n",
              "      async function convertToInteractive(key) {\n",
              "        const element = document.querySelector('#df-46a4fdf7-0d3c-4838-a3ab-3e5014b521da');\n",
              "        const dataTable =\n",
              "          await google.colab.kernel.invokeFunction('convertToInteractive',\n",
              "                                                    [key], {});\n",
              "        if (!dataTable) return;\n",
              "\n",
              "        const docLinkHtml = 'Like what you see? Visit the ' +\n",
              "          '<a target=\"_blank\" href=https://colab.research.google.com/notebooks/data_table.ipynb>data table notebook</a>'\n",
              "          + ' to learn more about interactive tables.';\n",
              "        element.innerHTML = '';\n",
              "        dataTable['output_type'] = 'display_data';\n",
              "        await google.colab.output.renderOutput(dataTable, element);\n",
              "        const docLink = document.createElement('div');\n",
              "        docLink.innerHTML = docLinkHtml;\n",
              "        element.appendChild(docLink);\n",
              "      }\n",
              "    </script>\n",
              "  </div>\n",
              "\n",
              "\n",
              "<div id=\"df-e7126c99-c7f6-45ec-9ec2-1006f73e2ef9\">\n",
              "  <button class=\"colab-df-quickchart\" onclick=\"quickchart('df-e7126c99-c7f6-45ec-9ec2-1006f73e2ef9')\"\n",
              "            title=\"Suggest charts\"\n",
              "            style=\"display:none;\">\n",
              "\n",
              "<svg xmlns=\"http://www.w3.org/2000/svg\" height=\"24px\"viewBox=\"0 0 24 24\"\n",
              "     width=\"24px\">\n",
              "    <g>\n",
              "        <path d=\"M19 3H5c-1.1 0-2 .9-2 2v14c0 1.1.9 2 2 2h14c1.1 0 2-.9 2-2V5c0-1.1-.9-2-2-2zM9 17H7v-7h2v7zm4 0h-2V7h2v10zm4 0h-2v-4h2v4z\"/>\n",
              "    </g>\n",
              "</svg>\n",
              "  </button>\n",
              "\n",
              "<style>\n",
              "  .colab-df-quickchart {\n",
              "      --bg-color: #E8F0FE;\n",
              "      --fill-color: #1967D2;\n",
              "      --hover-bg-color: #E2EBFA;\n",
              "      --hover-fill-color: #174EA6;\n",
              "      --disabled-fill-color: #AAA;\n",
              "      --disabled-bg-color: #DDD;\n",
              "  }\n",
              "\n",
              "  [theme=dark] .colab-df-quickchart {\n",
              "      --bg-color: #3B4455;\n",
              "      --fill-color: #D2E3FC;\n",
              "      --hover-bg-color: #434B5C;\n",
              "      --hover-fill-color: #FFFFFF;\n",
              "      --disabled-bg-color: #3B4455;\n",
              "      --disabled-fill-color: #666;\n",
              "  }\n",
              "\n",
              "  .colab-df-quickchart {\n",
              "    background-color: var(--bg-color);\n",
              "    border: none;\n",
              "    border-radius: 50%;\n",
              "    cursor: pointer;\n",
              "    display: none;\n",
              "    fill: var(--fill-color);\n",
              "    height: 32px;\n",
              "    padding: 0;\n",
              "    width: 32px;\n",
              "  }\n",
              "\n",
              "  .colab-df-quickchart:hover {\n",
              "    background-color: var(--hover-bg-color);\n",
              "    box-shadow: 0 1px 2px rgba(60, 64, 67, 0.3), 0 1px 3px 1px rgba(60, 64, 67, 0.15);\n",
              "    fill: var(--button-hover-fill-color);\n",
              "  }\n",
              "\n",
              "  .colab-df-quickchart-complete:disabled,\n",
              "  .colab-df-quickchart-complete:disabled:hover {\n",
              "    background-color: var(--disabled-bg-color);\n",
              "    fill: var(--disabled-fill-color);\n",
              "    box-shadow: none;\n",
              "  }\n",
              "\n",
              "  .colab-df-spinner {\n",
              "    border: 2px solid var(--fill-color);\n",
              "    border-color: transparent;\n",
              "    border-bottom-color: var(--fill-color);\n",
              "    animation:\n",
              "      spin 1s steps(1) infinite;\n",
              "  }\n",
              "\n",
              "  @keyframes spin {\n",
              "    0% {\n",
              "      border-color: transparent;\n",
              "      border-bottom-color: var(--fill-color);\n",
              "      border-left-color: var(--fill-color);\n",
              "    }\n",
              "    20% {\n",
              "      border-color: transparent;\n",
              "      border-left-color: var(--fill-color);\n",
              "      border-top-color: var(--fill-color);\n",
              "    }\n",
              "    30% {\n",
              "      border-color: transparent;\n",
              "      border-left-color: var(--fill-color);\n",
              "      border-top-color: var(--fill-color);\n",
              "      border-right-color: var(--fill-color);\n",
              "    }\n",
              "    40% {\n",
              "      border-color: transparent;\n",
              "      border-right-color: var(--fill-color);\n",
              "      border-top-color: var(--fill-color);\n",
              "    }\n",
              "    60% {\n",
              "      border-color: transparent;\n",
              "      border-right-color: var(--fill-color);\n",
              "    }\n",
              "    80% {\n",
              "      border-color: transparent;\n",
              "      border-right-color: var(--fill-color);\n",
              "      border-bottom-color: var(--fill-color);\n",
              "    }\n",
              "    90% {\n",
              "      border-color: transparent;\n",
              "      border-bottom-color: var(--fill-color);\n",
              "    }\n",
              "  }\n",
              "</style>\n",
              "\n",
              "  <script>\n",
              "    async function quickchart(key) {\n",
              "      const quickchartButtonEl =\n",
              "        document.querySelector('#' + key + ' button');\n",
              "      quickchartButtonEl.disabled = true;  // To prevent multiple clicks.\n",
              "      quickchartButtonEl.classList.add('colab-df-spinner');\n",
              "      try {\n",
              "        const charts = await google.colab.kernel.invokeFunction(\n",
              "            'suggestCharts', [key], {});\n",
              "      } catch (error) {\n",
              "        console.error('Error during call to suggestCharts:', error);\n",
              "      }\n",
              "      quickchartButtonEl.classList.remove('colab-df-spinner');\n",
              "      quickchartButtonEl.classList.add('colab-df-quickchart-complete');\n",
              "    }\n",
              "    (() => {\n",
              "      let quickchartButtonEl =\n",
              "        document.querySelector('#df-e7126c99-c7f6-45ec-9ec2-1006f73e2ef9 button');\n",
              "      quickchartButtonEl.style.display =\n",
              "        google.colab.kernel.accessAllowed ? 'block' : 'none';\n",
              "    })();\n",
              "  </script>\n",
              "</div>\n",
              "\n",
              "    </div>\n",
              "  </div>\n"
            ],
            "application/vnd.google.colaboratory.intrinsic+json": {
              "type": "dataframe",
              "variable_name": "dfe_evasion",
              "summary": "{\n  \"name\": \"dfe_evasion\",\n  \"rows\": 19575,\n  \"fields\": [\n    {\n      \"column\": \"AccountID\",\n      \"properties\": {\n        \"dtype\": \"string\",\n        \"num_unique_values\": 18054,\n        \"samples\": [\n          \"yedMxcZdn7byNpSbGFiKjw==\",\n          \"BT4pIMa0+a4Y8PgBHMnSOw==\",\n          \"u2rZ4tiESvpRlYOPvDQc1Q==\"\n        ],\n        \"semantic_type\": \"\",\n        \"description\": \"\"\n      }\n    },\n    {\n      \"column\": \"Date\",\n      \"properties\": {\n        \"dtype\": \"object\",\n        \"num_unique_values\": 362,\n        \"samples\": [\n          \"2021-12-13\",\n          \"2021-03-12\",\n          \"2021-03-10\"\n        ],\n        \"semantic_type\": \"\",\n        \"description\": \"\"\n      }\n    },\n    {\n      \"column\": \"PreviousTotalNetDol\",\n      \"properties\": {\n        \"dtype\": \"number\",\n        \"std\": 6631.000753002395,\n        \"min\": -312.82,\n        \"max\": 631186.85,\n        \"num_unique_values\": 11781,\n        \"samples\": [\n          98.4,\n          269.14,\n          85.45\n        ],\n        \"semantic_type\": \"\",\n        \"description\": \"\"\n      }\n    },\n    {\n      \"column\": \"TotalNetDol\",\n      \"properties\": {\n        \"dtype\": \"number\",\n        \"std\": 0,\n        \"min\": 0,\n        \"max\": 0,\n        \"num_unique_values\": 1,\n        \"samples\": [\n          0\n        ],\n        \"semantic_type\": \"\",\n        \"description\": \"\"\n      }\n    },\n    {\n      \"column\": \"Evaded\",\n      \"properties\": {\n        \"dtype\": \"number\",\n        \"std\": 0,\n        \"min\": 1,\n        \"max\": 1,\n        \"num_unique_values\": 1,\n        \"samples\": [\n          1\n        ],\n        \"semantic_type\": \"\",\n        \"description\": \"\"\n      }\n    }\n  ]\n}"
            }
          },
          "metadata": {},
          "execution_count": 8
        }
      ],
      "source": [
        "dfe_evasion.head(3)"
      ]
    },
    {
      "cell_type": "code",
      "execution_count": null,
      "metadata": {
        "colab": {
          "base_uri": "https://localhost:8080/"
        },
        "id": "C6I0vUyTvpc-",
        "outputId": "039cb6dc-987b-4f2e-acea-99a3eb045136"
      },
      "outputs": [
        {
          "output_type": "stream",
          "name": "stdout",
          "text": [
            "<class 'pandas.core.frame.DataFrame'>\n",
            "RangeIndex: 19575 entries, 0 to 19574\n",
            "Data columns (total 5 columns):\n",
            " #   Column               Non-Null Count  Dtype  \n",
            "---  ------               --------------  -----  \n",
            " 0   AccountID            19575 non-null  object \n",
            " 1   Date                 19575 non-null  object \n",
            " 2   PreviousTotalNetDol  19575 non-null  float64\n",
            " 3   TotalNetDol          19575 non-null  int64  \n",
            " 4   Evaded               19575 non-null  int64  \n",
            "dtypes: float64(1), int64(2), object(2)\n",
            "memory usage: 764.8+ KB\n"
          ]
        }
      ],
      "source": [
        "dfe_evasion.info()"
      ]
    },
    {
      "cell_type": "markdown",
      "metadata": {
        "id": "Y9_zk7kkJo6s"
      },
      "source": [
        "Convertendo o formato da coluna 'Date'"
      ]
    },
    {
      "cell_type": "code",
      "execution_count": null,
      "metadata": {
        "id": "pDltjg5MJU5H"
      },
      "outputs": [],
      "source": [
        "dfe_evasion['Date'] = pd.to_datetime(dfe_evasion['Date'], infer_datetime_format=True)"
      ]
    },
    {
      "cell_type": "markdown",
      "metadata": {
        "id": "O23mcNZblTcJ"
      },
      "source": [
        "Número de clientes que realizaram mais de 1 evasão."
      ]
    },
    {
      "cell_type": "code",
      "execution_count": null,
      "metadata": {
        "colab": {
          "base_uri": "https://localhost:8080/"
        },
        "id": "IKQrAT4xlKtu",
        "outputId": "a352cd04-dce2-4805-f6c4-755a5a6da090"
      },
      "outputs": [
        {
          "output_type": "execute_result",
          "data": {
            "text/plain": [
              "1521"
            ]
          },
          "metadata": {},
          "execution_count": 11
        }
      ],
      "source": [
        "dfe_evasion['AccountID'].duplicated().sum()"
      ]
    },
    {
      "cell_type": "markdown",
      "metadata": {
        "id": "1UBYuPysUJ0R"
      },
      "source": [
        "Clientes que realizaram mais de 3 evasões"
      ]
    },
    {
      "cell_type": "code",
      "execution_count": null,
      "metadata": {
        "colab": {
          "base_uri": "https://localhost:8080/",
          "height": 356
        },
        "id": "EW_FYyKikYFF",
        "outputId": "984e5df6-33a3-4af5-c885-180a6c485687"
      },
      "outputs": [
        {
          "output_type": "error",
          "ename": "TypeError",
          "evalue": "'>' not supported between instances of 'str' and 'int'",
          "traceback": [
            "\u001b[0;31m---------------------------------------------------------------------------\u001b[0m",
            "\u001b[0;31mTypeError\u001b[0m                                 Traceback (most recent call last)",
            "\u001b[0;32m<ipython-input-12-39d2697d9718>\u001b[0m in \u001b[0;36m<cell line: 2>\u001b[0;34m()\u001b[0m\n\u001b[1;32m      1\u001b[0m \u001b[0mdrop_evasions\u001b[0m \u001b[0;34m=\u001b[0m \u001b[0mdfe_evasion\u001b[0m\u001b[0;34m[\u001b[0m\u001b[0;34m'AccountID'\u001b[0m\u001b[0;34m]\u001b[0m\u001b[0;34m.\u001b[0m\u001b[0mvalue_counts\u001b[0m\u001b[0;34m(\u001b[0m\u001b[0;34m)\u001b[0m\u001b[0;34m.\u001b[0m\u001b[0mreset_index\u001b[0m\u001b[0;34m(\u001b[0m\u001b[0;34m)\u001b[0m\u001b[0;34m\u001b[0m\u001b[0;34m\u001b[0m\u001b[0m\n\u001b[0;32m----> 2\u001b[0;31m \u001b[0mdrop_evasions\u001b[0m \u001b[0;34m=\u001b[0m \u001b[0mdrop_evasions\u001b[0m\u001b[0;34m[\u001b[0m\u001b[0mdrop_evasions\u001b[0m\u001b[0;34m[\u001b[0m\u001b[0;34m'AccountID'\u001b[0m\u001b[0;34m]\u001b[0m \u001b[0;34m>\u001b[0m \u001b[0;36m3\u001b[0m\u001b[0;34m]\u001b[0m\u001b[0;34m\u001b[0m\u001b[0;34m\u001b[0m\u001b[0m\n\u001b[0m\u001b[1;32m      3\u001b[0m \u001b[0mdrop_evasions\u001b[0m\u001b[0;34m\u001b[0m\u001b[0;34m\u001b[0m\u001b[0m\n",
            "\u001b[0;32m/usr/local/lib/python3.10/dist-packages/pandas/core/ops/common.py\u001b[0m in \u001b[0;36mnew_method\u001b[0;34m(self, other)\u001b[0m\n\u001b[1;32m     74\u001b[0m         \u001b[0mother\u001b[0m \u001b[0;34m=\u001b[0m \u001b[0mitem_from_zerodim\u001b[0m\u001b[0;34m(\u001b[0m\u001b[0mother\u001b[0m\u001b[0;34m)\u001b[0m\u001b[0;34m\u001b[0m\u001b[0;34m\u001b[0m\u001b[0m\n\u001b[1;32m     75\u001b[0m \u001b[0;34m\u001b[0m\u001b[0m\n\u001b[0;32m---> 76\u001b[0;31m         \u001b[0;32mreturn\u001b[0m \u001b[0mmethod\u001b[0m\u001b[0;34m(\u001b[0m\u001b[0mself\u001b[0m\u001b[0;34m,\u001b[0m \u001b[0mother\u001b[0m\u001b[0;34m)\u001b[0m\u001b[0;34m\u001b[0m\u001b[0;34m\u001b[0m\u001b[0m\n\u001b[0m\u001b[1;32m     77\u001b[0m \u001b[0;34m\u001b[0m\u001b[0m\n\u001b[1;32m     78\u001b[0m     \u001b[0;32mreturn\u001b[0m \u001b[0mnew_method\u001b[0m\u001b[0;34m\u001b[0m\u001b[0;34m\u001b[0m\u001b[0m\n",
            "\u001b[0;32m/usr/local/lib/python3.10/dist-packages/pandas/core/arraylike.py\u001b[0m in \u001b[0;36m__gt__\u001b[0;34m(self, other)\u001b[0m\n\u001b[1;32m     54\u001b[0m     \u001b[0;34m@\u001b[0m\u001b[0munpack_zerodim_and_defer\u001b[0m\u001b[0;34m(\u001b[0m\u001b[0;34m\"__gt__\"\u001b[0m\u001b[0;34m)\u001b[0m\u001b[0;34m\u001b[0m\u001b[0;34m\u001b[0m\u001b[0m\n\u001b[1;32m     55\u001b[0m     \u001b[0;32mdef\u001b[0m \u001b[0m__gt__\u001b[0m\u001b[0;34m(\u001b[0m\u001b[0mself\u001b[0m\u001b[0;34m,\u001b[0m \u001b[0mother\u001b[0m\u001b[0;34m)\u001b[0m\u001b[0;34m:\u001b[0m\u001b[0;34m\u001b[0m\u001b[0;34m\u001b[0m\u001b[0m\n\u001b[0;32m---> 56\u001b[0;31m         \u001b[0;32mreturn\u001b[0m \u001b[0mself\u001b[0m\u001b[0;34m.\u001b[0m\u001b[0m_cmp_method\u001b[0m\u001b[0;34m(\u001b[0m\u001b[0mother\u001b[0m\u001b[0;34m,\u001b[0m \u001b[0moperator\u001b[0m\u001b[0;34m.\u001b[0m\u001b[0mgt\u001b[0m\u001b[0;34m)\u001b[0m\u001b[0;34m\u001b[0m\u001b[0;34m\u001b[0m\u001b[0m\n\u001b[0m\u001b[1;32m     57\u001b[0m \u001b[0;34m\u001b[0m\u001b[0m\n\u001b[1;32m     58\u001b[0m     \u001b[0;34m@\u001b[0m\u001b[0munpack_zerodim_and_defer\u001b[0m\u001b[0;34m(\u001b[0m\u001b[0;34m\"__ge__\"\u001b[0m\u001b[0;34m)\u001b[0m\u001b[0;34m\u001b[0m\u001b[0;34m\u001b[0m\u001b[0m\n",
            "\u001b[0;32m/usr/local/lib/python3.10/dist-packages/pandas/core/series.py\u001b[0m in \u001b[0;36m_cmp_method\u001b[0;34m(self, other, op)\u001b[0m\n\u001b[1;32m   6117\u001b[0m         \u001b[0mrvalues\u001b[0m \u001b[0;34m=\u001b[0m \u001b[0mextract_array\u001b[0m\u001b[0;34m(\u001b[0m\u001b[0mother\u001b[0m\u001b[0;34m,\u001b[0m \u001b[0mextract_numpy\u001b[0m\u001b[0;34m=\u001b[0m\u001b[0;32mTrue\u001b[0m\u001b[0;34m,\u001b[0m \u001b[0mextract_range\u001b[0m\u001b[0;34m=\u001b[0m\u001b[0;32mTrue\u001b[0m\u001b[0;34m)\u001b[0m\u001b[0;34m\u001b[0m\u001b[0;34m\u001b[0m\u001b[0m\n\u001b[1;32m   6118\u001b[0m \u001b[0;34m\u001b[0m\u001b[0m\n\u001b[0;32m-> 6119\u001b[0;31m         \u001b[0mres_values\u001b[0m \u001b[0;34m=\u001b[0m \u001b[0mops\u001b[0m\u001b[0;34m.\u001b[0m\u001b[0mcomparison_op\u001b[0m\u001b[0;34m(\u001b[0m\u001b[0mlvalues\u001b[0m\u001b[0;34m,\u001b[0m \u001b[0mrvalues\u001b[0m\u001b[0;34m,\u001b[0m \u001b[0mop\u001b[0m\u001b[0;34m)\u001b[0m\u001b[0;34m\u001b[0m\u001b[0;34m\u001b[0m\u001b[0m\n\u001b[0m\u001b[1;32m   6120\u001b[0m \u001b[0;34m\u001b[0m\u001b[0m\n\u001b[1;32m   6121\u001b[0m         \u001b[0;32mreturn\u001b[0m \u001b[0mself\u001b[0m\u001b[0;34m.\u001b[0m\u001b[0m_construct_result\u001b[0m\u001b[0;34m(\u001b[0m\u001b[0mres_values\u001b[0m\u001b[0;34m,\u001b[0m \u001b[0mname\u001b[0m\u001b[0;34m=\u001b[0m\u001b[0mres_name\u001b[0m\u001b[0;34m)\u001b[0m\u001b[0;34m\u001b[0m\u001b[0;34m\u001b[0m\u001b[0m\n",
            "\u001b[0;32m/usr/local/lib/python3.10/dist-packages/pandas/core/ops/array_ops.py\u001b[0m in \u001b[0;36mcomparison_op\u001b[0;34m(left, right, op)\u001b[0m\n\u001b[1;32m    342\u001b[0m \u001b[0;34m\u001b[0m\u001b[0m\n\u001b[1;32m    343\u001b[0m     \u001b[0;32melif\u001b[0m \u001b[0mlvalues\u001b[0m\u001b[0;34m.\u001b[0m\u001b[0mdtype\u001b[0m \u001b[0;34m==\u001b[0m \u001b[0mobject\u001b[0m \u001b[0;32mor\u001b[0m \u001b[0misinstance\u001b[0m\u001b[0;34m(\u001b[0m\u001b[0mrvalues\u001b[0m\u001b[0;34m,\u001b[0m \u001b[0mstr\u001b[0m\u001b[0;34m)\u001b[0m\u001b[0;34m:\u001b[0m\u001b[0;34m\u001b[0m\u001b[0;34m\u001b[0m\u001b[0m\n\u001b[0;32m--> 344\u001b[0;31m         \u001b[0mres_values\u001b[0m \u001b[0;34m=\u001b[0m \u001b[0mcomp_method_OBJECT_ARRAY\u001b[0m\u001b[0;34m(\u001b[0m\u001b[0mop\u001b[0m\u001b[0;34m,\u001b[0m \u001b[0mlvalues\u001b[0m\u001b[0;34m,\u001b[0m \u001b[0mrvalues\u001b[0m\u001b[0;34m)\u001b[0m\u001b[0;34m\u001b[0m\u001b[0;34m\u001b[0m\u001b[0m\n\u001b[0m\u001b[1;32m    345\u001b[0m \u001b[0;34m\u001b[0m\u001b[0m\n\u001b[1;32m    346\u001b[0m     \u001b[0;32melse\u001b[0m\u001b[0;34m:\u001b[0m\u001b[0;34m\u001b[0m\u001b[0;34m\u001b[0m\u001b[0m\n",
            "\u001b[0;32m/usr/local/lib/python3.10/dist-packages/pandas/core/ops/array_ops.py\u001b[0m in \u001b[0;36mcomp_method_OBJECT_ARRAY\u001b[0;34m(op, x, y)\u001b[0m\n\u001b[1;32m    127\u001b[0m         \u001b[0mresult\u001b[0m \u001b[0;34m=\u001b[0m \u001b[0mlibops\u001b[0m\u001b[0;34m.\u001b[0m\u001b[0mvec_compare\u001b[0m\u001b[0;34m(\u001b[0m\u001b[0mx\u001b[0m\u001b[0;34m.\u001b[0m\u001b[0mravel\u001b[0m\u001b[0;34m(\u001b[0m\u001b[0;34m)\u001b[0m\u001b[0;34m,\u001b[0m \u001b[0my\u001b[0m\u001b[0;34m.\u001b[0m\u001b[0mravel\u001b[0m\u001b[0;34m(\u001b[0m\u001b[0;34m)\u001b[0m\u001b[0;34m,\u001b[0m \u001b[0mop\u001b[0m\u001b[0;34m)\u001b[0m\u001b[0;34m\u001b[0m\u001b[0;34m\u001b[0m\u001b[0m\n\u001b[1;32m    128\u001b[0m     \u001b[0;32melse\u001b[0m\u001b[0;34m:\u001b[0m\u001b[0;34m\u001b[0m\u001b[0;34m\u001b[0m\u001b[0m\n\u001b[0;32m--> 129\u001b[0;31m         \u001b[0mresult\u001b[0m \u001b[0;34m=\u001b[0m \u001b[0mlibops\u001b[0m\u001b[0;34m.\u001b[0m\u001b[0mscalar_compare\u001b[0m\u001b[0;34m(\u001b[0m\u001b[0mx\u001b[0m\u001b[0;34m.\u001b[0m\u001b[0mravel\u001b[0m\u001b[0;34m(\u001b[0m\u001b[0;34m)\u001b[0m\u001b[0;34m,\u001b[0m \u001b[0my\u001b[0m\u001b[0;34m,\u001b[0m \u001b[0mop\u001b[0m\u001b[0;34m)\u001b[0m\u001b[0;34m\u001b[0m\u001b[0;34m\u001b[0m\u001b[0m\n\u001b[0m\u001b[1;32m    130\u001b[0m     \u001b[0;32mreturn\u001b[0m \u001b[0mresult\u001b[0m\u001b[0;34m.\u001b[0m\u001b[0mreshape\u001b[0m\u001b[0;34m(\u001b[0m\u001b[0mx\u001b[0m\u001b[0;34m.\u001b[0m\u001b[0mshape\u001b[0m\u001b[0;34m)\u001b[0m\u001b[0;34m\u001b[0m\u001b[0;34m\u001b[0m\u001b[0m\n\u001b[1;32m    131\u001b[0m \u001b[0;34m\u001b[0m\u001b[0m\n",
            "\u001b[0;32mops.pyx\u001b[0m in \u001b[0;36mpandas._libs.ops.scalar_compare\u001b[0;34m()\u001b[0m\n",
            "\u001b[0;31mTypeError\u001b[0m: '>' not supported between instances of 'str' and 'int'"
          ]
        }
      ],
      "source": [
        "drop_evasions = dfe_evasion['AccountID'].value_counts().reset_index()\n",
        "drop_evasions = drop_evasions[drop_evasions['AccountID'] > 3]\n",
        "drop_evasions"
      ]
    },
    {
      "cell_type": "markdown",
      "metadata": {
        "id": "4ZIrANvsPpQh"
      },
      "source": [
        "65 clientes realizaram mais de 3 evasões. Estes registros serão excluídos da análise (Especulação de mercado)"
      ]
    },
    {
      "cell_type": "markdown",
      "metadata": {
        "id": "8sb4CiccPnB-"
      },
      "source": [
        "Removendo clientes com mais de 3 evasões da tabela dfe_evasions"
      ]
    },
    {
      "cell_type": "code",
      "execution_count": null,
      "metadata": {
        "id": "WhdM7sDdQB07"
      },
      "outputs": [],
      "source": [
        "idx_drop = dfe_evasion[dfe_evasion['AccountID'].isin(drop_evasions['index'])].index\n",
        "dfe_evasion = dfe_evasion.drop(index=idx_drop)\n",
        "dfe_evasion"
      ]
    },
    {
      "cell_type": "markdown",
      "metadata": {
        "id": "V5bcey1mPwrd"
      },
      "source": [
        "Removendo clientes com mais de 3 evasões das outras tabelas"
      ]
    },
    {
      "cell_type": "code",
      "execution_count": null,
      "metadata": {
        "id": "RTTdslEVQv33"
      },
      "outputs": [],
      "source": [
        "idx_eacc = dfe_accounts[dfe_accounts['AccountID'].isin(drop_evasions['index'])].index\n",
        "idx_emes = dfe_monthly[dfe_monthly['AccountID'].isin(drop_evasions['index'])].index\n",
        "idx_emov = dfe_movement[dfe_movement['AccountID'].isin(drop_evasions['index'])].index\n",
        "idx_eord = dfe_orders[dfe_orders['AccountID'].isin(drop_evasions['index'])].index\n",
        "idx_aacc = dfa_accounts[dfa_accounts['AccountID'].isin(drop_evasions['index'])].index\n",
        "idx_ames = dfa_monthly[dfa_monthly['AccountID'].isin(drop_evasions['index'])].index\n",
        "idx_amov = dfa_movement[dfa_movement['AccountID'].isin(drop_evasions['index'])].index\n",
        "idx_aord = dfa_orders[dfa_orders['AccountID'].isin(drop_evasions['index'])].index"
      ]
    },
    {
      "cell_type": "code",
      "execution_count": null,
      "metadata": {
        "id": "Uge_8TQFPvlH"
      },
      "outputs": [],
      "source": [
        "dfe_accounts = dfe_accounts.drop(index=idx_eacc)\n",
        "dfe_monthly = dfe_monthly.drop(index=idx_emes)\n",
        "dfe_movement = dfe_movement.drop(index=idx_emov)\n",
        "dfe_orders = dfe_orders.drop(index=idx_eord)\n",
        "dfa_accounts = dfa_accounts.drop(index=idx_aacc)\n",
        "dfa_monthly = dfa_monthly.drop(index=idx_ames)\n",
        "dfa_movement = dfa_movement.drop(index=idx_amov)\n",
        "dfa_orders = dfa_orders.drop(index=idx_aord)"
      ]
    },
    {
      "cell_type": "markdown",
      "metadata": {
        "id": "fZ8t3YcXQZTO"
      },
      "source": [
        "Resolvemos criar uma coluna com informações que auxiliem o modelo a prever casos de clientes que realizam mais de uma evasão.\n",
        "\n",
        "A coluna criada corresponde ao número de Evasões anteriores a data em questão.\n",
        "\n"
      ]
    },
    {
      "cell_type": "code",
      "execution_count": null,
      "metadata": {
        "id": "etIogE5Ih2h0"
      },
      "outputs": [],
      "source": [
        "def get_previous_evasion(df):\n",
        "  df_ordenado = df.sort_values(by=['AccountID', 'Date'])\n",
        "  df_ordenado['PreviousEvasions'] = 0\n",
        "  id_atual = 'string'\n",
        "  evasoes_previas = 0\n",
        "\n",
        "  for idx in df_ordenado.index:\n",
        "    id_loop = df_ordenado.loc[idx]['AccountID']\n",
        "    if id_atual != id_loop:\n",
        "      evasoes_previas = 1\n",
        "      id_atual = id_loop\n",
        "    else:\n",
        "      df_ordenado.loc[idx, 'PreviousEvasions'] = evasoes_previas\n",
        "      evasoes_previas += 1\n",
        "    #print(idx)\n",
        "  return df_ordenado"
      ]
    },
    {
      "cell_type": "code",
      "execution_count": null,
      "metadata": {
        "id": "Po9yT36teyFm"
      },
      "outputs": [],
      "source": [
        "dfe_evasion = get_previous_evasion(dfe_evasion)\n",
        "dfe_evasion"
      ]
    },
    {
      "cell_type": "markdown",
      "metadata": {
        "id": "31_CGyaNlZB7"
      },
      "source": [
        "Validando o resultado"
      ]
    },
    {
      "cell_type": "code",
      "execution_count": null,
      "metadata": {
        "id": "BIMd9Q50lboQ"
      },
      "outputs": [],
      "source": [
        "dfe_evasion.query(\"AccountID == '+7SYGFKJkHNigbsnw582VQ=='\")"
      ]
    },
    {
      "cell_type": "markdown",
      "metadata": {
        "id": "eKItS-A96yvf"
      },
      "source": [
        "###Tabelas Accounts"
      ]
    },
    {
      "cell_type": "markdown",
      "metadata": {
        "id": "Ewh6RJP-w4aF"
      },
      "source": [
        "Visão geral"
      ]
    },
    {
      "cell_type": "code",
      "execution_count": null,
      "metadata": {
        "id": "N76uup7cn-Dp"
      },
      "outputs": [],
      "source": [
        "dfe_accounts.head(3)"
      ]
    },
    {
      "cell_type": "markdown",
      "metadata": {
        "id": "XDzKo7d3xDEJ"
      },
      "source": [
        "O país de todos os clientes (PersonMailingCountry) é Brasil, logo não faz sentido manter esta coluna.\n",
        "\n",
        "Será removida nas etapas seguintes."
      ]
    },
    {
      "cell_type": "code",
      "execution_count": null,
      "metadata": {
        "id": "tG4Dx-KctG4f"
      },
      "outputs": [],
      "source": [
        "dfe_accounts['PersonMailingCountry'].value_counts()"
      ]
    },
    {
      "cell_type": "markdown",
      "metadata": {
        "id": "nCdPpj2Nm22K"
      },
      "source": [
        "Acrescentando a coluna Evaded aos dataframes Accounts.\n",
        "\n",
        "\n",
        "*   Cliente ativo = 0\n",
        "*   Cliente que evadiu = 1\n",
        "\n"
      ]
    },
    {
      "cell_type": "code",
      "execution_count": null,
      "metadata": {
        "id": "jFXz5rQ3m08Y"
      },
      "outputs": [],
      "source": [
        "dfe_accounts['Evaded'] = 1    # Atribuindo 1 aos clientes que evadiram\n",
        "dfa_accounts['Evaded'] = 0    # Atribuindo 0 aos clientes ativos"
      ]
    },
    {
      "cell_type": "markdown",
      "metadata": {
        "id": "IhS9LGopst34"
      },
      "source": [
        "Concatenando os dois dataframes"
      ]
    },
    {
      "cell_type": "code",
      "execution_count": null,
      "metadata": {
        "id": "1wS27cGzCqqq"
      },
      "outputs": [],
      "source": [
        "acc = concat_info(dfe_accounts, dfa_accounts)"
      ]
    },
    {
      "cell_type": "code",
      "execution_count": null,
      "metadata": {
        "id": "UoMyg6U1mmKr"
      },
      "outputs": [],
      "source": [
        "acc.head(3)"
      ]
    },
    {
      "cell_type": "code",
      "execution_count": null,
      "metadata": {
        "id": "NvQeOZK5xtqe"
      },
      "outputs": [],
      "source": [
        "acc.describe()"
      ]
    },
    {
      "cell_type": "code",
      "execution_count": null,
      "metadata": {
        "id": "uLUkCB1Cx0dD"
      },
      "outputs": [],
      "source": [
        "acc.describe(include='object')"
      ]
    },
    {
      "cell_type": "markdown",
      "metadata": {
        "id": "VKNQ6eNdCjpP"
      },
      "source": [
        "### Tabela Movement"
      ]
    },
    {
      "cell_type": "markdown",
      "metadata": {
        "id": "vjw6aK3Q16xt"
      },
      "source": [
        "Visão geral"
      ]
    },
    {
      "cell_type": "code",
      "execution_count": null,
      "metadata": {
        "id": "kJCxvl7C18my"
      },
      "outputs": [],
      "source": [
        "dfe_movement.head(3)"
      ]
    },
    {
      "cell_type": "markdown",
      "metadata": {
        "id": "s4NnlyP63a3v"
      },
      "source": [
        "O significado da coluna HistoricId não ficou claro, talvez seja melhor removê-la."
      ]
    },
    {
      "cell_type": "code",
      "execution_count": null,
      "metadata": {
        "id": "Gq18mf2h2co6"
      },
      "outputs": [],
      "source": [
        "dfe_movement['HistoricId'].unique()"
      ]
    },
    {
      "cell_type": "code",
      "execution_count": null,
      "metadata": {
        "id": "wzFrs8YT5veU"
      },
      "outputs": [],
      "source": [
        "dfe_movement['Evaded'] = 1    # Atribuindo 1 aos clientes que evadiram\n",
        "dfa_movement['Evaded'] = 0    # Atribuindo 0 aos clientes ativos"
      ]
    },
    {
      "cell_type": "markdown",
      "metadata": {
        "id": "hl2pjbU13vIJ"
      },
      "source": [
        "Concatenando os dois dataframes."
      ]
    },
    {
      "cell_type": "code",
      "execution_count": null,
      "metadata": {
        "id": "I4LjOG84CyVr"
      },
      "outputs": [],
      "source": [
        "mov = concat_info(dfe_movement, dfa_movement)"
      ]
    },
    {
      "cell_type": "markdown",
      "metadata": {
        "id": "S2EAzE7s30BK"
      },
      "source": [
        "Outras tabelas também tem a informação de datas.\n",
        "\n",
        "Em cada tabela a data tem um contexto, por isso adicionei o sufixo ao nome da coluna. Ex: Date -> DateMovement"
      ]
    },
    {
      "cell_type": "code",
      "execution_count": null,
      "metadata": {
        "id": "uv7kJi4U3zPx"
      },
      "outputs": [],
      "source": [
        "mov['Date'] = pd.to_datetime(mov['Date'], infer_datetime_format=True)\n",
        "mov = mov.rename(columns={'Date': 'DateMovement'})"
      ]
    },
    {
      "cell_type": "code",
      "execution_count": null,
      "metadata": {
        "id": "XXIMTI1i5aij"
      },
      "outputs": [],
      "source": [
        "mov.head(3)"
      ]
    },
    {
      "cell_type": "code",
      "execution_count": null,
      "metadata": {
        "id": "iFRPOkaO4sbs"
      },
      "outputs": [],
      "source": [
        "mov.describe()"
      ]
    },
    {
      "cell_type": "code",
      "execution_count": null,
      "metadata": {
        "id": "bGhZUFtu4vZM"
      },
      "outputs": [],
      "source": [
        "mov.describe(include='object')"
      ]
    },
    {
      "cell_type": "markdown",
      "metadata": {
        "id": "00fNgJuUMc5b"
      },
      "source": [
        "Adicionando colunas com evasões prévias"
      ]
    },
    {
      "cell_type": "code",
      "execution_count": null,
      "metadata": {
        "id": "v4rnU7MX7cDg"
      },
      "outputs": [],
      "source": [
        "# Criando tabela com datas de evasões de cada cliente\n",
        "datas_evasoes = dfe_evasion.groupby(by='AccountID')['Date'].unique().reset_index()\n",
        "datas_evasoes"
      ]
    },
    {
      "cell_type": "code",
      "execution_count": null,
      "metadata": {
        "id": "W_y8UFmQOt6k"
      },
      "outputs": [],
      "source": [
        "datas_evasoes.loc[17985, ['Date']][0][1]"
      ]
    },
    {
      "cell_type": "code",
      "execution_count": null,
      "metadata": {
        "id": "8CM0oBZq7sJU"
      },
      "outputs": [],
      "source": [
        "# Adicionando as datas de evasões à tabela de movimentações\n",
        "mov_test = mov.merge(datas_evasoes, how='left', on='AccountID', suffixes=('', '_evasoes'))\n",
        "#mov['DateMovement_delta'] = (mov['DateMovement_last'] - mov['DateMovement']).dt.days\n",
        "mov_test"
      ]
    },
    {
      "cell_type": "code",
      "execution_count": null,
      "metadata": {
        "id": "9PSqbSjy7Yw2"
      },
      "outputs": [],
      "source": [
        "# Função que retorna o número de evasões prévias para cada linha\n",
        "def previous_evasion(row):\n",
        "  if row['Evaded'] == 1 and len(row['Date']) == 1:\n",
        "    if row['DateMovement'] <= row['Date'][0]:\n",
        "      return 0\n",
        "  if row['Evaded'] == 1 and len(row['Date']) == 2:\n",
        "    if row['DateMovement'] <= row['Date'][0]:\n",
        "      return 0\n",
        "    if row['DateMovement'] <= row['Date'][1]:\n",
        "      return 1\n",
        "  if row['Evaded'] == 1 and len(row['Date']) == 3:\n",
        "    if row['DateMovement'] <= row['Date'][0]:\n",
        "      return 0\n",
        "    if row['DateMovement'] <= row['Date'][1]:\n",
        "      return 1\n",
        "    if row['DateMovement'] <= row['Date'][2]:\n",
        "      return 2\n"
      ]
    },
    {
      "cell_type": "code",
      "execution_count": null,
      "metadata": {
        "id": "kSlwjvRh-ytB"
      },
      "outputs": [],
      "source": [
        "# Rodando a função - Criando uma nova coluna com o número de evasões prévias\n",
        "mov_test['previous_results'] = mov_test.apply(previous_evasion, axis=1)\n",
        "mov_test"
      ]
    },
    {
      "cell_type": "code",
      "execution_count": null,
      "metadata": {
        "id": "DYiCQR8cH3cy"
      },
      "outputs": [],
      "source": [
        "#Dropando registros com data de movimentação posterior a evasão\n",
        "idx = mov_test[mov_test['previous_results'].isnull() & mov_test['Evaded'] == 1].index\n",
        "mov = mov_test.drop(index=idx)"
      ]
    },
    {
      "cell_type": "markdown",
      "metadata": {
        "id": "V3T7L8nO70da"
      },
      "source": [
        "As movimentações após evasões foram removidas, pois teoricamente são de clientes que evadiram e retornaram (estão ativos novamente) ou podem ser reflexos da evasão. Por isso, não faz sentido manter esses dados no modelo."
      ]
    },
    {
      "cell_type": "code",
      "execution_count": null,
      "metadata": {
        "id": "YP4CsSgoKbAD"
      },
      "outputs": [],
      "source": [
        "#Preenchendo clientes sem evasões com 0\n",
        "mov['previous_results'].fillna(0, inplace=True)"
      ]
    },
    {
      "cell_type": "code",
      "execution_count": null,
      "metadata": {
        "id": "XTcDetzyKUIe"
      },
      "outputs": [],
      "source": [
        "mov.isnull().sum()"
      ]
    },
    {
      "cell_type": "code",
      "execution_count": null,
      "metadata": {
        "id": "ALT4JgS5K0FQ"
      },
      "outputs": [],
      "source": [
        "mov.head()"
      ]
    },
    {
      "cell_type": "code",
      "execution_count": null,
      "metadata": {
        "id": "Mg9cldeXGim0"
      },
      "outputs": [],
      "source": [
        "mov['previous_results'].value_counts()"
      ]
    },
    {
      "cell_type": "code",
      "execution_count": null,
      "metadata": {
        "id": "IbykAKTF9OdH"
      },
      "outputs": [],
      "source": [
        "mov.shape"
      ]
    },
    {
      "cell_type": "markdown",
      "metadata": {
        "id": "4XIxldpHMCvO"
      },
      "source": [
        "Filtro dos 15 dias"
      ]
    },
    {
      "cell_type": "code",
      "execution_count": null,
      "metadata": {
        "id": "Hcssya07Mv3D"
      },
      "outputs": [],
      "source": [
        "def last_day(dataframe, id, n_evasoes, data):\n",
        "  results = dataframe.groupby([id, n_evasoes])[data].max().reset_index()\n",
        "  return results"
      ]
    },
    {
      "cell_type": "markdown",
      "metadata": {
        "id": "CWDrA_em-ol8"
      },
      "source": [
        "O objetivo dessa função é fornecer a data mais recente de cada cliente a depender do número de evasões prévias."
      ]
    },
    {
      "cell_type": "code",
      "execution_count": null,
      "metadata": {
        "id": "qllBcVy3NCFX"
      },
      "outputs": [],
      "source": [
        "last_mov = last_day(mov, 'AccountID', 'previous_results', 'DateMovement')\n",
        "last_mov.head(3)"
      ]
    },
    {
      "cell_type": "code",
      "execution_count": null,
      "metadata": {
        "id": "YMCXA1TtNVFo"
      },
      "outputs": [],
      "source": [
        "mov"
      ]
    },
    {
      "cell_type": "code",
      "execution_count": null,
      "metadata": {
        "id": "SiZSEVge_vqk"
      },
      "outputs": [],
      "source": [
        "mov.info()"
      ]
    },
    {
      "cell_type": "code",
      "execution_count": null,
      "metadata": {
        "id": "daU8BvmsNPZz"
      },
      "outputs": [],
      "source": [
        "mov = mov.merge(last_mov, how='left', on=['AccountID', 'previous_results'], suffixes=('', '_last'))\n",
        "mov['DateMovement_delta'] = (mov['DateMovement_last'] - mov['DateMovement']).dt.days\n",
        "mov.head(3)"
      ]
    },
    {
      "cell_type": "markdown",
      "metadata": {
        "id": "dOx9ou4ABox5"
      },
      "source": [
        "Foram geradas duas novas colunas:\n",
        "* data da última movimentação para o cliente\n",
        "* intervalo entre movimentação daquela linha e a última movimentação do cliente."
      ]
    },
    {
      "cell_type": "code",
      "execution_count": null,
      "metadata": {
        "id": "ibF_VVCJNB6b"
      },
      "outputs": [],
      "source": [
        "mov = mov[mov['DateMovement_delta'] >= 15]\n",
        "mov"
      ]
    },
    {
      "cell_type": "markdown",
      "metadata": {
        "id": "9H2KLDz38anx"
      },
      "source": [
        "### Tabela Month"
      ]
    },
    {
      "cell_type": "markdown",
      "metadata": {
        "id": "avn4KiRy5M4V"
      },
      "source": [
        "Visão geral"
      ]
    },
    {
      "cell_type": "code",
      "execution_count": null,
      "metadata": {
        "id": "uaHExUH05OGX"
      },
      "outputs": [],
      "source": [
        "dfe_monthly.head(3)"
      ]
    },
    {
      "cell_type": "markdown",
      "metadata": {
        "id": "LEK44k5FkDMF"
      },
      "source": [
        "Tipos únicos de ativos/contas presentes na tabela."
      ]
    },
    {
      "cell_type": "code",
      "execution_count": null,
      "metadata": {
        "id": "dIcEUVMA6mu9"
      },
      "outputs": [],
      "source": [
        "# Symbol\n",
        "dfe_monthly['Symbol'].nunique()"
      ]
    },
    {
      "cell_type": "markdown",
      "metadata": {
        "id": "Qzjv41N15gjv"
      },
      "source": [
        "Aparentemente nenhuma coluna precisa ser removida."
      ]
    },
    {
      "cell_type": "code",
      "execution_count": null,
      "metadata": {
        "id": "gYQHcKEcPk4U"
      },
      "outputs": [],
      "source": [
        "dfe_monthly['Evaded'] = 1\n",
        "dfa_monthly['Evaded'] = 0"
      ]
    },
    {
      "cell_type": "markdown",
      "metadata": {
        "id": "Jtjdx5iB9px-"
      },
      "source": [
        "Concatenando os dois dataframes."
      ]
    },
    {
      "cell_type": "code",
      "execution_count": null,
      "metadata": {
        "id": "YNkiXXf6Cx7J"
      },
      "outputs": [],
      "source": [
        "mes = concat_info(dfe_monthly, dfa_monthly)"
      ]
    },
    {
      "cell_type": "code",
      "execution_count": null,
      "metadata": {
        "id": "yo08Menj5mm9"
      },
      "outputs": [],
      "source": [
        "mes['Date'] = pd.to_datetime(mes['Date'], infer_datetime_format=True)\n",
        "mes = mes.rename(columns={'Date': 'DateMes'})"
      ]
    },
    {
      "cell_type": "code",
      "execution_count": null,
      "metadata": {
        "id": "hIbcUU9s5yRx"
      },
      "outputs": [],
      "source": [
        "mes.head(3)"
      ]
    },
    {
      "cell_type": "code",
      "execution_count": null,
      "metadata": {
        "id": "RiT369vF50ak"
      },
      "outputs": [],
      "source": [
        "mes.describe()"
      ]
    },
    {
      "cell_type": "code",
      "execution_count": null,
      "metadata": {
        "id": "JDRud-dD53Ut"
      },
      "outputs": [],
      "source": [
        "mes.describe(include='object')"
      ]
    },
    {
      "cell_type": "markdown",
      "metadata": {
        "id": "S-_kfeA0P1LU"
      },
      "source": [
        "Função 1 - Contagem de evasoes previas"
      ]
    },
    {
      "cell_type": "code",
      "execution_count": null,
      "metadata": {
        "id": "DsTVFPBgQy0X"
      },
      "outputs": [],
      "source": [
        "mes = mes.merge(datas_evasoes, how='left', on='AccountID', suffixes=('', '_evasoes'))\n",
        "#mov['DateMovement_delta'] = (mov['DateMovement_last'] - mov['DateMovement']).dt.days\n",
        "mes"
      ]
    },
    {
      "cell_type": "code",
      "execution_count": null,
      "metadata": {
        "id": "5-RRkX9GQJ1L"
      },
      "outputs": [],
      "source": [
        "def previous_evasion(row):\n",
        "  if row['Evaded'] == 1 and len(row['Date']) == 1:\n",
        "    if row['DateMes'] <= row['Date'][0]:\n",
        "      return 0\n",
        "  if row['Evaded'] == 1 and len(row['Date']) == 2:\n",
        "    if row['DateMes'] <= row['Date'][0]:\n",
        "      return 0\n",
        "    if row['DateMes'] <= row['Date'][1]:\n",
        "      return 1\n",
        "  if row['Evaded'] == 1 and len(row['Date']) == 3:\n",
        "    if row['DateMes'] <= row['Date'][0]:\n",
        "      return 0\n",
        "    if row['DateMes'] <= row['Date'][1]:\n",
        "      return 1\n",
        "    if row['DateMes'] <= row['Date'][2]:\n",
        "      return 2\n"
      ]
    },
    {
      "cell_type": "code",
      "execution_count": null,
      "metadata": {
        "id": "3vsU8u7gRC_u"
      },
      "outputs": [],
      "source": [
        "mes['previous_results'] = mes.apply(previous_evasion, axis=1)\n",
        "mes"
      ]
    },
    {
      "cell_type": "code",
      "execution_count": null,
      "metadata": {
        "id": "32N0S9DqRltd"
      },
      "outputs": [],
      "source": [
        "mes['previous_results'].isnull().sum()"
      ]
    },
    {
      "cell_type": "code",
      "execution_count": null,
      "metadata": {
        "id": "x51mQM6xSBUN"
      },
      "outputs": [],
      "source": [
        "#Dropando registros com data de movimentação posterior a evasão\n",
        "idx = mes[mes['previous_results'].isnull() & mes['Evaded'] == 1].index\n",
        "mes = mes.drop(index=idx)"
      ]
    },
    {
      "cell_type": "markdown",
      "metadata": {
        "id": "P4T5nWHBlIlV"
      },
      "source": [
        "Os registros após evasões foram removidos, pois os clientes que evadiram e retornaram (estão ativos novamente) ou podem ser reflexos da evasão. Por isso, não faz sentido manter esses dados no modelo."
      ]
    },
    {
      "cell_type": "code",
      "execution_count": null,
      "metadata": {
        "id": "O8KdIbENSp1t"
      },
      "outputs": [],
      "source": [
        "#Preenchendo clientes sem evasões com 0\n",
        "mes['previous_results'].fillna(0, inplace=True)\n"
      ]
    },
    {
      "cell_type": "markdown",
      "metadata": {
        "id": "1BZFCnMaSWLT"
      },
      "source": [
        "Função 2 - 15 dias"
      ]
    },
    {
      "cell_type": "code",
      "execution_count": null,
      "metadata": {
        "id": "oZxgVHA4S6os"
      },
      "outputs": [],
      "source": [
        "last_mes = last_day(mes, 'AccountID', 'previous_results', 'DateMes')\n",
        "last_mes.head(3)"
      ]
    },
    {
      "cell_type": "code",
      "execution_count": null,
      "metadata": {
        "id": "Q_y6xHe9Yn85"
      },
      "outputs": [],
      "source": [
        "mes = mes.merge(last_mes, how='right', on=['AccountID', 'previous_results'], suffixes=('', '_last'))\n",
        "mes['DateMes_delta'] = (mes['DateMes_last'] - mes['DateMes']).dt.days\n",
        "mes.head(3)"
      ]
    },
    {
      "cell_type": "code",
      "execution_count": null,
      "metadata": {
        "id": "fAQTVUX2Y_dy"
      },
      "outputs": [],
      "source": [
        "mes = mes[mes['DateMes_delta'] >= 15]\n",
        "mes"
      ]
    },
    {
      "cell_type": "markdown",
      "metadata": {
        "id": "gY24rL0rCoLx"
      },
      "source": [
        "### Tabela Orders"
      ]
    },
    {
      "cell_type": "markdown",
      "metadata": {
        "id": "WM-FF-qX7NbL"
      },
      "source": [
        "Visão geral"
      ]
    },
    {
      "cell_type": "code",
      "execution_count": null,
      "metadata": {
        "id": "xXtNkJSB7PxJ"
      },
      "outputs": [],
      "source": [
        "dfe_orders.head(3)"
      ]
    },
    {
      "cell_type": "markdown",
      "metadata": {
        "id": "sHUCe4O487Kv"
      },
      "source": [
        "O grupo de clientes que evadem tem o volume de ordens bem menor, se comparado a clientes ativos.\n",
        "\n",
        "Além disso, a proporção de compra e venda é bem diferente. Clientes que evadem 'vendem' proporcionalmente bem mais do que clientes que não evadem.\n",
        "\n",
        "É necessário investigar se esse comportamento ocorre precocemente ou se é apenas um reflexo da decisão de evadir. Ou seja, a maior porporção de vendas(BuySell=S) seria uma causa ou efeito?"
      ]
    },
    {
      "cell_type": "code",
      "execution_count": null,
      "metadata": {
        "id": "eNz0cALzTpnu"
      },
      "outputs": [],
      "source": [
        "dfe_orders['Evaded'] = 1\n",
        "dfa_orders['Evaded'] = 0"
      ]
    },
    {
      "cell_type": "markdown",
      "metadata": {
        "id": "of7DZkCD9w7v"
      },
      "source": [
        "Concatenando os dois dataframes"
      ]
    },
    {
      "cell_type": "code",
      "execution_count": null,
      "metadata": {
        "id": "-kCweOPkCzN-"
      },
      "outputs": [],
      "source": [
        "ord = concat_info(dfe_orders, dfa_orders)"
      ]
    },
    {
      "cell_type": "code",
      "execution_count": null,
      "metadata": {
        "id": "ab7ZysWC9zS5"
      },
      "outputs": [],
      "source": [
        "ord['Date'] = pd.to_datetime(ord['Date'], infer_datetime_format=True)\n",
        "ord = ord.rename(columns={'Date': 'DateOrders'})"
      ]
    },
    {
      "cell_type": "code",
      "execution_count": null,
      "metadata": {
        "id": "3YKd3cLO-Hb3"
      },
      "outputs": [],
      "source": [
        "ord.describe()"
      ]
    },
    {
      "cell_type": "code",
      "execution_count": null,
      "metadata": {
        "id": "ybXU2ZrY-Jdl"
      },
      "outputs": [],
      "source": [
        "ord.describe(include='object')"
      ]
    },
    {
      "cell_type": "markdown",
      "metadata": {
        "id": "SSbTK5pzUdqx"
      },
      "source": [
        "Função 1"
      ]
    },
    {
      "cell_type": "code",
      "execution_count": null,
      "metadata": {
        "id": "XE0ThWzfUequ"
      },
      "outputs": [],
      "source": [
        "ord = ord.merge(datas_evasoes, how='left', on='AccountID', suffixes=('', '_evasoes'))\n",
        "#mov['DateMovement_delta'] = (mov['DateMovement_last'] - mov['DateMovement']).dt.days\n",
        "ord"
      ]
    },
    {
      "cell_type": "code",
      "execution_count": null,
      "metadata": {
        "id": "5QQIhYmfUrSc"
      },
      "outputs": [],
      "source": [
        "def previous_evasion(row):\n",
        "  if row['Evaded'] == 1 and len(row['Date']) == 1:\n",
        "    if row['DateOrders'] <= row['Date'][0]:\n",
        "      return 0\n",
        "  if row['Evaded'] == 1 and len(row['Date']) == 2:\n",
        "    if row['DateOrders'] <= row['Date'][0]:\n",
        "      return 0\n",
        "    if row['DateOrders'] <= row['Date'][1]:\n",
        "      return 1\n",
        "  if row['Evaded'] == 1 and len(row['Date']) == 3:\n",
        "    if row['DateOrders'] <= row['Date'][0]:\n",
        "      return 0\n",
        "    if row['DateOrders'] <= row['Date'][1]:\n",
        "      return 1\n",
        "    if row['DateOrders'] <= row['Date'][2]:\n",
        "      return 2"
      ]
    },
    {
      "cell_type": "code",
      "execution_count": null,
      "metadata": {
        "id": "N5gpyhvgU6fo"
      },
      "outputs": [],
      "source": [
        "#Rodando a função\n",
        "ord['previous_results'] = ord.apply(previous_evasion, axis=1)\n",
        "ord\n"
      ]
    },
    {
      "cell_type": "code",
      "execution_count": null,
      "metadata": {
        "id": "IbaJLLR9VMss"
      },
      "outputs": [],
      "source": [
        "#Dropando registros com data de movimentação posterior a evasão\n",
        "idx = ord[ord['previous_results'].isnull() & ord['Evaded'] == 1].index\n",
        "ord = ord.drop(index=idx)"
      ]
    },
    {
      "cell_type": "code",
      "execution_count": null,
      "metadata": {
        "id": "gwvfVRYEVS2w"
      },
      "outputs": [],
      "source": [
        "#Preenchendo clientes sem evasões com 0\n",
        "ord['previous_results'].fillna(0, inplace=True)\n"
      ]
    },
    {
      "cell_type": "markdown",
      "metadata": {
        "id": "J7fuwKdTU5cr"
      },
      "source": [
        "Funçao 2"
      ]
    },
    {
      "cell_type": "code",
      "execution_count": null,
      "metadata": {
        "id": "2wsvW96gNoYm"
      },
      "outputs": [],
      "source": [
        "last_ord = last_day(ord, 'AccountID', 'previous_results','DateOrders')\n",
        "last_ord.head()"
      ]
    },
    {
      "cell_type": "code",
      "execution_count": null,
      "metadata": {
        "id": "xc2ab0poOIsP"
      },
      "outputs": [],
      "source": [
        "ord = ord.merge(last_ord, how='right', on=['AccountID', 'previous_results'], suffixes=('', '_last'))\n",
        "ord['DateOrders_delta'] = (ord['DateOrders_last'] - ord['DateOrders']).dt.days\n",
        "ord.head()"
      ]
    },
    {
      "cell_type": "code",
      "execution_count": null,
      "metadata": {
        "id": "XTHJDWtvZwSA"
      },
      "outputs": [],
      "source": [
        "ord = ord[ord['DateOrders_delta'] >= 15]\n",
        "ord"
      ]
    },
    {
      "cell_type": "markdown",
      "metadata": {
        "id": "SsnnGNQ8WJ4E"
      },
      "source": [
        "### Resumo - dimensões"
      ]
    },
    {
      "cell_type": "markdown",
      "metadata": {
        "id": "aJM83ucZbMnz"
      },
      "source": [
        "Embora o número de registros nas tabelas 'accounts' seja similar (~18.000) entre os conjuntos de clientes ativos e de evasão, nota-se que para as outras tabelas existem discrepâncias.\n",
        "\n",
        "Clientes ativos tem\n",
        "\n",
        "\n",
        "*   ~5 vezes mais registros na tabela month\n",
        "*   ~2,3 vezes mais registros na tabela movements\n",
        "*   ~2,2 vezes mais registros na tabela Orders\n",
        "\n",
        "\n"
      ]
    },
    {
      "cell_type": "markdown",
      "metadata": {
        "id": "gZ9_EqLQXTSj"
      },
      "source": [
        "### Resumo - contagem de IDs únicos"
      ]
    },
    {
      "cell_type": "markdown",
      "metadata": {
        "id": "j2JnaTCyc21D"
      },
      "source": [
        "O número de clientes ativos únicos é similar nas diferentes tabelas(~19.000).\n",
        "Porém, os clientes que realizaram evasão tem uma menor 'participação' na tabela Month e Orders, são aproximadamente 18.000 contas, mas apenas 14.000 possuem dados de posição mensal e apenas 9637 possuem dados de ordens.\n",
        "\n",
        "\n",
        "Isso pode indicar que parte dos clientes que realizaram evasão nem chegaram a utilizar a conta americana e comprar ativos."
      ]
    },
    {
      "cell_type": "markdown",
      "metadata": {
        "id": "nel_osocd8-0"
      },
      "source": [
        "### Resumo - contagem de nulos e tratamentos definidos"
      ]
    },
    {
      "cell_type": "markdown",
      "metadata": {
        "id": "Sc9uwRMyQfGd"
      },
      "source": [
        "Tratamento definido para a tabela Accounts (acc):\n",
        "\n",
        "*   Function = Tratamento escolhido: preencher com 'OTHER'\n",
        "*   ('MonthlyIncome', 'NetWorth', 'TotalInvested') =  Tratamento: preencher com Mediana\n",
        "*    PersonMailingCountry = Exclusão da coluna inteira, todos valores são 'BRA'\n",
        "*   Evaded = Essa coluna foi adicionada para diferenciação dos grupos.\n",
        "\n"
      ]
    },
    {
      "cell_type": "markdown",
      "metadata": {
        "id": "8NDMvQVkRDEI"
      },
      "source": [
        "A tabela Movements também possui nulos, mas em menor proporção(<10):\n",
        "\n",
        "\n",
        "*   AmountTtotalDol = Tratamento: Drop(linha)\n",
        "\n"
      ]
    },
    {
      "cell_type": "markdown",
      "metadata": {
        "id": "8KGvYkqN_qsD"
      },
      "source": [
        "Questões em aberto:\n",
        "\n",
        "\n",
        "*   Remover coluna com 'HistoricId' ?\n",
        "*   Remover registros que possuem valores monetário muito baixos (ex: salário= 0.1)?\n",
        "\n"
      ]
    },
    {
      "cell_type": "markdown",
      "metadata": {
        "id": "0r2FKsAbdWWG"
      },
      "source": [
        "#3. Data preparation"
      ]
    },
    {
      "cell_type": "markdown",
      "metadata": {
        "id": "9gpSBVOWYra9"
      },
      "source": [
        "##Tratamento de nulos"
      ]
    },
    {
      "cell_type": "code",
      "execution_count": null,
      "metadata": {
        "id": "QhsLKAxFzcGA"
      },
      "outputs": [],
      "source": [
        "accounts = acc\n",
        "movements = mov\n",
        "monthly = mes\n",
        "orders = ord"
      ]
    },
    {
      "cell_type": "code",
      "execution_count": null,
      "metadata": {
        "id": "RNp6IHl2vKcl"
      },
      "outputs": [],
      "source": [
        "accounts.isnull().sum()"
      ]
    },
    {
      "cell_type": "code",
      "execution_count": null,
      "metadata": {
        "id": "P671kxUivc8D"
      },
      "outputs": [],
      "source": [
        "movements.isnull().sum()"
      ]
    },
    {
      "cell_type": "code",
      "execution_count": null,
      "metadata": {
        "id": "seumuObqvNrM"
      },
      "outputs": [],
      "source": [
        "monthly.isnull().sum()"
      ]
    },
    {
      "cell_type": "code",
      "execution_count": null,
      "metadata": {
        "id": "Ms0QEm9fvTlA"
      },
      "outputs": [],
      "source": [
        "orders.isnull().sum()"
      ]
    },
    {
      "cell_type": "markdown",
      "metadata": {
        "id": "dNj6k5y3f3kn"
      },
      "source": [
        "###Tabela: Account"
      ]
    },
    {
      "cell_type": "markdown",
      "metadata": {
        "id": "fpQMav85BZlf"
      },
      "source": [
        "Coluna: Function"
      ]
    },
    {
      "cell_type": "code",
      "execution_count": null,
      "metadata": {
        "id": "iRS0Q1LVeTGQ"
      },
      "outputs": [],
      "source": [
        "#acc['Function'].fillna('OTHER', inplace=True)"
      ]
    },
    {
      "cell_type": "markdown",
      "metadata": {
        "id": "JWu5DaNbCDAt"
      },
      "source": [
        "Coluna: PersonMailingCountry"
      ]
    },
    {
      "cell_type": "code",
      "execution_count": null,
      "metadata": {
        "id": "JMR1bFfmBmm9"
      },
      "outputs": [],
      "source": [
        "# acc.drop('PersonMailingCountry', axis=1, inplace=True)\n",
        "acc.drop(['PersonMailingCountry', 'Function', 'MonthlyIncome', 'NetWorth', 'TotalInvested'], axis=1, inplace=True)"
      ]
    },
    {
      "cell_type": "markdown",
      "metadata": {
        "id": "w_Gr8iRhhAaS"
      },
      "source": [
        "Colunas 'MonthlyIncome', 'NetWorth', 'TotalInvested':"
      ]
    },
    {
      "cell_type": "code",
      "execution_count": null,
      "metadata": {
        "id": "FIgRLEv1qUvP"
      },
      "outputs": [],
      "source": [
        "#acc[['MonthlyIncome', 'NetWorth', 'TotalInvested']] = acc[['MonthlyIncome', 'NetWorth', 'TotalInvested']].fillna(acc[['MonthlyIncome', 'NetWorth', 'TotalInvested']].median())"
      ]
    },
    {
      "cell_type": "markdown",
      "metadata": {
        "id": "SxjkmA7rCIby"
      },
      "source": [
        "Resultado - Contagem de Nulos"
      ]
    },
    {
      "cell_type": "code",
      "execution_count": null,
      "metadata": {
        "id": "jwkQSGLMqcNK"
      },
      "outputs": [],
      "source": [
        "acc.isnull().sum()"
      ]
    },
    {
      "cell_type": "markdown",
      "metadata": {
        "id": "zZyEQUoMBewm"
      },
      "source": [
        "###Tabela Movement"
      ]
    },
    {
      "cell_type": "markdown",
      "metadata": {
        "id": "KLrdezVhGZ_h"
      },
      "source": [
        "Coluna: HistoricId"
      ]
    },
    {
      "cell_type": "code",
      "execution_count": null,
      "metadata": {
        "id": "cyANNWiDGdte"
      },
      "outputs": [],
      "source": [
        "mov.drop(['HistoricId', 'Date'], axis=1, inplace=True)"
      ]
    },
    {
      "cell_type": "markdown",
      "metadata": {
        "id": "y6hslSsfuR1n"
      },
      "source": [
        "Apenas as colunas 'HistoricID' e 'Date' foram dropadas(nulos ou não agregam ao modelo)"
      ]
    },
    {
      "cell_type": "markdown",
      "metadata": {
        "id": "DlBCE-Wvqsjp"
      },
      "source": [
        "Coluna: AmountTotalDol\n",
        "\n",
        "Removi as linhas com valores nulos pois eram apenas menos de 10."
      ]
    },
    {
      "cell_type": "markdown",
      "metadata": {
        "id": "NpT1LGsGCRyE"
      },
      "source": [
        "Resultado - Contagem de Nulos"
      ]
    },
    {
      "cell_type": "code",
      "execution_count": null,
      "metadata": {
        "id": "rx7rqzwTr0Zq"
      },
      "outputs": [],
      "source": [
        "mov.isnull().sum()"
      ]
    },
    {
      "cell_type": "markdown",
      "metadata": {
        "id": "Vsl1DJ2-fWcy"
      },
      "source": [
        "##Busca por dados inconsistentes (valores negativos)"
      ]
    },
    {
      "cell_type": "code",
      "execution_count": null,
      "metadata": {
        "id": "od4t2l0Lfcet"
      },
      "outputs": [],
      "source": [
        "acc.select_dtypes('number').min()"
      ]
    },
    {
      "cell_type": "code",
      "execution_count": null,
      "metadata": {
        "id": "PNhAThWJf3Th"
      },
      "outputs": [],
      "source": [
        "mes.select_dtypes('number').min()"
      ]
    },
    {
      "cell_type": "code",
      "execution_count": null,
      "metadata": {
        "id": "qEEc8PVogHMM"
      },
      "outputs": [],
      "source": [
        "mov.select_dtypes('number').min()"
      ]
    },
    {
      "cell_type": "code",
      "execution_count": null,
      "metadata": {
        "id": "A-FUYpTRgL5y"
      },
      "outputs": [],
      "source": [
        "ord.select_dtypes('number').min()"
      ]
    },
    {
      "cell_type": "code",
      "execution_count": null,
      "metadata": {
        "id": "mxnSQ4qjgX5s"
      },
      "outputs": [],
      "source": [
        "dfe_accounts.select_dtypes('number').min()"
      ]
    },
    {
      "cell_type": "code",
      "execution_count": null,
      "metadata": {
        "id": "JjRw9Rv7gdiZ"
      },
      "outputs": [],
      "source": [
        "dfe_monthly.select_dtypes('number').min()"
      ]
    },
    {
      "cell_type": "code",
      "execution_count": null,
      "metadata": {
        "id": "JwMvnVOlghzP"
      },
      "outputs": [],
      "source": [
        "dfe_movement.select_dtypes('number').min()"
      ]
    },
    {
      "cell_type": "code",
      "execution_count": null,
      "metadata": {
        "id": "PPgVgHpugj4b"
      },
      "outputs": [],
      "source": [
        "dfe_movement.select_dtypes('number').min()"
      ]
    },
    {
      "cell_type": "markdown",
      "metadata": {
        "id": "EJpGnua3gqns"
      },
      "source": [
        "Obs: Nem todos valores negativos são inconsistentes, depende da natureza/significado da variável.\n",
        "\n",
        "Avaliar em maiores detalhes e verificar a necessidade de tratar registros com valores muitos baixos. Ex: salário(MonthlyIncome)= $0.01."
      ]
    },
    {
      "cell_type": "markdown",
      "metadata": {
        "id": "cxS0EiwcClvl"
      },
      "source": [
        "##Construct Data"
      ]
    },
    {
      "cell_type": "markdown",
      "metadata": {
        "id": "zDPWb36_SVLX"
      },
      "source": [
        "###Tabela Movement (mov)"
      ]
    },
    {
      "cell_type": "code",
      "execution_count": null,
      "metadata": {
        "id": "VDKMPj-rDWPl"
      },
      "outputs": [],
      "source": [
        "mov.head(3)"
      ]
    },
    {
      "cell_type": "markdown",
      "metadata": {
        "id": "zdtYUXGvSJWZ"
      },
      "source": [
        "Agrupando os dados"
      ]
    },
    {
      "cell_type": "code",
      "execution_count": null,
      "metadata": {
        "id": "gsgGs2p4Iq2y"
      },
      "outputs": [],
      "source": [
        "mov_group = mov.groupby(by=['AccountID', 'previous_results']).agg({'AccountID': 'count',\n",
        "                                 'DateMovement_delta': 'max',\n",
        "                                 'AccountType': 'nunique',\n",
        "                                 'Description': 'nunique',\n",
        "                                 'AmountTotalDol': ['mean','sum']\n",
        "}).reset_index()\n"
      ]
    },
    {
      "cell_type": "markdown",
      "metadata": {
        "id": "3a_TSmn1SNoZ"
      },
      "source": [
        "Renomeando as colunas do df agrupado"
      ]
    },
    {
      "cell_type": "code",
      "execution_count": null,
      "metadata": {
        "id": "iSJCOmXmQgUh"
      },
      "outputs": [],
      "source": [
        "mov_group.columns = ['_'.join(col).strip() if col[1] != \"\" else col[0] for col in mov_group.columns.values]"
      ]
    },
    {
      "cell_type": "markdown",
      "metadata": {
        "id": "QtwjO0RvSbN1"
      },
      "source": [
        "Resultado parcial"
      ]
    },
    {
      "cell_type": "code",
      "execution_count": null,
      "metadata": {
        "id": "_o-gXEqxRTAV"
      },
      "outputs": [],
      "source": [
        "mov_group.head(3)"
      ]
    },
    {
      "cell_type": "markdown",
      "metadata": {
        "id": "ewgfcDloTLzV"
      },
      "source": [
        "###Tabela Accounts(acc)"
      ]
    },
    {
      "cell_type": "code",
      "execution_count": null,
      "metadata": {
        "id": "Qs2-nv1U4uRL"
      },
      "outputs": [],
      "source": [
        "acc.columns"
      ]
    },
    {
      "cell_type": "code",
      "execution_count": null,
      "metadata": {
        "id": "Rw1APFk2TTBU"
      },
      "outputs": [],
      "source": [
        "acc.head(3)"
      ]
    },
    {
      "cell_type": "markdown",
      "metadata": {
        "id": "MYJkGv5KVJpk"
      },
      "source": [
        "Criando duas novas colunas com a proporção da renda mensal e do patrimônio investidos no total."
      ]
    },
    {
      "cell_type": "code",
      "execution_count": null,
      "metadata": {
        "id": "xuoBtAx9TbEW"
      },
      "outputs": [],
      "source": [
        "#acc['PctMonthlyInvested'] = acc['TotalInvested'] / acc['MonthlyIncome'] *100 #Proporção do salário investido em %\n",
        "#acc['PctNetInvested'] = acc['TotalInvested'] / acc['NetWorth'] *100  #Proporção do patrimônio investido em %"
      ]
    },
    {
      "cell_type": "markdown",
      "metadata": {
        "id": "3XKpPKCgZvfu"
      },
      "source": [
        "Investigando a coluna de estado civil"
      ]
    },
    {
      "cell_type": "markdown",
      "metadata": {
        "id": "gATSkEV1kqHI"
      },
      "source": [
        "###Tabela Monthly (mes)"
      ]
    },
    {
      "cell_type": "code",
      "execution_count": null,
      "metadata": {
        "id": "wDVs3Hppko_D"
      },
      "outputs": [],
      "source": [
        "mes.head(3)"
      ]
    },
    {
      "cell_type": "code",
      "execution_count": null,
      "metadata": {
        "id": "ePcUDp1jnaVg"
      },
      "outputs": [],
      "source": [
        "mes_group = mes.groupby(by=['AccountID', 'previous_results']).agg({'AccountID': 'count',\n",
        "                                 'DateMes_delta': 'max',\n",
        "                                 'ProductCategory': 'nunique',\n",
        "                                 'Symbol': 'nunique',\n",
        "                                 'TotalNetDol': ['mean', 'sum']\n",
        "}).reset_index()"
      ]
    },
    {
      "cell_type": "code",
      "execution_count": null,
      "metadata": {
        "id": "BR1fe6ZFnMcj"
      },
      "outputs": [],
      "source": [
        "mes_group.columns = ['_'.join(col).strip() if col[1] != \"\" else col[0] for col in mes_group.columns.values]"
      ]
    },
    {
      "cell_type": "code",
      "execution_count": null,
      "metadata": {
        "id": "4hBl2wyLqDU4"
      },
      "outputs": [],
      "source": [
        "mes_group.head()"
      ]
    },
    {
      "cell_type": "markdown",
      "metadata": {
        "id": "jcckb4h8nciH"
      },
      "source": [
        "###Tabela Orders (ord)"
      ]
    },
    {
      "cell_type": "code",
      "execution_count": null,
      "metadata": {
        "id": "CoLGdnZ0ty6D"
      },
      "outputs": [],
      "source": [
        "ord.head(3)"
      ]
    },
    {
      "cell_type": "code",
      "execution_count": null,
      "metadata": {
        "id": "Y-hFqdOat3GK"
      },
      "outputs": [],
      "source": [
        "ord_group = ord.groupby(by=['AccountID', 'previous_results']).agg({'AccountID': 'count',\n",
        "                                 'DateOrders_delta': 'max',\n",
        "                                 'ProductCategory': 'nunique',\n",
        "                                 'Symbol': 'nunique',\n",
        "                                 'TotalExecutedVolume': ['mean','sum']\n",
        "}).reset_index()"
      ]
    },
    {
      "cell_type": "code",
      "execution_count": null,
      "metadata": {
        "id": "OZ6APWRPv4Lv"
      },
      "outputs": [],
      "source": [
        "ord_group.columns = ['_'.join(col).strip() if col[1] != \"\" else col[0] for col in ord_group.columns.values]"
      ]
    },
    {
      "cell_type": "markdown",
      "metadata": {
        "id": "sPhxt_ajbuoT"
      },
      "source": [
        "##Integrando as tabelas"
      ]
    },
    {
      "cell_type": "markdown",
      "metadata": {
        "id": "Qzg1U6R-byHl"
      },
      "source": [
        "Primeiro fiz o merge par a par (tabela accounts e outras), para verificar a correlação de cada tabela com a variável 'Evaded' que estava apenas na tabela accounts."
      ]
    },
    {
      "cell_type": "markdown",
      "metadata": {
        "id": "S5LnnMbxwtfo"
      },
      "source": [
        "Depois fiz o Merge de todas 4, são muitas colunas. Recomendo fazermos uma seleção antes da modelagem."
      ]
    },
    {
      "cell_type": "markdown",
      "metadata": {
        "id": "SzfYA_i5w2Vz"
      },
      "source": [
        "###MERGE ACC & MOV"
      ]
    },
    {
      "cell_type": "code",
      "execution_count": null,
      "metadata": {
        "id": "2AwoYMqjxJmg"
      },
      "outputs": [],
      "source": [
        "mov.head()"
      ]
    },
    {
      "cell_type": "code",
      "execution_count": null,
      "metadata": {
        "id": "emUhDAcdb4cY"
      },
      "outputs": [],
      "source": [
        "acc_mov_merge = pd.merge(acc, mov_group, how='left', on='AccountID')"
      ]
    },
    {
      "cell_type": "markdown",
      "metadata": {
        "id": "HQlUG-d3dRZp"
      },
      "source": [
        "Obs: 2 registros da tabela Accounts não constam na tabela Movement. Como são poucos, usei o 'inner' para retornar apenas os registros que constam em ambas e evitar a criação de nulos"
      ]
    },
    {
      "cell_type": "code",
      "execution_count": null,
      "metadata": {
        "id": "PLRMCg25cOJe"
      },
      "outputs": [],
      "source": [
        "acc_mov_merge.head()"
      ]
    },
    {
      "cell_type": "code",
      "execution_count": null,
      "metadata": {
        "id": "0PpZY4B_eeTh"
      },
      "outputs": [],
      "source": [
        "corr = acc_mov_merge.corr()\n",
        "\n",
        "cmap = sns.diverging_palette(250, 10, as_cmap=True)\n",
        "\n",
        "fig = plt.figure(figsize=(20,15))\n",
        "sns.heatmap(corr, cmap=cmap, annot=True);"
      ]
    },
    {
      "cell_type": "markdown",
      "metadata": {
        "id": "4OLlEEteuswy"
      },
      "source": [
        "### MERGE ACC & MOV"
      ]
    },
    {
      "cell_type": "code",
      "execution_count": null,
      "metadata": {
        "id": "CWQ0VZ9byFuo"
      },
      "outputs": [],
      "source": [
        "mes_group.info()"
      ]
    },
    {
      "cell_type": "code",
      "execution_count": null,
      "metadata": {
        "id": "Bimu_1fDuxfW"
      },
      "outputs": [],
      "source": [
        "# Excluir essa parte (merge de apenas 2 tabelas)\n",
        "#acc_mes_merge = pd.merge(acc, mes_group, how='left', on=['AccountID', 'previous_results'])"
      ]
    },
    {
      "cell_type": "code",
      "execution_count": null,
      "metadata": {
        "id": "mv2JS-KRusbl"
      },
      "outputs": [],
      "source": [
        "# corr = acc_mes_merge.corr()\n",
        "\n",
        "# cmap = sns.diverging_palette(250, 10, as_cmap=True)\n",
        "\n",
        "# fig = plt.figure(figsize=(20,15))\n",
        "# sns.heatmap(corr, cmap=cmap, annot=True);"
      ]
    },
    {
      "cell_type": "markdown",
      "metadata": {
        "id": "hHsFt6ObvlfN"
      },
      "source": [
        "###MERGE ACC & ORD"
      ]
    },
    {
      "cell_type": "code",
      "execution_count": null,
      "metadata": {
        "id": "hAELPD7xvpA2"
      },
      "outputs": [],
      "source": [
        "acc_ord_merge = pd.merge(acc, ord_group, how='left', on='AccountID')"
      ]
    },
    {
      "cell_type": "code",
      "execution_count": null,
      "metadata": {
        "id": "iBynV40ixCNK"
      },
      "outputs": [],
      "source": [
        "corr = acc_ord_merge.corr()\n",
        "\n",
        "cmap = sns.diverging_palette(250, 10, as_cmap=True)\n",
        "\n",
        "fig = plt.figure(figsize=(20,15))\n",
        "sns.heatmap(corr, cmap=cmap, annot=True);"
      ]
    },
    {
      "cell_type": "markdown",
      "metadata": {
        "id": "tWXpnzyqxKf4"
      },
      "source": [
        "##MERGE GERAL"
      ]
    },
    {
      "cell_type": "code",
      "execution_count": null,
      "metadata": {
        "id": "X4y81fvsxMhF"
      },
      "outputs": [],
      "source": [
        "# df merge com 3 tabelas (accounts, movements, monthly)\n",
        "\n",
        "acc_mov_mes_merge = pd.merge(acc_mov_merge, mes_group, how='left', on=['AccountID', 'previous_results'])"
      ]
    },
    {
      "cell_type": "code",
      "execution_count": null,
      "metadata": {
        "id": "w5xQsLBoxr6w"
      },
      "outputs": [],
      "source": [
        "# df merge com todas tabelas (account, movements, monthly, orders)\n",
        "\n",
        "df_final_merge = pd.merge(acc_mov_mes_merge, ord_group, how='left', on=['AccountID', 'previous_results'])"
      ]
    },
    {
      "cell_type": "code",
      "execution_count": null,
      "metadata": {
        "id": "MCFA_2rKx5L0"
      },
      "outputs": [],
      "source": [
        "corr = df_final_merge.corr()\n",
        "\n",
        "cmap = sns.diverging_palette(250, 10, as_cmap=True)\n",
        "\n",
        "fig = plt.figure(figsize=(23,15))\n",
        "sns.heatmap(corr, cmap=cmap, annot=True);"
      ]
    },
    {
      "cell_type": "markdown",
      "metadata": {
        "id": "8bDA6HIbdEGo"
      },
      "source": [
        "São muitas colunas. No momento rodamos o modelo com todas, mas é interessante selecionar as colunas, criar novos modelos e compará-los."
      ]
    },
    {
      "cell_type": "markdown",
      "metadata": {
        "id": "onPIizbekgNj"
      },
      "source": [
        "Depois iremos renomear as colunas, mas é possível entender o significado de cada observando o 'Groupby' de cada tabela.\n",
        "\n",
        "Basicamente selecionamos algumas colunas de cada tabela e utilizamos as operações: nunique, count e mean."
      ]
    },
    {
      "cell_type": "code",
      "execution_count": null,
      "metadata": {
        "id": "iWvlIGGheK7h"
      },
      "outputs": [],
      "source": [
        "df_final_merge.info()"
      ]
    },
    {
      "cell_type": "markdown",
      "metadata": {
        "id": "q4hsBOszebZF"
      },
      "source": [
        "Após o Merge(Left), alguns registros ficaram com valores nulos pois eles estão presentes na tabela accounts mas não estavam nas tabelas monthly e orders.\n",
        "\n",
        "Preenchi nulos com 0, depois podemos testar outras abordagens."
      ]
    },
    {
      "cell_type": "code",
      "execution_count": null,
      "metadata": {
        "id": "ccI7fkyX5bh9"
      },
      "outputs": [],
      "source": [
        "#Teste\n",
        "df_final_merge.head(3)"
      ]
    },
    {
      "cell_type": "code",
      "execution_count": null,
      "metadata": {
        "id": "is7O0JFI5iXA"
      },
      "outputs": [],
      "source": [
        "#teste\n",
        "acc_mov_merge.head(3)"
      ]
    },
    {
      "cell_type": "code",
      "execution_count": null,
      "metadata": {
        "id": "ZCsTerp56SoM"
      },
      "outputs": [],
      "source": [
        "#teste\n",
        "#Cria um novo dataframe com o merge da tabela Accounts e Movements + 5 colunas\n",
        "#das tabelas Monthly e Orders ('AccountID_count_y', 'ProductCategory_nunique_x', 'Symbol_nunique_x', 'AccountID_count', 'Symbol_nunique_y')\n",
        "df_modelo = pd.merge(acc_mov_merge, df_final_merge[['AccountID', 'previous_results', 'AccountID_count_y', 'ProductCategory_nunique_x', 'Symbol_nunique_x', 'AccountID_count', 'Symbol_nunique_y', 'DateOrders_delta_max' ]], how='left', on=['AccountID', 'previous_results'])"
      ]
    },
    {
      "cell_type": "code",
      "execution_count": null,
      "metadata": {
        "id": "CnP95pYL8VYL"
      },
      "outputs": [],
      "source": [
        "df_modelo.head(3)"
      ]
    },
    {
      "cell_type": "code",
      "execution_count": null,
      "metadata": {
        "id": "3dwoH_Vq8kaZ"
      },
      "outputs": [],
      "source": [
        "#teste\n",
        "df_modelo.info()"
      ]
    },
    {
      "cell_type": "code",
      "execution_count": null,
      "metadata": {
        "id": "uMdDY8omeQN-"
      },
      "outputs": [],
      "source": [
        "df_modelo = df_modelo.drop(columns=['AccountID','PersonMailingState', 'AmountTotalDol_mean', 'AmountTotalDol_sum'])"
      ]
    },
    {
      "cell_type": "code",
      "execution_count": null,
      "metadata": {
        "id": "O5VYj2_J8e2r"
      },
      "outputs": [],
      "source": [
        "#teste\n",
        "df_modelo = df_modelo.fillna(0)"
      ]
    },
    {
      "cell_type": "code",
      "execution_count": null,
      "metadata": {
        "id": "s-DJNKXdfJnN"
      },
      "outputs": [],
      "source": [
        "df_modelo = pd.get_dummies(df_modelo, columns=['SubscriptionPlan', 'MaritalStatus'], drop_first=True)\n",
        "df_modelo.head()"
      ]
    },
    {
      "cell_type": "markdown",
      "metadata": {
        "id": "o1AlbYMwe0n9"
      },
      "source": [
        "Essas são as variáveis utilizadas no modelo e suas correlações com o alvo (EVADED)"
      ]
    },
    {
      "cell_type": "code",
      "execution_count": null,
      "metadata": {
        "id": "17t8wJFjfTbF"
      },
      "outputs": [],
      "source": [
        "corr = df_modelo.corr()\n",
        "\n",
        "cmap = sns.diverging_palette(250, 10, as_cmap=True)\n",
        "\n",
        "fig = plt.figure(figsize=(16,10))\n",
        "sns.heatmap(corr, cmap=cmap, annot=True);"
      ]
    },
    {
      "cell_type": "markdown",
      "metadata": {
        "id": "6IrP90HIpuPB"
      },
      "source": [
        "#4.Modelling"
      ]
    },
    {
      "cell_type": "markdown",
      "metadata": {
        "id": "6nEkm673dHSq"
      },
      "source": [
        "Pré-processamento"
      ]
    },
    {
      "cell_type": "code",
      "execution_count": null,
      "metadata": {
        "id": "g7oPwwzezpaC"
      },
      "outputs": [],
      "source": [
        "df_modelo.head()"
      ]
    },
    {
      "cell_type": "code",
      "source": [
        "df_modelo.shape"
      ],
      "metadata": {
        "id": "_r9SW_a8joZY"
      },
      "execution_count": null,
      "outputs": []
    },
    {
      "cell_type": "markdown",
      "metadata": {
        "id": "5jkK9NuqgJqK"
      },
      "source": [
        "Removendo colunas com datas e dados textuais."
      ]
    },
    {
      "cell_type": "code",
      "execution_count": null,
      "metadata": {
        "id": "iBWDyaOt9o2F"
      },
      "outputs": [],
      "source": [
        "#teste\n",
        "x = df_modelo.drop(columns=['Evaded'])\n",
        "\n",
        "y = df_modelo['Evaded']"
      ]
    },
    {
      "cell_type": "code",
      "execution_count": null,
      "metadata": {
        "id": "xo_X4fsLeQ_b"
      },
      "outputs": [],
      "source": [
        "# x = df_final_merge.drop(columns=['Evaded', 'AccountID', 'Function', 'PersonMailingState', 'DateMovement_min',\n",
        "#                                  'DateMovement_max', 'DateMes_min', 'DateMes_max', 'DateOrders_min', 'DateOrders_max'])\n",
        "\n",
        "# y = df_final_merge['Evaded']"
      ]
    },
    {
      "cell_type": "markdown",
      "metadata": {
        "id": "elZ7HNulhmKJ"
      },
      "source": [
        "Importando as bibliotecas de modelagem + divisão treino/teste"
      ]
    },
    {
      "cell_type": "code",
      "execution_count": null,
      "metadata": {
        "id": "ubmBoyeed7GN"
      },
      "outputs": [],
      "source": [
        "from sklearn.metrics import accuracy_score, f1_score, roc_auc_score, plot_confusion_matrix\n",
        "from sklearn.tree import DecisionTreeClassifier\n",
        "from sklearn.model_selection import train_test_split\n",
        "\n",
        "x_train, x_test, y_train, y_test = train_test_split(x, y, test_size=0.3, random_state=123)"
      ]
    },
    {
      "cell_type": "markdown",
      "metadata": {
        "id": "TxX4AUZmhrm8"
      },
      "source": [
        "Árvore de decisão"
      ]
    },
    {
      "cell_type": "code",
      "execution_count": null,
      "metadata": {
        "id": "6NuY3nVmfMjC"
      },
      "outputs": [],
      "source": [
        "treed = DecisionTreeClassifier(random_state=123).fit(x_train, y_train)\n",
        "y_tree = treed.predict(x_test)\n",
        "print(f\"Acurácia: {accuracy_score(y_test, y_tree)}\")\n",
        "print(f\"F1 Score: {f1_score(y_test,y_tree)}\")\n",
        "print(f\"ROC AUC: {roc_auc_score(y_test,y_tree)}\")"
      ]
    },
    {
      "cell_type": "markdown",
      "metadata": {
        "id": "5BO8sHlLv5MY"
      },
      "source": [
        "Floresta aleatória"
      ]
    },
    {
      "cell_type": "code",
      "execution_count": null,
      "metadata": {
        "id": "PxAdyPddwL1o"
      },
      "outputs": [],
      "source": [
        "from sklearn.ensemble import RandomForestClassifier\n",
        "\n",
        "rand = RandomForestClassifier().fit(x_train, y_train)\n",
        "\n",
        "y_rand = rand.predict(x_test)\n",
        "\n",
        "print(f\"Acurácia: {accuracy_score(y_test, y_rand)}\")\n",
        "print(f\"F1 Score: {f1_score(y_test,y_rand)}\")\n",
        "print(f\"ROC AUC: {roc_auc_score(y_test,y_rand)}\")"
      ]
    },
    {
      "cell_type": "code",
      "execution_count": null,
      "metadata": {
        "id": "OYcjc4z-qGbL"
      },
      "outputs": [],
      "source": [
        "plot_confusion_matrix(rand, x_test, y_test);"
      ]
    },
    {
      "cell_type": "markdown",
      "source": [
        "##Prevendo as probabilidades"
      ],
      "metadata": {
        "id": "esDfW9nQ-ljh"
      }
    },
    {
      "cell_type": "markdown",
      "source": [
        "O código da etapa anterior prevê a classe, para prever a probabilidade de classes utilizar \"rand.predict_proba(x_test)\""
      ],
      "metadata": {
        "id": "h6VkAgwg-pFK"
      }
    },
    {
      "cell_type": "markdown",
      "source": [
        "Probabilidades de classes"
      ],
      "metadata": {
        "id": "QE4MZ6-VAca6"
      }
    },
    {
      "cell_type": "code",
      "source": [
        "y_probs = rand.predict_proba(x_test)\n",
        "y_probs"
      ],
      "metadata": {
        "id": "OslAD0tp-7Pu"
      },
      "execution_count": null,
      "outputs": []
    },
    {
      "cell_type": "code",
      "source": [
        "probabilidades = rand.predict_proba(x)\n",
        "df_results = pd.DataFrame(probabilidades, columns=['prob_ativo', 'prob_churn'])\n",
        "df_results['Evaded'] = y\n",
        "df_results"
      ],
      "metadata": {
        "id": "89ndWcVftSbR"
      },
      "execution_count": null,
      "outputs": []
    },
    {
      "cell_type": "markdown",
      "metadata": {
        "id": "MXinG-A4kat6"
      },
      "source": [
        "##7. Exportando as tabelas"
      ]
    },
    {
      "cell_type": "code",
      "execution_count": null,
      "metadata": {
        "id": "vTIcjX0KkwpZ"
      },
      "outputs": [],
      "source": [
        "# #merge: accounts + mov_group\n",
        "df_modelo.to_csv('df_final_merge.csv')"
      ]
    },
    {
      "cell_type": "markdown",
      "metadata": {
        "id": "aA8mjukSR_98"
      },
      "source": [
        "## 8.Shap"
      ]
    },
    {
      "cell_type": "code",
      "execution_count": null,
      "metadata": {
        "id": "KLwKFx0l-LNG"
      },
      "outputs": [],
      "source": [
        "import shap\n"
      ]
    },
    {
      "cell_type": "markdown",
      "metadata": {
        "id": "TL5aWXJb6U5S"
      },
      "source": [
        "2 novos objetos foram criados: explainer e shap_values"
      ]
    },
    {
      "cell_type": "code",
      "execution_count": null,
      "metadata": {
        "id": "mhu1VsTI-9Xm"
      },
      "outputs": [],
      "source": [
        "explainer = shap.TreeExplainer(treed)\n",
        "shap_values = explainer.shap_values(x_train, y_train)\n",
        "expected_value = explainer.expected_value"
      ]
    },
    {
      "cell_type": "code",
      "execution_count": null,
      "metadata": {
        "id": "2VR7FO2d6lZR"
      },
      "outputs": [],
      "source": [
        "shap_values\n"
      ]
    },
    {
      "cell_type": "markdown",
      "metadata": {
        "id": "hnEwBq0h59P2"
      },
      "source": [
        "Foi utilizado xtrain porque é a variável utilizada pra criar o modelo. Portanto o objetivo é entender os padrões desse modelo e as relações que ele está capturando.\n",
        "**expected_value** é a previsão média"
      ]
    },
    {
      "cell_type": "code",
      "execution_count": null,
      "metadata": {
        "id": "BqiYLuzd9qVd"
      },
      "outputs": [],
      "source": [
        "shap_values[1].shape"
      ]
    },
    {
      "cell_type": "code",
      "execution_count": null,
      "metadata": {
        "id": "4OYX3tuKHHWJ"
      },
      "outputs": [],
      "source": [
        "shap.initjs()\n",
        "shap.force_plot(explainer.expected_value[1], shap_values[1][1,:],x_train.iloc[1,:])"
      ]
    },
    {
      "cell_type": "markdown",
      "metadata": {
        "id": "IfiY0oUw-LR7"
      },
      "source": [
        "**Sobre o gráfico acima:**\n",
        "Probablidade de 0,85\n",
        "Nos mostra o quanto cada feature contribuiu para essa probabilidade passar do valor base de 0,484 para 0,85.\n",
        "***???AccountID_count_y ser o de maior expressão.***"
      ]
    },
    {
      "cell_type": "code",
      "execution_count": null,
      "metadata": {
        "id": "kWFAceEI-5n_"
      },
      "outputs": [],
      "source": [
        "shap.initjs()\n",
        "shap.force_plot(explainer.expected_value[1], shap_values[1][0,:],x_train.iloc[0,:])"
      ]
    },
    {
      "cell_type": "code",
      "execution_count": null,
      "metadata": {
        "id": "Ck7u7Fm6AJUE"
      },
      "outputs": [],
      "source": [
        "#shap.force_plot(explainer.expected_value[1], shap_values[1], x_train)\n",
        "#Esse gráfico não ta rodando aqui, está dizendo que a RAM não é suficiente, se alguém conseguir colocar ele mostra para nossos exemplos as previsões e mostrar por similaridades entre as features."
      ]
    },
    {
      "cell_type": "code",
      "execution_count": null,
      "metadata": {
        "id": "P6XBSJ-rLKCl"
      },
      "outputs": [],
      "source": [
        "import xgboost"
      ]
    },
    {
      "cell_type": "markdown",
      "metadata": {
        "id": "Lc00rCQOBf1b"
      },
      "source": [
        "**summary_plot**\n",
        "Mostra quais as features mais importantes.\n",
        "Shap_values = o impacto na previsão do modelo. Pelo gráfico abaixo parece que todas impactam de forma parecida no modelo.\n",
        "**???**Os dados do lado direito do eixo central mostra o quanto cada uma impacta na probabilidade de um cliente se tornar churn e no lado esquerno quanto diminui essa probabilidade.\n",
        "**???** O fato de ter o acumulo de dados no centro quer dizer que o modelo não sabe pra qual lado escolher?"
      ]
    },
    {
      "cell_type": "code",
      "execution_count": null,
      "metadata": {
        "id": "wvvnnsrcHq0X"
      },
      "outputs": [],
      "source": [
        "shap.summary_plot(shap_values[1],  x_train, plot_type=\"dot\", plot_size=(20,15))"
      ]
    },
    {
      "cell_type": "code",
      "source": [
        "x.columns ['AccountID_count_y', 'DateMovement_delta_max', 'DateOrders_delta_max', 'ProductCategory_nunique_x',\n",
        "           'Age', 'AccountID_count_x', 'Symbol_nunique_y', 'Description_nunique', 'AccountID_count_y']"
      ],
      "metadata": {
        "id": "yBko_1XUQdec"
      },
      "execution_count": null,
      "outputs": []
    },
    {
      "cell_type": "code",
      "execution_count": null,
      "metadata": {
        "id": "yeMTz-w3I27c"
      },
      "outputs": [],
      "source": [
        "# Contribução de Importância das variáveis\n",
        "shap.summary_plot(shap_values[1], x_train, plot_type=\"bar\", plot_size=(20,15));"
      ]
    },
    {
      "cell_type": "code",
      "execution_count": null,
      "metadata": {
        "id": "Y4WuL5epMc93"
      },
      "outputs": [],
      "source": [
        "#Impacto das variáveis em uma predição específica do modelo versão Waterfall Plot\n",
        "shap.plots._waterfall.waterfall_legacy(expected_value=expected_value[1], shap_values=shap_values[1][3].reshape(-1), feature_names=x_train.columns, show=True)\n"
      ]
    },
    {
      "cell_type": "code",
      "execution_count": null,
      "metadata": {
        "id": "P3NrZPvVKyql"
      },
      "outputs": [],
      "source": [
        "# Impacto das variáveis em uma predição específica do modelo versão Line Plot\n",
        "shap.decision_plot(base_value=expected_value[1], shap_values=shap_values[1][3], features=x_train.iloc[3,:],highlight=0)\n"
      ]
    },
    {
      "cell_type": "markdown",
      "metadata": {
        "id": "DExJQNaQExbw"
      },
      "source": [
        "Os gráficos abaixo podem ser análisados 1 para cada feature.\n",
        "Quanto maior os dados do eixo y maior a probabilidade de ser da classe 1."
      ]
    },
    {
      "cell_type": "code",
      "execution_count": null,
      "metadata": {
        "id": "Tf0gpVEGLfex"
      },
      "outputs": [],
      "source": [
        "shap.dependence_plot(\"AccountID_count_y\",shap_values[1], x_train, interaction_index = None)\n",
        "#interaction_index = None foi usado para que o gráfico não colocasse 3 variáveis"
      ]
    },
    {
      "cell_type": "code",
      "execution_count": null,
      "metadata": {
        "id": "0pTS79udEodP"
      },
      "outputs": [],
      "source": [
        "shap.dependence_plot(\"Age\",shap_values[1], x_train, interaction_index = None)"
      ]
    },
    {
      "cell_type": "markdown",
      "metadata": {
        "id": "yJkN72NTFy_T"
      },
      "source": [
        "Esse gráfico da idade mostra sutilmente que quanto mais novo maior a probabilidade de se tornar churn. Mas os dados estão tão espalhados que é muito sútil essa interpretação, não parece muito definido essa informaçãp."
      ]
    }
  ],
  "metadata": {
    "colab": {
      "provenance": []
    },
    "kernelspec": {
      "display_name": "Python 3",
      "name": "python3"
    },
    "language_info": {
      "name": "python"
    }
  },
  "nbformat": 4,
  "nbformat_minor": 0
}